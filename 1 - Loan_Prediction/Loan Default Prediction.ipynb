{
 "cells": [
  {
   "cell_type": "markdown",
   "metadata": {
    "_cell_guid": "83708667-4fdc-1563-7b3a-06b6575d2865"
   },
   "source": [
    "# Loan Default Prediction\n",
    "\n",
    "The goal of this case study is to build a machine learning model to predict the probability that a loan will default. By the end of the analysis you should be able to recommend a choice of model and associated hyperparameters."
   ]
  },
  {
   "cell_type": "code",
   "execution_count": 1,
   "metadata": {},
   "outputs": [],
   "source": [
    "# Disable the warnings\n",
    "import warnings\n",
    "warnings.filterwarnings('ignore')"
   ]
  },
  {
   "cell_type": "markdown",
   "metadata": {},
   "source": [
    "## Overview"
   ]
  },
  {
   "cell_type": "markdown",
   "metadata": {},
   "source": [
    "* [1. Problem Definition](#0)\n",
    "* [2. Getting Started - Load Libraries and Dataset](#1)\n",
    "    * [2.1. Load Libraries](#1.1)    \n",
    "    * [2.2. Load Dataset](#1.2)\n",
    "* [3. Data Preparation and Feature Selection](#2)\n",
    "    * [3.1. Preparing the predicted variable](#2.1)    \n",
    "    * [3.2. Feature Selection-Limit the Feature Space](#2.2)\n",
    "        * [3.2.1.  Features elimination by significant missing values ](#2.2.1)\n",
    "        * [3.2.2.  Features elimination based on the intutiveness](#2.2.2)\n",
    "        * [3.2.3.  Features elimination based on the correlation](#2.2.3)   \n",
    "* [4. Feature Engineering and Exploratory Analysis](#3)\n",
    "    * [4.1 Feature Analysis and Exploration](#3.1)\n",
    "        * [4.1.1. Analysing the categorical features](#3.1.1)\n",
    "        * [4.1.2  Analysing the continuous features ](#3.1.2) \n",
    "    * [4.2.Encoding Categorical Data](#3.2)\n",
    "    * [4.3.Sampling Data](#3.3)    \n",
    "* [5.Evaluate Algorithms and Models](#4)        \n",
    "    * [5.1. Train/Test Split](#4.1)\n",
    "    * [5.2. Test Options and Evaluation Metrics](#4.2)\n",
    "    * [5.3. Compare Models and Algorithms](#4.3)\n",
    "* [6. Model Tuning and Grid Search](#5)  \n",
    "* [7. Finalize the Model](#6)  \n",
    "    * [7.1. Results on test dataset](#6.1)\n",
    "    * [7.1. Variable Intuition/Feature Selection](#6.2) \n",
    "    * [7.3. Save model for later use](#6.3)\n"
   ]
  },
  {
   "cell_type": "markdown",
   "metadata": {},
   "source": [
    "<a id='0'></a>\n",
    "# <u> 1. Problem Definition"
   ]
  },
  {
   "cell_type": "markdown",
   "metadata": {},
   "source": [
    "This case study aims to analyze data for loans through 2007-2017Q3 from Lending Club available on Kaggle. Dataset contains over 887 thousand observations and 150 variables among which one is describing the loan status. The predicted variable is “Charge-Off ”. A charge-off is a debt that a creditor has given up trying to collect on after you’ve missed payments for several months. You want a model that can predict charge-off."
   ]
  },
  {
   "cell_type": "markdown",
   "metadata": {},
   "source": [
    "<a id='1'></a>\n",
    "# <u>2. Loading the data and python packages"
   ]
  },
  {
   "cell_type": "markdown",
   "metadata": {},
   "source": [
    "<a id='1.1'></a>\n",
    "## 2.1.Python packages "
   ]
  },
  {
   "cell_type": "code",
   "execution_count": 2,
   "metadata": {
    "_cell_guid": "5d8fee34-f454-2642-8b06-ed719f0317e1"
   },
   "outputs": [],
   "source": [
    "import numpy as np\n",
    "import pandas as pd\n",
    "import matplotlib.pyplot as plt\n",
    "import seaborn as sns\n",
    "import math\n",
    "from sklearn.preprocessing import StandardScaler\n",
    "from sklearn.model_selection import train_test_split\n",
    "from sklearn.model_selection import  GridSearchCV, train_test_split\n",
    "from sklearn.metrics import accuracy_score, classification_report, confusion_matrix, roc_curve, auc\n",
    "from sklearn.model_selection import cross_val_score, KFold\n",
    "from sklearn.metrics import make_scorer, roc_auc_score\n",
    "from sklearn.metrics import accuracy_score, classification_report"
   ]
  },
  {
   "cell_type": "markdown",
   "metadata": {},
   "source": [
    "<a id='1.2'></a>\n",
    "## 2.2. Loading the Data"
   ]
  },
  {
   "cell_type": "markdown",
   "metadata": {},
   "source": [
    "loading zipped data"
   ]
  },
  {
   "cell_type": "code",
   "execution_count": 3,
   "metadata": {
    "_cell_guid": "787e35f7-bf9e-0969-8d13-a54fa87f3519",
    "scrolled": true
   },
   "outputs": [
    {
     "data": {
      "text/html": [
       "<div>\n",
       "<style scoped>\n",
       "    .dataframe tbody tr th:only-of-type {\n",
       "        vertical-align: middle;\n",
       "    }\n",
       "\n",
       "    .dataframe tbody tr th {\n",
       "        vertical-align: top;\n",
       "    }\n",
       "\n",
       "    .dataframe thead th {\n",
       "        text-align: right;\n",
       "    }\n",
       "</style>\n",
       "<table border=\"1\" class=\"dataframe\">\n",
       "  <thead>\n",
       "    <tr style=\"text-align: right;\">\n",
       "      <th></th>\n",
       "      <th>id</th>\n",
       "      <th>member_id</th>\n",
       "      <th>loan_amnt</th>\n",
       "      <th>funded_amnt</th>\n",
       "      <th>funded_amnt_inv</th>\n",
       "      <th>term</th>\n",
       "      <th>int_rate</th>\n",
       "      <th>installment</th>\n",
       "      <th>grade</th>\n",
       "      <th>sub_grade</th>\n",
       "      <th>...</th>\n",
       "      <th>hardship_payoff_balance_amount</th>\n",
       "      <th>hardship_last_payment_amount</th>\n",
       "      <th>disbursement_method</th>\n",
       "      <th>debt_settlement_flag</th>\n",
       "      <th>debt_settlement_flag_date</th>\n",
       "      <th>settlement_status</th>\n",
       "      <th>settlement_date</th>\n",
       "      <th>settlement_amount</th>\n",
       "      <th>settlement_percentage</th>\n",
       "      <th>settlement_term</th>\n",
       "    </tr>\n",
       "  </thead>\n",
       "  <tbody>\n",
       "    <tr>\n",
       "      <th>0</th>\n",
       "      <td>38098114</td>\n",
       "      <td>NaN</td>\n",
       "      <td>15000.0</td>\n",
       "      <td>15000.0</td>\n",
       "      <td>15000.0</td>\n",
       "      <td>60 months</td>\n",
       "      <td>12.39</td>\n",
       "      <td>336.64</td>\n",
       "      <td>C</td>\n",
       "      <td>C1</td>\n",
       "      <td>...</td>\n",
       "      <td>NaN</td>\n",
       "      <td>NaN</td>\n",
       "      <td>Cash</td>\n",
       "      <td>N</td>\n",
       "      <td>NaN</td>\n",
       "      <td>NaN</td>\n",
       "      <td>NaN</td>\n",
       "      <td>NaN</td>\n",
       "      <td>NaN</td>\n",
       "      <td>NaN</td>\n",
       "    </tr>\n",
       "    <tr>\n",
       "      <th>1</th>\n",
       "      <td>36805548</td>\n",
       "      <td>NaN</td>\n",
       "      <td>10400.0</td>\n",
       "      <td>10400.0</td>\n",
       "      <td>10400.0</td>\n",
       "      <td>36 months</td>\n",
       "      <td>6.99</td>\n",
       "      <td>321.08</td>\n",
       "      <td>A</td>\n",
       "      <td>A3</td>\n",
       "      <td>...</td>\n",
       "      <td>NaN</td>\n",
       "      <td>NaN</td>\n",
       "      <td>Cash</td>\n",
       "      <td>N</td>\n",
       "      <td>NaN</td>\n",
       "      <td>NaN</td>\n",
       "      <td>NaN</td>\n",
       "      <td>NaN</td>\n",
       "      <td>NaN</td>\n",
       "      <td>NaN</td>\n",
       "    </tr>\n",
       "    <tr>\n",
       "      <th>2</th>\n",
       "      <td>37842129</td>\n",
       "      <td>NaN</td>\n",
       "      <td>21425.0</td>\n",
       "      <td>21425.0</td>\n",
       "      <td>21425.0</td>\n",
       "      <td>60 months</td>\n",
       "      <td>15.59</td>\n",
       "      <td>516.36</td>\n",
       "      <td>D</td>\n",
       "      <td>D1</td>\n",
       "      <td>...</td>\n",
       "      <td>NaN</td>\n",
       "      <td>NaN</td>\n",
       "      <td>Cash</td>\n",
       "      <td>N</td>\n",
       "      <td>NaN</td>\n",
       "      <td>NaN</td>\n",
       "      <td>NaN</td>\n",
       "      <td>NaN</td>\n",
       "      <td>NaN</td>\n",
       "      <td>NaN</td>\n",
       "    </tr>\n",
       "    <tr>\n",
       "      <th>3</th>\n",
       "      <td>37612354</td>\n",
       "      <td>NaN</td>\n",
       "      <td>12800.0</td>\n",
       "      <td>12800.0</td>\n",
       "      <td>12800.0</td>\n",
       "      <td>60 months</td>\n",
       "      <td>17.14</td>\n",
       "      <td>319.08</td>\n",
       "      <td>D</td>\n",
       "      <td>D4</td>\n",
       "      <td>...</td>\n",
       "      <td>NaN</td>\n",
       "      <td>NaN</td>\n",
       "      <td>Cash</td>\n",
       "      <td>N</td>\n",
       "      <td>NaN</td>\n",
       "      <td>NaN</td>\n",
       "      <td>NaN</td>\n",
       "      <td>NaN</td>\n",
       "      <td>NaN</td>\n",
       "      <td>NaN</td>\n",
       "    </tr>\n",
       "    <tr>\n",
       "      <th>4</th>\n",
       "      <td>37662224</td>\n",
       "      <td>NaN</td>\n",
       "      <td>7650.0</td>\n",
       "      <td>7650.0</td>\n",
       "      <td>7650.0</td>\n",
       "      <td>36 months</td>\n",
       "      <td>13.66</td>\n",
       "      <td>260.20</td>\n",
       "      <td>C</td>\n",
       "      <td>C3</td>\n",
       "      <td>...</td>\n",
       "      <td>NaN</td>\n",
       "      <td>NaN</td>\n",
       "      <td>Cash</td>\n",
       "      <td>N</td>\n",
       "      <td>NaN</td>\n",
       "      <td>NaN</td>\n",
       "      <td>NaN</td>\n",
       "      <td>NaN</td>\n",
       "      <td>NaN</td>\n",
       "      <td>NaN</td>\n",
       "    </tr>\n",
       "  </tbody>\n",
       "</table>\n",
       "<p>5 rows × 150 columns</p>\n",
       "</div>"
      ],
      "text/plain": [
       "         id  member_id  loan_amnt  funded_amnt  funded_amnt_inv        term  \\\n",
       "0  38098114        NaN    15000.0      15000.0          15000.0   60 months   \n",
       "1  36805548        NaN    10400.0      10400.0          10400.0   36 months   \n",
       "2  37842129        NaN    21425.0      21425.0          21425.0   60 months   \n",
       "3  37612354        NaN    12800.0      12800.0          12800.0   60 months   \n",
       "4  37662224        NaN     7650.0       7650.0           7650.0   36 months   \n",
       "\n",
       "   int_rate  installment grade sub_grade  ... hardship_payoff_balance_amount  \\\n",
       "0     12.39       336.64     C        C1  ...                            NaN   \n",
       "1      6.99       321.08     A        A3  ...                            NaN   \n",
       "2     15.59       516.36     D        D1  ...                            NaN   \n",
       "3     17.14       319.08     D        D4  ...                            NaN   \n",
       "4     13.66       260.20     C        C3  ...                            NaN   \n",
       "\n",
       "  hardship_last_payment_amount disbursement_method  debt_settlement_flag  \\\n",
       "0                          NaN                Cash                     N   \n",
       "1                          NaN                Cash                     N   \n",
       "2                          NaN                Cash                     N   \n",
       "3                          NaN                Cash                     N   \n",
       "4                          NaN                Cash                     N   \n",
       "\n",
       "  debt_settlement_flag_date settlement_status settlement_date  \\\n",
       "0                       NaN               NaN             NaN   \n",
       "1                       NaN               NaN             NaN   \n",
       "2                       NaN               NaN             NaN   \n",
       "3                       NaN               NaN             NaN   \n",
       "4                       NaN               NaN             NaN   \n",
       "\n",
       "  settlement_amount settlement_percentage settlement_term  \n",
       "0               NaN                   NaN             NaN  \n",
       "1               NaN                   NaN             NaN  \n",
       "2               NaN                   NaN             NaN  \n",
       "3               NaN                   NaN             NaN  \n",
       "4               NaN                   NaN             NaN  \n",
       "\n",
       "[5 rows x 150 columns]"
      ]
     },
     "execution_count": 3,
     "metadata": {},
     "output_type": "execute_result"
    }
   ],
   "source": [
    "dataset = pd.read_csv('LoansData_sample.csv.gz', compression='gzip', encoding='utf-8')\n",
    "dataset.set_index(dataset.columns[0], inplace=True)\n",
    "dataset.index.name = None\n",
    "dataset.head()"
   ]
  },
  {
   "cell_type": "code",
   "execution_count": 4,
   "metadata": {},
   "outputs": [
    {
     "name": "stdout",
     "output_type": "stream",
     "text": [
      "\n",
      "54 number-type columns contain missing values:\n",
      "\n",
      "member_id                                     100000\n",
      "revol_bal_joint                               100000\n",
      "inq_fi                                        100000\n",
      "sec_app_num_rev_accts                         100000\n",
      "inq_last_12m                                  100000\n",
      "sec_app_mths_since_last_major_derog           100000\n",
      "sec_app_collections_12_mths_ex_med            100000\n",
      "sec_app_chargeoff_within_12_mths              100000\n",
      "sec_app_fico_range_low                        100000\n",
      "max_bal_bc                                    100000\n",
      "sec_app_fico_range_high                       100000\n",
      "sec_app_earliest_cr_line                      100000\n",
      "sec_app_inq_last_6mths                        100000\n",
      "sec_app_mort_acc                              100000\n",
      "sec_app_open_acc                              100000\n",
      "sec_app_revol_util                            100000\n",
      "all_util                                      100000\n",
      "total_cu_tl                                   100000\n",
      "open_rv_24m                                   100000\n",
      "mths_since_rcnt_il                            100000\n",
      "annual_inc_joint                              100000\n",
      "dti_joint                                     100000\n",
      "verification_status_joint                     100000\n",
      "open_acc_6m                                   100000\n",
      "open_act_il                                   100000\n",
      "open_il_12m                                   100000\n",
      "open_rv_12m                                   100000\n",
      "open_il_24m                                   100000\n",
      "total_bal_il                                  100000\n",
      "il_util                                       100000\n",
      "sec_app_open_act_il                           100000\n",
      "orig_projected_additional_accrued_interest     99848\n",
      "deferral_term                                  99815\n",
      "hardship_amount                                99815\n",
      "hardship_length                                99815\n",
      "hardship_dpd                                   99815\n",
      "hardship_payoff_balance_amount                 99815\n",
      "hardship_last_payment_amount                   99815\n",
      "settlement_amount                              98710\n",
      "settlement_percentage                          98710\n",
      "settlement_term                                98710\n",
      "mths_since_last_record                         83268\n",
      "mths_since_recent_bc_dlq                       73545\n",
      "mths_since_last_major_derog                    72059\n",
      "mths_since_recent_revol_delinq                 63814\n",
      "mths_since_last_delinq                         48703\n",
      "mths_since_recent_inq                           9818\n",
      "mo_sin_old_il_acct                              3007\n",
      "num_tl_120dpd_2m                                1956\n",
      "bc_util                                         1198\n",
      "percent_bc_gt_75                                1161\n",
      "bc_open_to_buy                                  1135\n",
      "mths_since_recent_bc                            1049\n",
      "revol_util                                        56\n",
      "dtype: int64\n",
      "\n",
      "16 object-type columns contain missing values:\n",
      "\n",
      "desc                         99993\n",
      "hardship_type                99815\n",
      "hardship_reason              99815\n",
      "hardship_status              99815\n",
      "hardship_start_date          99815\n",
      "hardship_end_date            99815\n",
      "payment_plan_start_date      99815\n",
      "hardship_loan_status         99815\n",
      "debt_settlement_flag_date    98710\n",
      "settlement_status            98710\n",
      "settlement_date              98710\n",
      "next_pymnt_d                 86138\n",
      "emp_title                     5264\n",
      "emp_length                    5259\n",
      "last_pymnt_d                    67\n",
      "last_credit_pull_d              17\n",
      "dtype: int64\n"
     ]
    }
   ],
   "source": [
    "# We explore which features (classifying them into numerical and categorical) have missing values and we count how many missing values each feature has\n",
    "for i in [\"number\",\"object\"]:\n",
    "    missing_df=dataset.select_dtypes(i).isnull().sum()[dataset.select_dtypes(i).isnull().sum()!=0].sort_values(ascending=False)\n",
    "    print(\"\\n\"+str(len(missing_df))+ \" \" + i + \"-type columns contain missing values:\",missing_df,sep=\"\\n\\n\")"
   ]
  },
  {
   "cell_type": "code",
   "execution_count": 5,
   "metadata": {},
   "outputs": [
    {
     "name": "stdout",
     "output_type": "stream",
     "text": [
      "The shape of the dataset is:\n"
     ]
    },
    {
     "data": {
      "text/plain": [
       "(100000, 150)"
      ]
     },
     "execution_count": 5,
     "metadata": {},
     "output_type": "execute_result"
    }
   ],
   "source": [
    "print('The shape of the dataset is:')\n",
    "dataset.shape"
   ]
  },
  {
   "cell_type": "markdown",
   "metadata": {},
   "source": [
    "<a id='2'></a>\n",
    "# <u>3. Data Preparation and Feature Selection"
   ]
  },
  {
   "cell_type": "markdown",
   "metadata": {},
   "source": [
    "<a id='2.1'></a>\n",
    "## 3.1. Preparing the predicted variable\n"
   ]
  },
  {
   "cell_type": "markdown",
   "metadata": {},
   "source": [
    "The column to predict is loan_status. Looking at the values it takes and their counts."
   ]
  },
  {
   "cell_type": "code",
   "execution_count": 6,
   "metadata": {
    "scrolled": false
   },
   "outputs": [
    {
     "data": {
      "image/png": "[encoded data removed]",
      "text/plain": [
       "<Figure size 432x288 with 1 Axes>"
      ]
     },
     "metadata": {
      "needs_background": "light"
     },
     "output_type": "display_data"
    }
   ],
   "source": [
    "y = dataset['loan_status'].values\n",
    "#Plot how the values of the target value are distributed \n",
    "pd.Series(y).value_counts().plot(kind='bar')  # Convert the np.array of the target variable into a pd.series in order to apply the value_counts function\n",
    "plt.title('Class Distribution of the Target Variable')\n",
    "plt.xlabel('Classes')\n",
    "plt.ylabel('Number of examples')\n",
    "plt.show()"
   ]
  },
  {
   "cell_type": "code",
   "execution_count": 7,
   "metadata": {},
   "outputs": [
    {
     "name": "stdout",
     "output_type": "stream",
     "text": [
      "The percentages of the different classes are:\n"
     ]
    },
    {
     "data": {
      "text/html": [
       "<div>\n",
       "<style scoped>\n",
       "    .dataframe tbody tr th:only-of-type {\n",
       "        vertical-align: middle;\n",
       "    }\n",
       "\n",
       "    .dataframe tbody tr th {\n",
       "        vertical-align: top;\n",
       "    }\n",
       "\n",
       "    .dataframe thead th {\n",
       "        text-align: right;\n",
       "    }\n",
       "</style>\n",
       "<table border=\"1\" class=\"dataframe\">\n",
       "  <thead>\n",
       "    <tr style=\"text-align: right;\">\n",
       "      <th></th>\n",
       "      <th>Percentages</th>\n",
       "    </tr>\n",
       "  </thead>\n",
       "  <tbody>\n",
       "    <tr>\n",
       "      <th>Fully Paid</th>\n",
       "      <td>69.982</td>\n",
       "    </tr>\n",
       "    <tr>\n",
       "      <th>Charged Off</th>\n",
       "      <td>16.156</td>\n",
       "    </tr>\n",
       "    <tr>\n",
       "      <th>Current</th>\n",
       "      <td>12.726</td>\n",
       "    </tr>\n",
       "    <tr>\n",
       "      <th>Late (31-120 days)</th>\n",
       "      <td>0.730</td>\n",
       "    </tr>\n",
       "    <tr>\n",
       "      <th>In Grace Period</th>\n",
       "      <td>0.264</td>\n",
       "    </tr>\n",
       "    <tr>\n",
       "      <th>Late (16-30 days)</th>\n",
       "      <td>0.139</td>\n",
       "    </tr>\n",
       "    <tr>\n",
       "      <th>Default</th>\n",
       "      <td>0.003</td>\n",
       "    </tr>\n",
       "  </tbody>\n",
       "</table>\n",
       "</div>"
      ],
      "text/plain": [
       "                    Percentages\n",
       "Fully Paid               69.982\n",
       "Charged Off              16.156\n",
       "Current                  12.726\n",
       "Late (31-120 days)        0.730\n",
       "In Grace Period           0.264\n",
       "Late (16-30 days)         0.139\n",
       "Default                   0.003"
      ]
     },
     "execution_count": 7,
     "metadata": {},
     "output_type": "execute_result"
    }
   ],
   "source": [
    "print('The percentages of the different classes are:')\n",
    "perc = pd.Series(y).value_counts()/len(y)*100\n",
    "\n",
    "# We convert the results on a dataframe to visualize them better\n",
    "df = perc.to_frame(name='Percentages')\n",
    "df"
   ]
  },
  {
   "cell_type": "markdown",
   "metadata": {},
   "source": [
    "not considering loans that are current, don't meet the credit policy, defaulted, or have a missing status. So only keep the loans with status \"Fully Paid\" or \"Charged Off.\" Counting the number of each."
   ]
  },
  {
   "cell_type": "code",
   "execution_count": 8,
   "metadata": {},
   "outputs": [
    {
     "name": "stdout",
     "output_type": "stream",
     "text": [
      "The percentages of the different classes are:\n"
     ]
    },
    {
     "data": {
      "text/html": [
       "<div>\n",
       "<style scoped>\n",
       "    .dataframe tbody tr th:only-of-type {\n",
       "        vertical-align: middle;\n",
       "    }\n",
       "\n",
       "    .dataframe tbody tr th {\n",
       "        vertical-align: top;\n",
       "    }\n",
       "\n",
       "    .dataframe thead th {\n",
       "        text-align: right;\n",
       "    }\n",
       "</style>\n",
       "<table border=\"1\" class=\"dataframe\">\n",
       "  <thead>\n",
       "    <tr style=\"text-align: right;\">\n",
       "      <th></th>\n",
       "      <th>Percentages</th>\n",
       "    </tr>\n",
       "  </thead>\n",
       "  <tbody>\n",
       "    <tr>\n",
       "      <th>Fully Paid</th>\n",
       "      <td>81.244</td>\n",
       "    </tr>\n",
       "    <tr>\n",
       "      <th>Charged Off</th>\n",
       "      <td>18.756</td>\n",
       "    </tr>\n",
       "  </tbody>\n",
       "</table>\n",
       "</div>"
      ],
      "text/plain": [
       "             Percentages\n",
       "Fully Paid        81.244\n",
       "Charged Off       18.756"
      ]
     },
     "execution_count": 8,
     "metadata": {},
     "output_type": "execute_result"
    }
   ],
   "source": [
    "# We keep just the loans with status \"Fully Paid\" and \"Charged Off\" and we compute the percentages of the classes\n",
    "y = [value for value in y if value in [\"Fully Paid\",\"Charged Off\"]]\n",
    "print('The percentages of the different classes are:')\n",
    "perc = round(pd.Series(y).value_counts()/len(y)*100, 3)\n",
    "\n",
    "# We convert the results on a dataframe to visualize them better\n",
    "df = perc.to_frame(name='Percentages')\n",
    "df"
   ]
  },
  {
   "cell_type": "markdown",
   "metadata": {},
   "source": [
    "this dataset is unbalanced. In a balanced dataset, each class would represent a relatively equal portion of the data, ideally around 50% for each class in a binary problem."
   ]
  },
  {
   "cell_type": "markdown",
   "metadata": {},
   "source": [
    "Setting the labels to be 1 for Charged off else 0"
   ]
  },
  {
   "cell_type": "code",
   "execution_count": 9,
   "metadata": {},
   "outputs": [],
   "source": [
    "# Filter the dataset to include only rows where 'loan_status' is either 'Charged Off' or 'Fully Paid'\n",
    "dataset = dataset[dataset['loan_status'].isin(['Charged Off','Fully Paid'])]\n",
    "# Define a mapping to convert 'loan_status' to a binary format and then  apply it to the 'loan_status' column in the dataset\n",
    "emb_mapping = {'Charged Off':1, 'Fully Paid':0}\n",
    "dataset['loan_status'] = dataset[\"loan_status\"].map(emb_mapping)"
   ]
  },
  {
   "cell_type": "markdown",
   "metadata": {},
   "source": [
    "<a id='2.2'></a>\n",
    "## 3.2. Feature Selection-Limit the Feature Space "
   ]
  },
  {
   "cell_type": "markdown",
   "metadata": {},
   "source": [
    "The full dataset has 150 features for each\n",
    "loan. We’ll eliminate\n",
    "features in following steps using three different approaches:\n",
    "* Eliminate feature that have more than 30% missing values.\n",
    "* Eliminate features that are unintuitive based on subjective judgement\n",
    "* Eliminate features with low correlation with the predicted variable"
   ]
  },
  {
   "cell_type": "markdown",
   "metadata": {},
   "source": [
    "<a id='2.2.1'></a>\n",
    "### 3.2.1.  Features elimination by significant missing values"
   ]
  },
  {
   "cell_type": "markdown",
   "metadata": {},
   "source": [
    "Calculating the percentage of missing data for each feature using isnull().mean():"
   ]
  },
  {
   "cell_type": "code",
   "execution_count": 10,
   "metadata": {},
   "outputs": [
    {
     "data": {
      "text/html": [
       "<div>\n",
       "<style scoped>\n",
       "    .dataframe tbody tr th:only-of-type {\n",
       "        vertical-align: middle;\n",
       "    }\n",
       "\n",
       "    .dataframe tbody tr th {\n",
       "        vertical-align: top;\n",
       "    }\n",
       "\n",
       "    .dataframe thead th {\n",
       "        text-align: right;\n",
       "    }\n",
       "</style>\n",
       "<table border=\"1\" class=\"dataframe\">\n",
       "  <thead>\n",
       "    <tr style=\"text-align: right;\">\n",
       "      <th></th>\n",
       "      <th>% Null Values</th>\n",
       "    </tr>\n",
       "  </thead>\n",
       "  <tbody>\n",
       "    <tr>\n",
       "      <th>id</th>\n",
       "      <td>0.0</td>\n",
       "    </tr>\n",
       "    <tr>\n",
       "      <th>member_id</th>\n",
       "      <td>100.0</td>\n",
       "    </tr>\n",
       "    <tr>\n",
       "      <th>loan_amnt</th>\n",
       "      <td>0.0</td>\n",
       "    </tr>\n",
       "    <tr>\n",
       "      <th>funded_amnt</th>\n",
       "      <td>0.0</td>\n",
       "    </tr>\n",
       "    <tr>\n",
       "      <th>funded_amnt_inv</th>\n",
       "      <td>0.0</td>\n",
       "    </tr>\n",
       "  </tbody>\n",
       "</table>\n",
       "</div>"
      ],
      "text/plain": [
       "                 % Null Values\n",
       "id                         0.0\n",
       "member_id                100.0\n",
       "loan_amnt                  0.0\n",
       "funded_amnt                0.0\n",
       "funded_amnt_inv            0.0"
      ]
     },
     "execution_count": 10,
     "metadata": {},
     "output_type": "execute_result"
    }
   ],
   "source": [
    "# We compute the percentage of missing data for each feature and we put into a dataframe to visualize better the results\n",
    "null_df = pd.DataFrame(round(dataset.isnull().mean()*100,3), columns=['% Null Values'])\n",
    "null_df.head()"
   ]
  },
  {
   "cell_type": "markdown",
   "metadata": {},
   "source": [
    "Dropping the columns with more than 30% of missing data."
   ]
  },
  {
   "cell_type": "code",
   "execution_count": 11,
   "metadata": {},
   "outputs": [],
   "source": [
    "threshold = 30\n",
    "# Get a list of columns with more than 30% empty values\n",
    "empty_columns = [col for col in null_df.index if null_df.loc[col, '% Null Values'] > threshold]"
   ]
  },
  {
   "cell_type": "code",
   "execution_count": 12,
   "metadata": {},
   "outputs": [],
   "source": [
    "# We drop from our dataset the selected ones\n",
    "dataset = dataset.drop(columns=empty_columns)"
   ]
  },
  {
   "cell_type": "code",
   "execution_count": 13,
   "metadata": {},
   "outputs": [
    {
     "name": "stdout",
     "output_type": "stream",
     "text": [
      "The remaining dataset is large 92\n"
     ]
    }
   ],
   "source": [
    "print('The remaining dataset is large',dataset.shape[1])"
   ]
  },
  {
   "cell_type": "markdown",
   "metadata": {},
   "source": [
    "<a id='2.2.2'></a>\n",
    "### 3.2.2.  Features elimination based on the intutiveness"
   ]
  },
  {
   "cell_type": "markdown",
   "metadata": {},
   "source": [
    "In order to filter the features further I checked the description in the data dictionary and keep the features that are intuitive on the basis of subjective judgement. To do so I examine the LendingClub website and Data Dictionary to determine which features would have been available to potential investors. Here's the list of features I have decided to keep."
   ]
  },
  {
   "cell_type": "code",
   "execution_count": 14,
   "metadata": {},
   "outputs": [],
   "source": [
    "keep_list = ['funded_amnt','addr_state', 'annual_inc', 'application_type', \n",
    "             'dti', 'earliest_cr_line', 'emp_length', 'emp_title', 'fico_range_high', \n",
    "             'fico_range_low', 'grade', 'home_ownership', 'id', 'initial_list_status', \n",
    "             'installment', 'int_rate', 'loan_amnt', 'loan_status', 'mort_acc', 'open_acc', \n",
    "             'pub_rec', 'pub_rec_bankruptcies', 'purpose', 'revol_bal', 'revol_util', \n",
    "             'sub_grade', 'term', 'title', 'total_acc', 'verification_status', 'zip_code',\n",
    "             'last_pymnt_amnt','num_actv_rev_tl', 'mo_sin_rcnt_rev_tl_op','mo_sin_old_rev_tl_op',\n",
    "             \"bc_util\",\"bc_open_to_buy\",\"avg_cur_bal\",\"acc_open_past_24mths\" ]\n"
   ]
  },
  {
   "cell_type": "markdown",
   "metadata": {},
   "source": [
    "Dropping all of the features except these ones from the dataset."
   ]
  },
  {
   "cell_type": "code",
   "execution_count": 15,
   "metadata": {},
   "outputs": [],
   "source": [
    "# We keep just the features of the keep_list\n",
    "dataset = dataset[keep_list]"
   ]
  },
  {
   "cell_type": "code",
   "execution_count": 16,
   "metadata": {},
   "outputs": [
    {
     "name": "stdout",
     "output_type": "stream",
     "text": [
      "The remaining dataset has 39 features.\n"
     ]
    }
   ],
   "source": [
    "print(f'The remaining dataset has {dataset.shape[1]} features.')"
   ]
  },
  {
   "cell_type": "markdown",
   "metadata": {},
   "source": [
    "<a id='2.2.3'></a>\n",
    "### 3.2.3.  Features elimination based on the correlation"
   ]
  },
  {
   "cell_type": "markdown",
   "metadata": {},
   "source": [
    "removing all of the features with a correlation of under 3% with the  charge-off label."
   ]
  },
  {
   "cell_type": "code",
   "execution_count": 17,
   "metadata": {},
   "outputs": [],
   "source": [
    "# Since we need to compute the correlation between the features and the target, we consider just the numerical features\n",
    "dataset_num = dataset.select_dtypes(\"number\")"
   ]
  },
  {
   "cell_type": "code",
   "execution_count": 18,
   "metadata": {},
   "outputs": [],
   "source": [
    "# Compute the correlation matrix\n",
    "correlation_matrix = dataset_num.corr()"
   ]
  },
  {
   "cell_type": "code",
   "execution_count": 19,
   "metadata": {},
   "outputs": [],
   "source": [
    "target = 'loan_status'"
   ]
  },
  {
   "cell_type": "code",
   "execution_count": 20,
   "metadata": {},
   "outputs": [
    {
     "name": "stdout",
     "output_type": "stream",
     "text": [
      "Features with correlation below threshold:\n",
      "\n"
     ]
    },
    {
     "data": {
      "text/html": [
       "<div>\n",
       "<style scoped>\n",
       "    .dataframe tbody tr th:only-of-type {\n",
       "        vertical-align: middle;\n",
       "    }\n",
       "\n",
       "    .dataframe tbody tr th {\n",
       "        vertical-align: top;\n",
       "    }\n",
       "\n",
       "    .dataframe thead th {\n",
       "        text-align: right;\n",
       "    }\n",
       "</style>\n",
       "<table border=\"1\" class=\"dataframe\">\n",
       "  <thead>\n",
       "    <tr style=\"text-align: right;\">\n",
       "      <th></th>\n",
       "      <th>loan_status</th>\n",
       "    </tr>\n",
       "  </thead>\n",
       "  <tbody>\n",
       "    <tr>\n",
       "      <th>id</th>\n",
       "      <td>0.002221</td>\n",
       "    </tr>\n",
       "    <tr>\n",
       "      <th>pub_rec</th>\n",
       "      <td>0.016023</td>\n",
       "    </tr>\n",
       "    <tr>\n",
       "      <th>pub_rec_bankruptcies</th>\n",
       "      <td>0.015815</td>\n",
       "    </tr>\n",
       "    <tr>\n",
       "      <th>revol_bal</th>\n",
       "      <td>-0.021714</td>\n",
       "    </tr>\n",
       "    <tr>\n",
       "      <th>total_acc</th>\n",
       "      <td>0.005804</td>\n",
       "    </tr>\n",
       "  </tbody>\n",
       "</table>\n",
       "</div>"
      ],
      "text/plain": [
       "                      loan_status\n",
       "id                       0.002221\n",
       "pub_rec                  0.016023\n",
       "pub_rec_bankruptcies     0.015815\n",
       "revol_bal               -0.021714\n",
       "total_acc                0.005804"
      ]
     },
     "execution_count": 20,
     "metadata": {},
     "output_type": "execute_result"
    }
   ],
   "source": [
    "threshold = 0.03 \n",
    "\n",
    "# Find features with a correlation to target below the threshold (in absolute value)\n",
    "correlations_with_target = dataset_num.corr()[target]\n",
    "low_corr_features = pd.DataFrame(correlations_with_target[abs(correlations_with_target) < threshold])\n",
    "\n",
    "print(\"Features with correlation below threshold:\\n\")\n",
    "low_corr_features"
   ]
  },
  {
   "cell_type": "code",
   "execution_count": 21,
   "metadata": {},
   "outputs": [],
   "source": [
    "# We drop form the dataset the selected features\n",
    "dataset = dataset.drop(columns=low_corr_features.index)"
   ]
  },
  {
   "cell_type": "markdown",
   "metadata": {},
   "source": [
    "### How large is the resulting dataset ?"
   ]
  },
  {
   "cell_type": "code",
   "execution_count": 22,
   "metadata": {},
   "outputs": [
    {
     "name": "stdout",
     "output_type": "stream",
     "text": [
      "The remaining dataset has 34 features.\n"
     ]
    }
   ],
   "source": [
    "print(f'The remaining dataset has {dataset.shape[1]} features.')"
   ]
  },
  {
   "cell_type": "markdown",
   "metadata": {},
   "source": [
    "<a id='3'></a>\n",
    "# <u>4. Feature Engineering and Exploratory Analysis"
   ]
  },
  {
   "cell_type": "markdown",
   "metadata": {},
   "source": [
    "Examining the properties of the remaining features."
   ]
  },
  {
   "cell_type": "code",
   "execution_count": 23,
   "metadata": {},
   "outputs": [
    {
     "data": {
      "text/html": [
       "<div>\n",
       "<style scoped>\n",
       "    .dataframe tbody tr th:only-of-type {\n",
       "        vertical-align: middle;\n",
       "    }\n",
       "\n",
       "    .dataframe tbody tr th {\n",
       "        vertical-align: top;\n",
       "    }\n",
       "\n",
       "    .dataframe thead th {\n",
       "        text-align: right;\n",
       "    }\n",
       "</style>\n",
       "<table border=\"1\" class=\"dataframe\">\n",
       "  <thead>\n",
       "    <tr style=\"text-align: right;\">\n",
       "      <th></th>\n",
       "      <th>Mean</th>\n",
       "      <th>Standard Deviation</th>\n",
       "      <th>Maximun Value</th>\n",
       "      <th>Minimum Value</th>\n",
       "    </tr>\n",
       "  </thead>\n",
       "  <tbody>\n",
       "    <tr>\n",
       "      <th>funded_amnt</th>\n",
       "      <td>14106.526446</td>\n",
       "      <td>8391.139221</td>\n",
       "      <td>35000.00</td>\n",
       "      <td>1000.00</td>\n",
       "    </tr>\n",
       "    <tr>\n",
       "      <th>annual_inc</th>\n",
       "      <td>73843.112733</td>\n",
       "      <td>59293.516467</td>\n",
       "      <td>7500000.00</td>\n",
       "      <td>4000.00</td>\n",
       "    </tr>\n",
       "    <tr>\n",
       "      <th>dti</th>\n",
       "      <td>18.532747</td>\n",
       "      <td>8.538247</td>\n",
       "      <td>39.99</td>\n",
       "      <td>0.00</td>\n",
       "    </tr>\n",
       "    <tr>\n",
       "      <th>fico_range_high</th>\n",
       "      <td>696.463024</td>\n",
       "      <td>29.731848</td>\n",
       "      <td>850.00</td>\n",
       "      <td>664.00</td>\n",
       "    </tr>\n",
       "    <tr>\n",
       "      <th>fico_range_low</th>\n",
       "      <td>692.462966</td>\n",
       "      <td>29.731549</td>\n",
       "      <td>845.00</td>\n",
       "      <td>660.00</td>\n",
       "    </tr>\n",
       "    <tr>\n",
       "      <th>installment</th>\n",
       "      <td>430.737187</td>\n",
       "      <td>251.653139</td>\n",
       "      <td>1408.13</td>\n",
       "      <td>30.42</td>\n",
       "    </tr>\n",
       "    <tr>\n",
       "      <th>int_rate</th>\n",
       "      <td>13.002360</td>\n",
       "      <td>4.397419</td>\n",
       "      <td>26.06</td>\n",
       "      <td>6.00</td>\n",
       "    </tr>\n",
       "    <tr>\n",
       "      <th>loan_amnt</th>\n",
       "      <td>14106.526446</td>\n",
       "      <td>8391.139221</td>\n",
       "      <td>35000.00</td>\n",
       "      <td>1000.00</td>\n",
       "    </tr>\n",
       "    <tr>\n",
       "      <th>loan_status</th>\n",
       "      <td>0.187559</td>\n",
       "      <td>0.390362</td>\n",
       "      <td>1.00</td>\n",
       "      <td>0.00</td>\n",
       "    </tr>\n",
       "    <tr>\n",
       "      <th>mort_acc</th>\n",
       "      <td>1.748880</td>\n",
       "      <td>2.091488</td>\n",
       "      <td>34.00</td>\n",
       "      <td>0.00</td>\n",
       "    </tr>\n",
       "    <tr>\n",
       "      <th>open_acc</th>\n",
       "      <td>11.746453</td>\n",
       "      <td>5.433122</td>\n",
       "      <td>84.00</td>\n",
       "      <td>1.00</td>\n",
       "    </tr>\n",
       "    <tr>\n",
       "      <th>revol_util</th>\n",
       "      <td>54.582777</td>\n",
       "      <td>23.515901</td>\n",
       "      <td>180.30</td>\n",
       "      <td>0.00</td>\n",
       "    </tr>\n",
       "    <tr>\n",
       "      <th>last_pymnt_amnt</th>\n",
       "      <td>4757.453184</td>\n",
       "      <td>6466.767327</td>\n",
       "      <td>36234.44</td>\n",
       "      <td>0.00</td>\n",
       "    </tr>\n",
       "    <tr>\n",
       "      <th>num_actv_rev_tl</th>\n",
       "      <td>5.762358</td>\n",
       "      <td>3.224598</td>\n",
       "      <td>38.00</td>\n",
       "      <td>0.00</td>\n",
       "    </tr>\n",
       "    <tr>\n",
       "      <th>mo_sin_rcnt_rev_tl_op</th>\n",
       "      <td>12.796896</td>\n",
       "      <td>16.224586</td>\n",
       "      <td>372.00</td>\n",
       "      <td>0.00</td>\n",
       "    </tr>\n",
       "    <tr>\n",
       "      <th>mo_sin_old_rev_tl_op</th>\n",
       "      <td>183.524333</td>\n",
       "      <td>93.266430</td>\n",
       "      <td>718.00</td>\n",
       "      <td>3.00</td>\n",
       "    </tr>\n",
       "    <tr>\n",
       "      <th>bc_util</th>\n",
       "      <td>63.808959</td>\n",
       "      <td>27.051347</td>\n",
       "      <td>255.20</td>\n",
       "      <td>0.00</td>\n",
       "    </tr>\n",
       "    <tr>\n",
       "      <th>bc_open_to_buy</th>\n",
       "      <td>8942.506507</td>\n",
       "      <td>14100.186250</td>\n",
       "      <td>249625.00</td>\n",
       "      <td>0.00</td>\n",
       "    </tr>\n",
       "    <tr>\n",
       "      <th>avg_cur_bal</th>\n",
       "      <td>13066.638371</td>\n",
       "      <td>16232.739293</td>\n",
       "      <td>447433.00</td>\n",
       "      <td>0.00</td>\n",
       "    </tr>\n",
       "    <tr>\n",
       "      <th>acc_open_past_24mths</th>\n",
       "      <td>4.594732</td>\n",
       "      <td>3.070996</td>\n",
       "      <td>53.00</td>\n",
       "      <td>0.00</td>\n",
       "    </tr>\n",
       "  </tbody>\n",
       "</table>\n",
       "</div>"
      ],
      "text/plain": [
       "                               Mean  Standard Deviation  Maximun Value  \\\n",
       "funded_amnt            14106.526446         8391.139221       35000.00   \n",
       "annual_inc             73843.112733        59293.516467     7500000.00   \n",
       "dti                       18.532747            8.538247          39.99   \n",
       "fico_range_high          696.463024           29.731848         850.00   \n",
       "fico_range_low           692.462966           29.731549         845.00   \n",
       "installment              430.737187          251.653139        1408.13   \n",
       "int_rate                  13.002360            4.397419          26.06   \n",
       "loan_amnt              14106.526446         8391.139221       35000.00   \n",
       "loan_status                0.187559            0.390362           1.00   \n",
       "mort_acc                   1.748880            2.091488          34.00   \n",
       "open_acc                  11.746453            5.433122          84.00   \n",
       "revol_util                54.582777           23.515901         180.30   \n",
       "last_pymnt_amnt         4757.453184         6466.767327       36234.44   \n",
       "num_actv_rev_tl            5.762358            3.224598          38.00   \n",
       "mo_sin_rcnt_rev_tl_op     12.796896           16.224586         372.00   \n",
       "mo_sin_old_rev_tl_op     183.524333           93.266430         718.00   \n",
       "bc_util                   63.808959           27.051347         255.20   \n",
       "bc_open_to_buy          8942.506507        14100.186250      249625.00   \n",
       "avg_cur_bal            13066.638371        16232.739293      447433.00   \n",
       "acc_open_past_24mths       4.594732            3.070996          53.00   \n",
       "\n",
       "                       Minimum Value  \n",
       "funded_amnt                  1000.00  \n",
       "annual_inc                   4000.00  \n",
       "dti                             0.00  \n",
       "fico_range_high               664.00  \n",
       "fico_range_low                660.00  \n",
       "installment                    30.42  \n",
       "int_rate                        6.00  \n",
       "loan_amnt                    1000.00  \n",
       "loan_status                     0.00  \n",
       "mort_acc                        0.00  \n",
       "open_acc                        1.00  \n",
       "revol_util                      0.00  \n",
       "last_pymnt_amnt                 0.00  \n",
       "num_actv_rev_tl                 0.00  \n",
       "mo_sin_rcnt_rev_tl_op           0.00  \n",
       "mo_sin_old_rev_tl_op            3.00  \n",
       "bc_util                         0.00  \n",
       "bc_open_to_buy                  0.00  \n",
       "avg_cur_bal                     0.00  \n",
       "acc_open_past_24mths            0.00  "
      ]
     },
     "execution_count": 23,
     "metadata": {},
     "output_type": "execute_result"
    }
   ],
   "source": [
    "#Since we are computing the measures of the remaining features, we consider just the numerical ones\n",
    "dataset_num = dataset.select_dtypes(\"number\")\n",
    "\n",
    "#We decided to compute the mean, standard deviation, maximum value and minimum value of the features\n",
    "measures = {\n",
    "    'Mean': dataset_num.mean(),\n",
    "    'Standard Deviation': dataset_num.std(),\n",
    "    'Maximun Value': dataset_num.max(),\n",
    "    'Minimum Value': dataset_num.min(),    \n",
    "}\n",
    "\n",
    "# We put the results in a dataframe to visualize the results better\n",
    "df_measures = pd.DataFrame(measures)\n",
    "df_measures"
   ]
  },
  {
   "cell_type": "markdown",
   "metadata": {},
   "source": [
    "The provided statistics reveal **notable variability** among features, both **in terms of range and standard deviation**, suggesting the need for standardization. For instance, features like **annual_inc** and **bc_open_to_buy** have maximum values in the hundreds of thousands, while others, such as **dti** and **int_rate**, have significantly lower maximums, reaching only double digits. This disparity indicates that certain variables may dominate model training, leading to skewed results. Additionally, high standard deviations in features like **annual_inc** and **last_pymnt_amnt** contrast sharply with those of more compact features, such as **int_rate** and **fico_range_low**, underscoring the benefits of scaling for balanced learning. Given these observations, **standardizing the dataset would improve model performance**, ensuring that all features contribute proportionally during training and enhancing the model’s ability to capture meaningful patterns across the data."
   ]
  },
  {
   "cell_type": "markdown",
   "metadata": {},
   "source": [
    "<a id='3.1'></a>\n",
    "## 4.1 Feature Analysis and Exploration"
   ]
  },
  {
   "cell_type": "markdown",
   "metadata": {},
   "source": [
    "<a id='3.1.1'></a>\n",
    "### 4.1.1. Analysing the categorical features "
   ]
  },
  {
   "cell_type": "markdown",
   "metadata": {},
   "source": [
    "Listing the categorical features and take a decision on what to do with them - drop them or process them."
   ]
  },
  {
   "cell_type": "code",
   "execution_count": 24,
   "metadata": {},
   "outputs": [
    {
     "data": {
      "text/html": [
       "<div>\n",
       "<style scoped>\n",
       "    .dataframe tbody tr th:only-of-type {\n",
       "        vertical-align: middle;\n",
       "    }\n",
       "\n",
       "    .dataframe tbody tr th {\n",
       "        vertical-align: top;\n",
       "    }\n",
       "\n",
       "    .dataframe thead th {\n",
       "        text-align: right;\n",
       "    }\n",
       "</style>\n",
       "<table border=\"1\" class=\"dataframe\">\n",
       "  <thead>\n",
       "    <tr style=\"text-align: right;\">\n",
       "      <th></th>\n",
       "      <th>Number of classes</th>\n",
       "    </tr>\n",
       "  </thead>\n",
       "  <tbody>\n",
       "    <tr>\n",
       "      <th>addr_state</th>\n",
       "      <td>46</td>\n",
       "    </tr>\n",
       "    <tr>\n",
       "      <th>application_type</th>\n",
       "      <td>1</td>\n",
       "    </tr>\n",
       "    <tr>\n",
       "      <th>earliest_cr_line</th>\n",
       "      <td>598</td>\n",
       "    </tr>\n",
       "    <tr>\n",
       "      <th>emp_length</th>\n",
       "      <td>11</td>\n",
       "    </tr>\n",
       "    <tr>\n",
       "      <th>emp_title</th>\n",
       "      <td>32987</td>\n",
       "    </tr>\n",
       "    <tr>\n",
       "      <th>grade</th>\n",
       "      <td>7</td>\n",
       "    </tr>\n",
       "    <tr>\n",
       "      <th>home_ownership</th>\n",
       "      <td>4</td>\n",
       "    </tr>\n",
       "    <tr>\n",
       "      <th>initial_list_status</th>\n",
       "      <td>2</td>\n",
       "    </tr>\n",
       "    <tr>\n",
       "      <th>purpose</th>\n",
       "      <td>13</td>\n",
       "    </tr>\n",
       "    <tr>\n",
       "      <th>sub_grade</th>\n",
       "      <td>35</td>\n",
       "    </tr>\n",
       "    <tr>\n",
       "      <th>term</th>\n",
       "      <td>2</td>\n",
       "    </tr>\n",
       "    <tr>\n",
       "      <th>title</th>\n",
       "      <td>20</td>\n",
       "    </tr>\n",
       "    <tr>\n",
       "      <th>verification_status</th>\n",
       "      <td>3</td>\n",
       "    </tr>\n",
       "    <tr>\n",
       "      <th>zip_code</th>\n",
       "      <td>846</td>\n",
       "    </tr>\n",
       "  </tbody>\n",
       "</table>\n",
       "</div>"
      ],
      "text/plain": [
       "                     Number of classes\n",
       "addr_state                          46\n",
       "application_type                     1\n",
       "earliest_cr_line                   598\n",
       "emp_length                          11\n",
       "emp_title                        32987\n",
       "grade                                7\n",
       "home_ownership                       4\n",
       "initial_list_status                  2\n",
       "purpose                             13\n",
       "sub_grade                           35\n",
       "term                                 2\n",
       "title                               20\n",
       "verification_status                  3\n",
       "zip_code                           846"
      ]
     },
     "execution_count": 24,
     "metadata": {},
     "output_type": "execute_result"
    }
   ],
   "source": [
    "# Identify categorical features an the number of different classes for each categorical feature: \n",
    "dataset_cat = dataset.select_dtypes(\"object\")\n",
    "num_unique_options = pd.DataFrame(dataset_cat.nunique(), columns=['Number of classes'])\n",
    "num_unique_options"
   ]
  },
  {
   "cell_type": "markdown",
   "metadata": {},
   "source": [
    "We proceed with a qualitative analysis of the remaining features:\n",
    "- **application_type**: Since this feature has only one class, we drop it as it provides no additional information.\n",
    "- **addr_state**: Typically used in machine learning models; we will assess its relevance as we proceed.\n",
    "- **earliest_cr_line**: We retain this feature and plan to convert it to a numerical format to evaluate its relationship with the target variable.\n",
    "- **emp_length**: This feature can be easily converted to a numerical format, so we keep it.\n",
    "- **emp_title**: We drop this feature due to the high number of unique classes and the availability of other, more informative features.\n",
    "- **grade**: We retain this feature.\n",
    "- **home_ownership**: We drop this feature, as it reflects the borrower’s economic status, which is already captured in other features, such as annual_inc.\n",
    "- **initial_list_status**: We keep it, as it provides information about the type of loan.\n",
    "- **purpose**: We retain this feature for now.\n",
    "- **sub_grade**: We keep this feature, even though it might be somewhat redundant since we already have grade.\n",
    "- **term**: We retain this feature.\n",
    "- **title**: We drop this feature because the purpose feature already provides similar information.\n",
    "- **verification_status**: We retain this feature.\n",
    "- **zip_code**: We drop it because we already have addr_state, and the zip code data is incomplete.\n",
    "\n",
    "This qualitative selection will help us focus on the most relevant features for model performance, balancing informativeness with complexity."
   ]
  },
  {
   "cell_type": "code",
   "execution_count": 25,
   "metadata": {
    "scrolled": false
   },
   "outputs": [
    {
     "data": {
      "image/png": "[encoded data removed]",
      "text/plain": [
       "<Figure size 720x432 with 2 Axes>"
      ]
     },
     "metadata": {
      "needs_background": "light"
     },
     "output_type": "display_data"
    },
    {
     "data": {
      "image/png": "[encoded data removed]",
      "text/plain": [
       "<Figure size 720x432 with 2 Axes>"
      ]
     },
     "metadata": {
      "needs_background": "light"
     },
     "output_type": "display_data"
    },
    {
     "data": {
      "image/png": "[encoded data removed]",
      "text/plain": [
       "<Figure size 720x432 with 2 Axes>"
      ]
     },
     "metadata": {
      "needs_background": "light"
     },
     "output_type": "display_data"
    },
    {
     "data": {
      "image/png": "[encoded data removed]",
      "text/plain": [
       "<Figure size 720x432 with 2 Axes>"
      ]
     },
     "metadata": {
      "needs_background": "light"
     },
     "output_type": "display_data"
    },
    {
     "data": {
      "image/png": "[encoded data removed]",
      "text/plain": [
       "<Figure size 720x432 with 2 Axes>"
      ]
     },
     "metadata": {
      "needs_background": "light"
     },
     "output_type": "display_data"
    },
    {
     "data": {
      "image/png": "[encoded data removed]",
      "text/plain": [
       "<Figure size 720x432 with 2 Axes>"
      ]
     },
     "metadata": {
      "needs_background": "light"
     },
     "output_type": "display_data"
    },
    {
     "data": {
      "image/png": "[encoded data removed]",
      "text/plain": [
       "<Figure size 720x432 with 2 Axes>"
      ]
     },
     "metadata": {
      "needs_background": "light"
     },
     "output_type": "display_data"
    },
    {
     "data": {
      "image/png": "[encoded data removed]",
      "text/plain": [
       "<Figure size 720x432 with 2 Axes>"
      ]
     },
     "metadata": {
      "needs_background": "light"
     },
     "output_type": "display_data"
    },
    {
     "data": {
      "image/png": "[encoded data removed]",
      "text/plain": [
       "<Figure size 720x432 with 2 Axes>"
      ]
     },
     "metadata": {
      "needs_background": "light"
     },
     "output_type": "display_data"
    },
    {
     "data": {
      "image/png": "[encoded data removed]",
      "text/plain": [
       "<Figure size 720x432 with 2 Axes>"
      ]
     },
     "metadata": {
      "needs_background": "light"
     },
     "output_type": "display_data"
    },
    {
     "data": {
      "image/png": "[encoded data removed]",
      "text/plain": [
       "<Figure size 720x432 with 2 Axes>"
      ]
     },
     "metadata": {
      "needs_background": "light"
     },
     "output_type": "display_data"
    },
    {
     "name": "stdout",
     "output_type": "stream",
     "text": [
      "Features with more than 47 unique options:\n",
      "            Feature  Number of Options\n",
      "0  earliest_cr_line                598\n",
      "1         emp_title              32987\n",
      "2          zip_code                846\n"
     ]
    }
   ],
   "source": [
    "# We plot all the categorical features with their options and the proportions of loan default\n",
    "\n",
    "X = 47  # Threshold for max number of options\n",
    "\n",
    "# List to store features with more than X unique values\n",
    "excluded_features = []\n",
    "\n",
    "# Custom ordering for 'emp_length'\n",
    "emp_length_order = [\n",
    "    '< 1 year', '1 year', '2 years', '3 years', '4 years', '5 years',\n",
    "    '6 years', '7 years', '8 years', '9 years', '10+ years'\n",
    "]\n",
    "\n",
    "# Identify categorical features with unique values below the threshold\n",
    "categorical_features = [col for col in dataset.columns if dataset[col].dtype == \"object\"]\n",
    "\n",
    "for feature in categorical_features:\n",
    "    num_unique_values = dataset[feature].nunique()\n",
    "    \n",
    "    if num_unique_values <= X:\n",
    "        fig, ax1 = plt.subplots(figsize=(10, 6))\n",
    "        \n",
    "        # Define custom order for 'emp_length' and use alphabetical order for other features\n",
    "        if feature == 'emp_length':\n",
    "            sorted_order = emp_length_order\n",
    "        else:\n",
    "            sorted_order = sorted([val for val in dataset[feature].unique() if pd.notna(val)])\n",
    "        \n",
    "        # Plot the count of each category in the feature\n",
    "        sns.countplot(data=dataset, x=feature, palette=\"tab10\", order=sorted_order, ax=ax1)\n",
    "        \n",
    "        # Create a secondary y-axis\n",
    "        ax2 = ax1.twinx()\n",
    "        \n",
    "        # Calculate the proportion of the target variable = 1 for each category\n",
    "        prop_data = dataset.groupby(feature)[target].mean()\n",
    "        \n",
    "        # Plot the proportion of the target variable = 1 as a line plot on the secondary y-axis\n",
    "        ax2.plot(prop_data.index, prop_data, color='black', marker='o', linestyle='-', linewidth=1.5, label=f'Proportion of Charged off loans')\n",
    "        ax2.set_ylabel(f'Proportion of {target} = 1', color='black')\n",
    "        ax2.tick_params(axis='y', labelcolor='black')\n",
    "        \n",
    "        # Set titles and labels\n",
    "        ax1.set_title(f'Distribution of {feature} with {target} Proportion')\n",
    "        ax1.set_xlabel(feature)\n",
    "        ax1.set_ylabel('Count')\n",
    "        ax1.tick_params(axis='x', rotation=90)\n",
    "        \n",
    "        # Show legend for the proportion line\n",
    "        ax2.legend(loc='upper right')\n",
    "        \n",
    "        plt.show()\n",
    "    else:\n",
    "        # Store feature name and unique count for features with too many options\n",
    "        excluded_features.append({'Feature': feature, 'Number of Options': num_unique_values})\n",
    "\n",
    "# Display features with too many unique values as a DataFrame\n",
    "if excluded_features:\n",
    "    excluded_df = pd.DataFrame(excluded_features)\n",
    "    print(\"Features with more than\", X, \"unique options:\")\n",
    "    print(excluded_df)\n",
    "else:\n",
    "    print(\"No features exceeded the unique value threshold.\")"
   ]
  },
  {
   "cell_type": "markdown",
   "metadata": {},
   "source": [
    "Furthermore, we observe that many of these categorical features are imbalanced, such as \"title\" and \"purpose.\""
   ]
  },
  {
   "cell_type": "markdown",
   "metadata": {},
   "source": [
    "### Convert Term to a numerical feature"
   ]
  },
  {
   "cell_type": "code",
   "execution_count": 26,
   "metadata": {},
   "outputs": [],
   "source": [
    "# Convert the 'term' column from a string format (e.g., '36 months') to a float representing only the numeric value\n",
    "dataset['term'] = np.array([float(x.strip(' months')) for x in dataset['term']])"
   ]
  },
  {
   "cell_type": "markdown",
   "metadata": {},
   "source": [
    "### emp_length"
   ]
  },
  {
   "cell_type": "markdown",
   "metadata": {},
   "source": [
    "We decide to drop 'emp_lenght' because of how the classes are organized. For instance, the \"10+ years\" category does not indicate a specific value but only a duration greater than 10 years. This lack of precision makes it difficult to interpret the numerical meaning of the feature, as it lacks granularity and does not have a precise scale. Additionally, the fact that most observations are concentrated in this category makes the feature unhelpful even in a numerical form, as it does not provide enough differentiated information for the model.\n",
    "\n",
    "For these reasons, including 'emp_length' as a numerical feature would not add significant predictive value and might even introduce confusion or noise into the model."
   ]
  },
  {
   "cell_type": "markdown",
   "metadata": {},
   "source": [
    "### sub_grade "
   ]
  },
  {
   "cell_type": "markdown",
   "metadata": {},
   "source": [
    "We choose to focusing on 'grade' instead of 'sub_grade', we retain a strong predictive feature while avoiding unnecessary complexity and potential overfitting issues, allowing the model to focus on the broader distinctions in loan risk that \"grade\" provides."
   ]
  },
  {
   "cell_type": "markdown",
   "metadata": {},
   "source": [
    "<a id='3.1.2'></a>\n",
    "### 4.1.2. Analysing the continuous features "
   ]
  },
  {
   "cell_type": "markdown",
   "metadata": {},
   "source": [
    "### Annual Income"
   ]
  },
  {
   "cell_type": "code",
   "execution_count": 27,
   "metadata": {},
   "outputs": [
    {
     "data": {
      "image/png": "[encoded data removed]",
      "text/plain": [
       "<Figure size 864x432 with 1 Axes>"
      ]
     },
     "metadata": {
      "needs_background": "light"
     },
     "output_type": "display_data"
    }
   ],
   "source": [
    "# Box Plot of 'annual_inc'\n",
    "plt.figure(figsize=(12, 6))\n",
    "sns.boxplot(x=dataset['annual_inc'])\n",
    "plt.title('Box Plot of Annual Income')\n",
    "plt.xlabel('Annual Income')\n",
    "plt.xlim(0, 400000) # limit to try to not have a very damaged box plot.\n",
    "plt.show()"
   ]
  },
  {
   "cell_type": "markdown",
   "metadata": {},
   "source": [
    "The box plot of \"Annual Income\" shows a highly skewed distribution with a long tail extending towards high income values, and a large number of outliers beyond the upper quartile. Most of the data is concentrated within a smaller range, while a few extreme values extend far beyond the median, as seen in the limited plot view (up to 400,000) that helps visualize the core distribution.\n",
    "\n",
    "Standardizing this feature by centering it around the mean and scaling it by the standard deviation is essential because it will reduce the influence of these extreme outliers. Without standardization, the model could be disproportionately affected by high-income values, potentially skewing the results and making it harder to converge on an optimal solution. By scaling, we ensure that \"Annual Income\" is treated on a comparable scale with other features, reducing bias due to its high range and making it more compatible with machine learning algorithms, especially those sensitive to feature magnitudes."
   ]
  },
  {
   "cell_type": "markdown",
   "metadata": {},
   "source": [
    "### FICO scores "
   ]
  },
  {
   "cell_type": "code",
   "execution_count": 28,
   "metadata": {},
   "outputs": [
    {
     "data": {
      "image/png": "[encoded data removed]",
      "text/plain": [
       "<Figure size 432x288 with 1 Axes>"
      ]
     },
     "metadata": {
      "needs_background": "light"
     },
     "output_type": "display_data"
    }
   ],
   "source": [
    "# We plot in the same figure which values the two features assume\n",
    "plt.plot(dataset['fico_range_high'], label='FICO Range High', color='blue')\n",
    "plt.plot(dataset['fico_range_low'], label='FICO Range Low', color='red')\n",
    "plt.xlabel(\"Index\")\n",
    "plt.ylabel(\"FICO Score\")\n",
    "plt.title(\"FICO Range High and Low\")\n",
    "plt.legend()\n",
    "plt.show()"
   ]
  },
  {
   "cell_type": "code",
   "execution_count": 29,
   "metadata": {},
   "outputs": [
    {
     "data": {
      "image/png": "[encoded data removed]",
      "text/plain": [
       "<Figure size 432x288 with 1 Axes>"
      ]
     },
     "metadata": {
      "needs_background": "light"
     },
     "output_type": "display_data"
    }
   ],
   "source": [
    "# We plot the difference in the values between the two features\n",
    "fico_diff = dataset['fico_range_high'] - dataset['fico_range_low']\n",
    "plt.plot(fico_diff, label='Difference (High - Low)', color='green')\n",
    "plt.xlabel(\"Index\")\n",
    "plt.ylabel(\"FICO Score Difference\")\n",
    "plt.title(\"Difference Between FICO Range High and Low\")\n",
    "plt.legend()\n",
    "plt.show()"
   ]
  },
  {
   "cell_type": "markdown",
   "metadata": {},
   "source": [
    "We observe a consistent difference of 4 (occasionally 5) across all 100,000 observations between the two FICO scores. The two scores never overlap. Therefore, we can retain just one of them, and we have chosen to keep only 'fico_high_range'."
   ]
  },
  {
   "cell_type": "code",
   "execution_count": 30,
   "metadata": {},
   "outputs": [],
   "source": [
    "dataset = dataset.drop(columns = 'fico_range_low')"
   ]
  },
  {
   "cell_type": "markdown",
   "metadata": {},
   "source": [
    "<a id='3.2'></a>\n",
    "## 4.2. Encoding Categorical Data"
   ]
  },
  {
   "cell_type": "markdown",
   "metadata": {},
   "source": [
    "Deciding how to handle the categorical data in columns ['grade', 'sub_grade', 'home_ownership', 'verification_status', 'purpose', 'addr_state', 'initial_list_status', 'application_type']"
   ]
  },
  {
   "cell_type": "code",
   "execution_count": 31,
   "metadata": {},
   "outputs": [],
   "source": [
    "# Grade:\n",
    "# Define a mapping for the 'grade' feature, assigning numerical values to each grade level.\n",
    "# We give a higher value to the more negative grades (with 'G' as the highest at 6 and 'A' as the lowest at 0)\n",
    "# so that they have a stronger impact on the loan status prediction.\n",
    "emb_mapping1 = {'G':6, 'F':5,'E':4,'D':3,'C':2,'B':1,'A':0}\n",
    "dataset['grade'] = dataset['grade'].map(emb_mapping1)"
   ]
  },
  {
   "cell_type": "code",
   "execution_count": 32,
   "metadata": {},
   "outputs": [],
   "source": [
    "# Subgrade:\n",
    "# For the reasons stated above we decide to drop 'sub_grade'\n",
    "dataset = dataset.drop(columns = 'sub_grade')"
   ]
  },
  {
   "cell_type": "code",
   "execution_count": 33,
   "metadata": {},
   "outputs": [],
   "source": [
    "# Home ownership:\n",
    "# We will drop this feature because it provides information that is nearly redundant with the 'annual_inc' (annual income) feature.\n",
    "# Home ownership status is often closely related to income level, so including both could introduce collinearity without adding significant new insights.\n",
    "dataset = dataset.drop(columns=['home_ownership'], errors='ignore')"
   ]
  },
  {
   "cell_type": "code",
   "execution_count": 34,
   "metadata": {},
   "outputs": [],
   "source": [
    "# Verification status:\n",
    "# Define a mapping for the 'verification_status' feature, assigning numerical values to each verification status.\n",
    "# We give a higher value to 'Not Verified' so that they have a stronger impact on the loan status prediction.\n",
    "emb_mapping2 = {'Not Verified':2, 'Source Verified':1,'Verified':0}\n",
    "dataset['verification_status'] = dataset[\"verification_status\"].map(emb_mapping2)"
   ]
  },
  {
   "cell_type": "code",
   "execution_count": 35,
   "metadata": {},
   "outputs": [],
   "source": [
    "# Purpose:\n",
    "# We drop it as we don't think the purpose of the loan is a major feature to know if it will be charged-off or not\n",
    "dataset = dataset.drop(columns=['purpose'], errors='ignore')"
   ]
  },
  {
   "cell_type": "code",
   "execution_count": 36,
   "metadata": {},
   "outputs": [],
   "source": [
    "# Addr state:\n",
    "# We are dropping this feature because additional information, such as the economic conditions of each state,\n",
    "# would be needed to accurately determine which state has the greatest impact on loan status.\n",
    "dataset = dataset.drop(columns=['addr_state'], errors='ignore')"
   ]
  },
  {
   "cell_type": "code",
   "execution_count": 37,
   "metadata": {},
   "outputs": [],
   "source": [
    "# Initial List Status:\n",
    "# Define a mapping for the 'initial_list_status' feature, assigning numerical values to each initial list status.\n",
    "emb_mapping3 = {'f':1, 'w':0}\n",
    "dataset['initial_list_status'] = dataset[\"initial_list_status\"].map(emb_mapping3)"
   ]
  },
  {
   "cell_type": "code",
   "execution_count": 38,
   "metadata": {},
   "outputs": [],
   "source": [
    "# Application type:\n",
    "# We will exclude this feature as it has only one class, making it unhelpful for analysis.\n",
    "dataset = dataset.drop(columns=['application_type'], errors='ignore')"
   ]
  },
  {
   "cell_type": "code",
   "execution_count": 39,
   "metadata": {},
   "outputs": [],
   "source": [
    "# We proceed dropping the other features for the reasons stated above:\n",
    "dataset = dataset.drop(columns=['emp_length'], errors='ignore')\n",
    "dataset = dataset.drop(columns=['emp_title'], errors='ignore')\n",
    "dataset = dataset.drop(columns=['earliest_cr_line'], errors='ignore')\n",
    "dataset = dataset.drop(columns=['zip_code'], errors='ignore')\n",
    "dataset = dataset.drop(columns=['title'], errors='ignore')\n"
   ]
  },
  {
   "cell_type": "markdown",
   "metadata": {},
   "source": [
    "We obtained a dataset containing only numerical features."
   ]
  },
  {
   "cell_type": "code",
   "execution_count": 40,
   "metadata": {},
   "outputs": [
    {
     "name": "stdout",
     "output_type": "stream",
     "text": [
      "The remaining dataset has 23 features.\n"
     ]
    }
   ],
   "source": [
    "print(f'The remaining dataset has {dataset.shape[1]} features.')"
   ]
  },
  {
   "cell_type": "code",
   "execution_count": 41,
   "metadata": {},
   "outputs": [
    {
     "data": {
      "text/html": [
       "<div>\n",
       "<style scoped>\n",
       "    .dataframe tbody tr th:only-of-type {\n",
       "        vertical-align: middle;\n",
       "    }\n",
       "\n",
       "    .dataframe tbody tr th {\n",
       "        vertical-align: top;\n",
       "    }\n",
       "\n",
       "    .dataframe thead th {\n",
       "        text-align: right;\n",
       "    }\n",
       "</style>\n",
       "<table border=\"1\" class=\"dataframe\">\n",
       "  <thead>\n",
       "    <tr style=\"text-align: right;\">\n",
       "      <th></th>\n",
       "      <th>funded_amnt</th>\n",
       "      <th>annual_inc</th>\n",
       "      <th>dti</th>\n",
       "      <th>fico_range_high</th>\n",
       "      <th>grade</th>\n",
       "      <th>initial_list_status</th>\n",
       "      <th>installment</th>\n",
       "      <th>int_rate</th>\n",
       "      <th>loan_amnt</th>\n",
       "      <th>mort_acc</th>\n",
       "      <th>...</th>\n",
       "      <th>verification_status</th>\n",
       "      <th>last_pymnt_amnt</th>\n",
       "      <th>num_actv_rev_tl</th>\n",
       "      <th>mo_sin_rcnt_rev_tl_op</th>\n",
       "      <th>mo_sin_old_rev_tl_op</th>\n",
       "      <th>bc_util</th>\n",
       "      <th>bc_open_to_buy</th>\n",
       "      <th>avg_cur_bal</th>\n",
       "      <th>acc_open_past_24mths</th>\n",
       "      <th>loan_status</th>\n",
       "    </tr>\n",
       "  </thead>\n",
       "  <tbody>\n",
       "    <tr>\n",
       "      <th>0</th>\n",
       "      <td>0.106479</td>\n",
       "      <td>0.070107</td>\n",
       "      <td>-0.761607</td>\n",
       "      <td>1.935208</td>\n",
       "      <td>0.179621</td>\n",
       "      <td>-0.981298</td>\n",
       "      <td>-0.373918</td>\n",
       "      <td>-0.139255</td>\n",
       "      <td>0.106479</td>\n",
       "      <td>-0.836194</td>\n",
       "      <td>...</td>\n",
       "      <td>-0.077965</td>\n",
       "      <td>1.122725</td>\n",
       "      <td>-0.546539</td>\n",
       "      <td>-0.727104</td>\n",
       "      <td>0.648422</td>\n",
       "      <td>-2.185078</td>\n",
       "      <td>0.041311</td>\n",
       "      <td>1.032571</td>\n",
       "      <td>0.131967</td>\n",
       "      <td>0</td>\n",
       "    </tr>\n",
       "    <tr>\n",
       "      <th>1</th>\n",
       "      <td>-0.441722</td>\n",
       "      <td>-0.267200</td>\n",
       "      <td>-0.423128</td>\n",
       "      <td>0.589841</td>\n",
       "      <td>-1.303241</td>\n",
       "      <td>-0.981298</td>\n",
       "      <td>-0.435750</td>\n",
       "      <td>-1.367255</td>\n",
       "      <td>-0.441722</td>\n",
       "      <td>-0.358063</td>\n",
       "      <td>...</td>\n",
       "      <td>1.211789</td>\n",
       "      <td>-0.686030</td>\n",
       "      <td>1.004051</td>\n",
       "      <td>-0.727104</td>\n",
       "      <td>1.141636</td>\n",
       "      <td>-0.824694</td>\n",
       "      <td>-0.095283</td>\n",
       "      <td>-0.217502</td>\n",
       "      <td>0.783225</td>\n",
       "      <td>1</td>\n",
       "    </tr>\n",
       "    <tr>\n",
       "      <th>2</th>\n",
       "      <td>0.872172</td>\n",
       "      <td>-0.169381</td>\n",
       "      <td>-0.005007</td>\n",
       "      <td>-0.251013</td>\n",
       "      <td>0.921051</td>\n",
       "      <td>-0.981298</td>\n",
       "      <td>0.340243</td>\n",
       "      <td>0.588449</td>\n",
       "      <td>0.872172</td>\n",
       "      <td>-0.836194</td>\n",
       "      <td>...</td>\n",
       "      <td>-0.077965</td>\n",
       "      <td>2.018909</td>\n",
       "      <td>-0.546539</td>\n",
       "      <td>-0.357293</td>\n",
       "      <td>-0.509558</td>\n",
       "      <td>1.256545</td>\n",
       "      <td>-0.611237</td>\n",
       "      <td>-0.544251</td>\n",
       "      <td>-0.193662</td>\n",
       "      <td>0</td>\n",
       "    </tr>\n",
       "    <tr>\n",
       "      <th>3</th>\n",
       "      <td>-0.769450</td>\n",
       "      <td>-0.402122</td>\n",
       "      <td>1.906404</td>\n",
       "      <td>-0.251013</td>\n",
       "      <td>0.179621</td>\n",
       "      <td>1.019058</td>\n",
       "      <td>-0.677672</td>\n",
       "      <td>0.149552</td>\n",
       "      <td>-0.769450</td>\n",
       "      <td>-0.836194</td>\n",
       "      <td>...</td>\n",
       "      <td>-0.077965</td>\n",
       "      <td>-0.732944</td>\n",
       "      <td>-0.546539</td>\n",
       "      <td>-0.295658</td>\n",
       "      <td>-0.380893</td>\n",
       "      <td>1.086497</td>\n",
       "      <td>-0.610670</td>\n",
       "      <td>-0.444144</td>\n",
       "      <td>0.457596</td>\n",
       "      <td>1</td>\n",
       "    </tr>\n",
       "    <tr>\n",
       "      <th>4</th>\n",
       "      <td>-0.537061</td>\n",
       "      <td>-0.081681</td>\n",
       "      <td>0.852317</td>\n",
       "      <td>-0.419183</td>\n",
       "      <td>0.179621</td>\n",
       "      <td>1.019058</td>\n",
       "      <td>-0.414093</td>\n",
       "      <td>0.149552</td>\n",
       "      <td>-0.537061</td>\n",
       "      <td>-0.836194</td>\n",
       "      <td>...</td>\n",
       "      <td>-0.077965</td>\n",
       "      <td>0.708415</td>\n",
       "      <td>0.383815</td>\n",
       "      <td>0.628871</td>\n",
       "      <td>0.873585</td>\n",
       "      <td>0.199290</td>\n",
       "      <td>-0.173652</td>\n",
       "      <td>-0.606964</td>\n",
       "      <td>1.108855</td>\n",
       "      <td>0</td>\n",
       "    </tr>\n",
       "  </tbody>\n",
       "</table>\n",
       "<p>5 rows × 23 columns</p>\n",
       "</div>"
      ],
      "text/plain": [
       "   funded_amnt  annual_inc       dti  fico_range_high     grade  \\\n",
       "0     0.106479    0.070107 -0.761607         1.935208  0.179621   \n",
       "1    -0.441722   -0.267200 -0.423128         0.589841 -1.303241   \n",
       "2     0.872172   -0.169381 -0.005007        -0.251013  0.921051   \n",
       "3    -0.769450   -0.402122  1.906404        -0.251013  0.179621   \n",
       "4    -0.537061   -0.081681  0.852317        -0.419183  0.179621   \n",
       "\n",
       "   initial_list_status  installment  int_rate  loan_amnt  mort_acc  ...  \\\n",
       "0            -0.981298    -0.373918 -0.139255   0.106479 -0.836194  ...   \n",
       "1            -0.981298    -0.435750 -1.367255  -0.441722 -0.358063  ...   \n",
       "2            -0.981298     0.340243  0.588449   0.872172 -0.836194  ...   \n",
       "3             1.019058    -0.677672  0.149552  -0.769450 -0.836194  ...   \n",
       "4             1.019058    -0.414093  0.149552  -0.537061 -0.836194  ...   \n",
       "\n",
       "   verification_status  last_pymnt_amnt  num_actv_rev_tl  \\\n",
       "0            -0.077965         1.122725        -0.546539   \n",
       "1             1.211789        -0.686030         1.004051   \n",
       "2            -0.077965         2.018909        -0.546539   \n",
       "3            -0.077965        -0.732944        -0.546539   \n",
       "4            -0.077965         0.708415         0.383815   \n",
       "\n",
       "   mo_sin_rcnt_rev_tl_op  mo_sin_old_rev_tl_op   bc_util  bc_open_to_buy  \\\n",
       "0              -0.727104              0.648422 -2.185078        0.041311   \n",
       "1              -0.727104              1.141636 -0.824694       -0.095283   \n",
       "2              -0.357293             -0.509558  1.256545       -0.611237   \n",
       "3              -0.295658             -0.380893  1.086497       -0.610670   \n",
       "4               0.628871              0.873585  0.199290       -0.173652   \n",
       "\n",
       "   avg_cur_bal  acc_open_past_24mths  loan_status  \n",
       "0     1.032571              0.131967            0  \n",
       "1    -0.217502              0.783225            1  \n",
       "2    -0.544251             -0.193662            0  \n",
       "3    -0.444144              0.457596            1  \n",
       "4    -0.606964              1.108855            0  \n",
       "\n",
       "[5 rows x 23 columns]"
      ]
     },
     "execution_count": 41,
     "metadata": {},
     "output_type": "execute_result"
    }
   ],
   "source": [
    "# We standardize data here, as we only have numerical values now\n",
    "from sklearn.preprocessing import StandardScaler\n",
    "\n",
    "# Initialize the StandardScaler\n",
    "scaler = StandardScaler()\n",
    "\n",
    "# Drop the 'loan_status' column from the dataset as it is the target variable and we want to standardize only the features\n",
    "features_filtered = dataset.drop(columns=['loan_status'], errors='ignore')\n",
    "\n",
    "# Apply standardization to the feature set\n",
    "dataset_standardized = scaler.fit_transform(features_filtered)\n",
    "\n",
    "# Convert the standardized features back into a DataFrame with the original column names\n",
    "dataset_standardized = pd.DataFrame(dataset_standardized, columns=features_filtered.columns)\n",
    "\n",
    "# Reattach the 'loan_status' column to the standardized dataset\n",
    "dataset_standardized['loan_status'] = dataset['loan_status'].values\n",
    "\n",
    "# Display the first few rows of the standardized dataset\n",
    "dataset_standardized.head()"
   ]
  },
  {
   "cell_type": "markdown",
   "metadata": {},
   "source": [
    "<a id='3.4'></a>\n",
    "## 4.3. Sampling Data"
   ]
  },
  {
   "cell_type": "markdown",
   "metadata": {},
   "source": [
    "To create a balanced dataset, draw 5500 rows at random from each of the two classes and combine them into a new dataframe."
   ]
  },
  {
   "cell_type": "code",
   "execution_count": 42,
   "metadata": {},
   "outputs": [
    {
     "data": {
      "text/html": [
       "<div>\n",
       "<style scoped>\n",
       "    .dataframe tbody tr th:only-of-type {\n",
       "        vertical-align: middle;\n",
       "    }\n",
       "\n",
       "    .dataframe tbody tr th {\n",
       "        vertical-align: top;\n",
       "    }\n",
       "\n",
       "    .dataframe thead th {\n",
       "        text-align: right;\n",
       "    }\n",
       "</style>\n",
       "<table border=\"1\" class=\"dataframe\">\n",
       "  <thead>\n",
       "    <tr style=\"text-align: right;\">\n",
       "      <th></th>\n",
       "      <th>funded_amnt</th>\n",
       "      <th>annual_inc</th>\n",
       "      <th>dti</th>\n",
       "      <th>fico_range_high</th>\n",
       "      <th>grade</th>\n",
       "      <th>initial_list_status</th>\n",
       "      <th>installment</th>\n",
       "      <th>int_rate</th>\n",
       "      <th>loan_amnt</th>\n",
       "      <th>mort_acc</th>\n",
       "      <th>...</th>\n",
       "      <th>verification_status</th>\n",
       "      <th>last_pymnt_amnt</th>\n",
       "      <th>num_actv_rev_tl</th>\n",
       "      <th>mo_sin_rcnt_rev_tl_op</th>\n",
       "      <th>mo_sin_old_rev_tl_op</th>\n",
       "      <th>bc_util</th>\n",
       "      <th>bc_open_to_buy</th>\n",
       "      <th>avg_cur_bal</th>\n",
       "      <th>acc_open_past_24mths</th>\n",
       "      <th>loan_status</th>\n",
       "    </tr>\n",
       "  </thead>\n",
       "  <tbody>\n",
       "    <tr>\n",
       "      <th>0</th>\n",
       "      <td>0.106479</td>\n",
       "      <td>-0.395376</td>\n",
       "      <td>2.001272</td>\n",
       "      <td>-0.923696</td>\n",
       "      <td>1.662482</td>\n",
       "      <td>-0.981298</td>\n",
       "      <td>-0.148289</td>\n",
       "      <td>1.482160</td>\n",
       "      <td>0.106479</td>\n",
       "      <td>-0.836194</td>\n",
       "      <td>...</td>\n",
       "      <td>-1.367719</td>\n",
       "      <td>-0.674754</td>\n",
       "      <td>4.725466</td>\n",
       "      <td>-0.603834</td>\n",
       "      <td>0.326761</td>\n",
       "      <td>-0.018815</td>\n",
       "      <td>-0.202729</td>\n",
       "      <td>-0.670540</td>\n",
       "      <td>2.085742</td>\n",
       "      <td>1</td>\n",
       "    </tr>\n",
       "    <tr>\n",
       "      <th>1</th>\n",
       "      <td>-0.966087</td>\n",
       "      <td>0.301163</td>\n",
       "      <td>-0.002664</td>\n",
       "      <td>-0.587354</td>\n",
       "      <td>-0.561810</td>\n",
       "      <td>1.019058</td>\n",
       "      <td>-0.951542</td>\n",
       "      <td>-0.871507</td>\n",
       "      <td>-0.966087</td>\n",
       "      <td>0.120068</td>\n",
       "      <td>...</td>\n",
       "      <td>1.211789</td>\n",
       "      <td>-0.706102</td>\n",
       "      <td>1.934405</td>\n",
       "      <td>0.012518</td>\n",
       "      <td>0.798531</td>\n",
       "      <td>-0.791424</td>\n",
       "      <td>1.596477</td>\n",
       "      <td>-0.477904</td>\n",
       "      <td>0.131967</td>\n",
       "      <td>1</td>\n",
       "    </tr>\n",
       "    <tr>\n",
       "      <th>2</th>\n",
       "      <td>-0.608565</td>\n",
       "      <td>-0.705699</td>\n",
       "      <td>-0.931432</td>\n",
       "      <td>-0.251013</td>\n",
       "      <td>-0.561810</td>\n",
       "      <td>1.019058</td>\n",
       "      <td>-0.515384</td>\n",
       "      <td>-0.116515</td>\n",
       "      <td>-0.608565</td>\n",
       "      <td>-0.358063</td>\n",
       "      <td>...</td>\n",
       "      <td>-0.077965</td>\n",
       "      <td>-0.689129</td>\n",
       "      <td>0.383815</td>\n",
       "      <td>-0.542199</td>\n",
       "      <td>-0.992049</td>\n",
       "      <td>-0.451328</td>\n",
       "      <td>-0.051099</td>\n",
       "      <td>-0.257360</td>\n",
       "      <td>0.783225</td>\n",
       "      <td>1</td>\n",
       "    </tr>\n",
       "    <tr>\n",
       "      <th>3</th>\n",
       "      <td>0.264384</td>\n",
       "      <td>-0.199738</td>\n",
       "      <td>1.003403</td>\n",
       "      <td>-0.923696</td>\n",
       "      <td>-0.561810</td>\n",
       "      <td>1.019058</td>\n",
       "      <td>0.432832</td>\n",
       "      <td>-0.302989</td>\n",
       "      <td>0.264384</td>\n",
       "      <td>-0.358063</td>\n",
       "      <td>...</td>\n",
       "      <td>1.211789</td>\n",
       "      <td>-0.485326</td>\n",
       "      <td>1.314169</td>\n",
       "      <td>-0.480563</td>\n",
       "      <td>-0.981327</td>\n",
       "      <td>0.003366</td>\n",
       "      <td>-0.104787</td>\n",
       "      <td>-0.106060</td>\n",
       "      <td>-0.193662</td>\n",
       "      <td>1</td>\n",
       "    </tr>\n",
       "    <tr>\n",
       "      <th>4</th>\n",
       "      <td>0.118396</td>\n",
       "      <td>-0.604827</td>\n",
       "      <td>-0.279069</td>\n",
       "      <td>1.262525</td>\n",
       "      <td>0.179621</td>\n",
       "      <td>-0.981298</td>\n",
       "      <td>0.320255</td>\n",
       "      <td>0.079056</td>\n",
       "      <td>0.118396</td>\n",
       "      <td>0.120068</td>\n",
       "      <td>...</td>\n",
       "      <td>-1.367719</td>\n",
       "      <td>-0.656611</td>\n",
       "      <td>0.383815</td>\n",
       "      <td>-0.110752</td>\n",
       "      <td>1.281022</td>\n",
       "      <td>-2.332946</td>\n",
       "      <td>0.520528</td>\n",
       "      <td>-0.740892</td>\n",
       "      <td>2.737000</td>\n",
       "      <td>1</td>\n",
       "    </tr>\n",
       "  </tbody>\n",
       "</table>\n",
       "<p>5 rows × 23 columns</p>\n",
       "</div>"
      ],
      "text/plain": [
       "   funded_amnt  annual_inc       dti  fico_range_high     grade  \\\n",
       "0     0.106479   -0.395376  2.001272        -0.923696  1.662482   \n",
       "1    -0.966087    0.301163 -0.002664        -0.587354 -0.561810   \n",
       "2    -0.608565   -0.705699 -0.931432        -0.251013 -0.561810   \n",
       "3     0.264384   -0.199738  1.003403        -0.923696 -0.561810   \n",
       "4     0.118396   -0.604827 -0.279069         1.262525  0.179621   \n",
       "\n",
       "   initial_list_status  installment  int_rate  loan_amnt  mort_acc  ...  \\\n",
       "0            -0.981298    -0.148289  1.482160   0.106479 -0.836194  ...   \n",
       "1             1.019058    -0.951542 -0.871507  -0.966087  0.120068  ...   \n",
       "2             1.019058    -0.515384 -0.116515  -0.608565 -0.358063  ...   \n",
       "3             1.019058     0.432832 -0.302989   0.264384 -0.358063  ...   \n",
       "4            -0.981298     0.320255  0.079056   0.118396  0.120068  ...   \n",
       "\n",
       "   verification_status  last_pymnt_amnt  num_actv_rev_tl  \\\n",
       "0            -1.367719        -0.674754         4.725466   \n",
       "1             1.211789        -0.706102         1.934405   \n",
       "2            -0.077965        -0.689129         0.383815   \n",
       "3             1.211789        -0.485326         1.314169   \n",
       "4            -1.367719        -0.656611         0.383815   \n",
       "\n",
       "   mo_sin_rcnt_rev_tl_op  mo_sin_old_rev_tl_op   bc_util  bc_open_to_buy  \\\n",
       "0              -0.603834              0.326761 -0.018815       -0.202729   \n",
       "1               0.012518              0.798531 -0.791424        1.596477   \n",
       "2              -0.542199             -0.992049 -0.451328       -0.051099   \n",
       "3              -0.480563             -0.981327  0.003366       -0.104787   \n",
       "4              -0.110752              1.281022 -2.332946        0.520528   \n",
       "\n",
       "   avg_cur_bal  acc_open_past_24mths  loan_status  \n",
       "0    -0.670540              2.085742            1  \n",
       "1    -0.477904              0.131967            1  \n",
       "2    -0.257360              0.783225            1  \n",
       "3    -0.106060             -0.193662            1  \n",
       "4    -0.740892              2.737000            1  \n",
       "\n",
       "[5 rows x 23 columns]"
      ]
     },
     "execution_count": 42,
     "metadata": {},
     "output_type": "execute_result"
    }
   ],
   "source": [
    "# We select 5500 random rows where 'loan_status'=1\n",
    "loan_status_1 = dataset_standardized[dataset_standardized['loan_status'] == 1].sample(n=5500, random_state=1234)\n",
    "\n",
    "# We select 5500 random rows where 'loan_status'=0\n",
    "loan_status_0 = dataset_standardized[dataset_standardized['loan_status'] == 0].sample(n=5500, random_state=1234)\n",
    "\n",
    "# We concatenate the two subdataset obtained above\n",
    "combined_sample = pd.concat([loan_status_1, loan_status_0])\n",
    "combined_sample.reset_index(drop=True, inplace=True)\n",
    "combined_sample.head()"
   ]
  },
  {
   "cell_type": "markdown",
   "metadata": {},
   "source": [
    "Choose a method to handle any NAs that may be in a column."
   ]
  },
  {
   "cell_type": "code",
   "execution_count": 43,
   "metadata": {},
   "outputs": [
    {
     "name": "stdout",
     "output_type": "stream",
     "text": [
      "\n",
      "3 columns contain missing values:\n"
     ]
    },
    {
     "data": {
      "text/html": [
       "<div>\n",
       "<style scoped>\n",
       "    .dataframe tbody tr th:only-of-type {\n",
       "        vertical-align: middle;\n",
       "    }\n",
       "\n",
       "    .dataframe tbody tr th {\n",
       "        vertical-align: top;\n",
       "    }\n",
       "\n",
       "    .dataframe thead th {\n",
       "        text-align: right;\n",
       "    }\n",
       "</style>\n",
       "<table border=\"1\" class=\"dataframe\">\n",
       "  <thead>\n",
       "    <tr style=\"text-align: right;\">\n",
       "      <th></th>\n",
       "      <th>Missing Value</th>\n",
       "    </tr>\n",
       "  </thead>\n",
       "  <tbody>\n",
       "    <tr>\n",
       "      <th>bc_util</th>\n",
       "      <td>137</td>\n",
       "    </tr>\n",
       "    <tr>\n",
       "      <th>bc_open_to_buy</th>\n",
       "      <td>128</td>\n",
       "    </tr>\n",
       "    <tr>\n",
       "      <th>revol_util</th>\n",
       "      <td>4</td>\n",
       "    </tr>\n",
       "  </tbody>\n",
       "</table>\n",
       "</div>"
      ],
      "text/plain": [
       "                Missing Value\n",
       "bc_util                   137\n",
       "bc_open_to_buy            128\n",
       "revol_util                  4"
      ]
     },
     "execution_count": 43,
     "metadata": {},
     "output_type": "execute_result"
    }
   ],
   "source": [
    "# We explore which features have missing values and we count how many missing values each feature has\n",
    "missing_df=pd.DataFrame(combined_sample.isnull().sum()[combined_sample.isnull().sum()!=0].sort_values(ascending=False), columns = ['Missing Value'])\n",
    "print(\"\\n\"+str(len(missing_df))+ \" columns contain missing values:\")\n",
    "missing_df"
   ]
  },
  {
   "cell_type": "code",
   "execution_count": 44,
   "metadata": {},
   "outputs": [
    {
     "data": {
      "text/html": [
       "<div>\n",
       "<style scoped>\n",
       "    .dataframe tbody tr th:only-of-type {\n",
       "        vertical-align: middle;\n",
       "    }\n",
       "\n",
       "    .dataframe tbody tr th {\n",
       "        vertical-align: top;\n",
       "    }\n",
       "\n",
       "    .dataframe thead th {\n",
       "        text-align: right;\n",
       "    }\n",
       "</style>\n",
       "<table border=\"1\" class=\"dataframe\">\n",
       "  <thead>\n",
       "    <tr style=\"text-align: right;\">\n",
       "      <th></th>\n",
       "      <th>funded_amnt</th>\n",
       "      <th>annual_inc</th>\n",
       "      <th>dti</th>\n",
       "      <th>fico_range_high</th>\n",
       "      <th>grade</th>\n",
       "      <th>initial_list_status</th>\n",
       "      <th>installment</th>\n",
       "      <th>int_rate</th>\n",
       "      <th>loan_amnt</th>\n",
       "      <th>mort_acc</th>\n",
       "      <th>...</th>\n",
       "      <th>verification_status</th>\n",
       "      <th>last_pymnt_amnt</th>\n",
       "      <th>num_actv_rev_tl</th>\n",
       "      <th>mo_sin_rcnt_rev_tl_op</th>\n",
       "      <th>mo_sin_old_rev_tl_op</th>\n",
       "      <th>bc_util</th>\n",
       "      <th>bc_open_to_buy</th>\n",
       "      <th>avg_cur_bal</th>\n",
       "      <th>acc_open_past_24mths</th>\n",
       "      <th>loan_status</th>\n",
       "    </tr>\n",
       "  </thead>\n",
       "  <tbody>\n",
       "    <tr>\n",
       "      <th>0</th>\n",
       "      <td>0.106479</td>\n",
       "      <td>-0.395376</td>\n",
       "      <td>2.001272</td>\n",
       "      <td>-0.923696</td>\n",
       "      <td>1.662482</td>\n",
       "      <td>-0.981298</td>\n",
       "      <td>-0.148289</td>\n",
       "      <td>1.482160</td>\n",
       "      <td>0.106479</td>\n",
       "      <td>-0.836194</td>\n",
       "      <td>...</td>\n",
       "      <td>-1.367719</td>\n",
       "      <td>-0.674754</td>\n",
       "      <td>4.725466</td>\n",
       "      <td>-0.603834</td>\n",
       "      <td>0.326761</td>\n",
       "      <td>-0.018815</td>\n",
       "      <td>-0.202729</td>\n",
       "      <td>-0.670540</td>\n",
       "      <td>2.085742</td>\n",
       "      <td>1</td>\n",
       "    </tr>\n",
       "    <tr>\n",
       "      <th>1</th>\n",
       "      <td>-0.966087</td>\n",
       "      <td>0.301163</td>\n",
       "      <td>-0.002664</td>\n",
       "      <td>-0.587354</td>\n",
       "      <td>-0.561810</td>\n",
       "      <td>1.019058</td>\n",
       "      <td>-0.951542</td>\n",
       "      <td>-0.871507</td>\n",
       "      <td>-0.966087</td>\n",
       "      <td>0.120068</td>\n",
       "      <td>...</td>\n",
       "      <td>1.211789</td>\n",
       "      <td>-0.706102</td>\n",
       "      <td>1.934405</td>\n",
       "      <td>0.012518</td>\n",
       "      <td>0.798531</td>\n",
       "      <td>-0.791424</td>\n",
       "      <td>1.596477</td>\n",
       "      <td>-0.477904</td>\n",
       "      <td>0.131967</td>\n",
       "      <td>1</td>\n",
       "    </tr>\n",
       "    <tr>\n",
       "      <th>2</th>\n",
       "      <td>-0.608565</td>\n",
       "      <td>-0.705699</td>\n",
       "      <td>-0.931432</td>\n",
       "      <td>-0.251013</td>\n",
       "      <td>-0.561810</td>\n",
       "      <td>1.019058</td>\n",
       "      <td>-0.515384</td>\n",
       "      <td>-0.116515</td>\n",
       "      <td>-0.608565</td>\n",
       "      <td>-0.358063</td>\n",
       "      <td>...</td>\n",
       "      <td>-0.077965</td>\n",
       "      <td>-0.689129</td>\n",
       "      <td>0.383815</td>\n",
       "      <td>-0.542199</td>\n",
       "      <td>-0.992049</td>\n",
       "      <td>-0.451328</td>\n",
       "      <td>-0.051099</td>\n",
       "      <td>-0.257360</td>\n",
       "      <td>0.783225</td>\n",
       "      <td>1</td>\n",
       "    </tr>\n",
       "    <tr>\n",
       "      <th>3</th>\n",
       "      <td>0.264384</td>\n",
       "      <td>-0.199738</td>\n",
       "      <td>1.003403</td>\n",
       "      <td>-0.923696</td>\n",
       "      <td>-0.561810</td>\n",
       "      <td>1.019058</td>\n",
       "      <td>0.432832</td>\n",
       "      <td>-0.302989</td>\n",
       "      <td>0.264384</td>\n",
       "      <td>-0.358063</td>\n",
       "      <td>...</td>\n",
       "      <td>1.211789</td>\n",
       "      <td>-0.485326</td>\n",
       "      <td>1.314169</td>\n",
       "      <td>-0.480563</td>\n",
       "      <td>-0.981327</td>\n",
       "      <td>0.003366</td>\n",
       "      <td>-0.104787</td>\n",
       "      <td>-0.106060</td>\n",
       "      <td>-0.193662</td>\n",
       "      <td>1</td>\n",
       "    </tr>\n",
       "    <tr>\n",
       "      <th>4</th>\n",
       "      <td>0.118396</td>\n",
       "      <td>-0.604827</td>\n",
       "      <td>-0.279069</td>\n",
       "      <td>1.262525</td>\n",
       "      <td>0.179621</td>\n",
       "      <td>-0.981298</td>\n",
       "      <td>0.320255</td>\n",
       "      <td>0.079056</td>\n",
       "      <td>0.118396</td>\n",
       "      <td>0.120068</td>\n",
       "      <td>...</td>\n",
       "      <td>-1.367719</td>\n",
       "      <td>-0.656611</td>\n",
       "      <td>0.383815</td>\n",
       "      <td>-0.110752</td>\n",
       "      <td>1.281022</td>\n",
       "      <td>-2.332946</td>\n",
       "      <td>0.520528</td>\n",
       "      <td>-0.740892</td>\n",
       "      <td>2.737000</td>\n",
       "      <td>1</td>\n",
       "    </tr>\n",
       "  </tbody>\n",
       "</table>\n",
       "<p>5 rows × 23 columns</p>\n",
       "</div>"
      ],
      "text/plain": [
       "   funded_amnt  annual_inc       dti  fico_range_high     grade  \\\n",
       "0     0.106479   -0.395376  2.001272        -0.923696  1.662482   \n",
       "1    -0.966087    0.301163 -0.002664        -0.587354 -0.561810   \n",
       "2    -0.608565   -0.705699 -0.931432        -0.251013 -0.561810   \n",
       "3     0.264384   -0.199738  1.003403        -0.923696 -0.561810   \n",
       "4     0.118396   -0.604827 -0.279069         1.262525  0.179621   \n",
       "\n",
       "   initial_list_status  installment  int_rate  loan_amnt  mort_acc  ...  \\\n",
       "0            -0.981298    -0.148289  1.482160   0.106479 -0.836194  ...   \n",
       "1             1.019058    -0.951542 -0.871507  -0.966087  0.120068  ...   \n",
       "2             1.019058    -0.515384 -0.116515  -0.608565 -0.358063  ...   \n",
       "3             1.019058     0.432832 -0.302989   0.264384 -0.358063  ...   \n",
       "4            -0.981298     0.320255  0.079056   0.118396  0.120068  ...   \n",
       "\n",
       "   verification_status  last_pymnt_amnt  num_actv_rev_tl  \\\n",
       "0            -1.367719        -0.674754         4.725466   \n",
       "1             1.211789        -0.706102         1.934405   \n",
       "2            -0.077965        -0.689129         0.383815   \n",
       "3             1.211789        -0.485326         1.314169   \n",
       "4            -1.367719        -0.656611         0.383815   \n",
       "\n",
       "   mo_sin_rcnt_rev_tl_op  mo_sin_old_rev_tl_op   bc_util  bc_open_to_buy  \\\n",
       "0              -0.603834              0.326761 -0.018815       -0.202729   \n",
       "1               0.012518              0.798531 -0.791424        1.596477   \n",
       "2              -0.542199             -0.992049 -0.451328       -0.051099   \n",
       "3              -0.480563             -0.981327  0.003366       -0.104787   \n",
       "4              -0.110752              1.281022 -2.332946        0.520528   \n",
       "\n",
       "   avg_cur_bal  acc_open_past_24mths  loan_status  \n",
       "0    -0.670540              2.085742            1  \n",
       "1    -0.477904              0.131967            1  \n",
       "2    -0.257360              0.783225            1  \n",
       "3    -0.106060             -0.193662            1  \n",
       "4    -0.740892              2.737000            1  \n",
       "\n",
       "[5 rows x 23 columns]"
      ]
     },
     "execution_count": 44,
     "metadata": {},
     "output_type": "execute_result"
    }
   ],
   "source": [
    "# Since the missing values are few compared to the total number, we have decided to drop all labels containing missing values.\n",
    "# We just drop NA values here from this Df\n",
    "combined_sample_cleaned = combined_sample.dropna()\n",
    "combined_sample_cleaned.head()"
   ]
  },
  {
   "cell_type": "markdown",
   "metadata": {},
   "source": [
    "<a id='4'></a>\n",
    "# <u>5. Evaluate Algorithms and Models"
   ]
  },
  {
   "cell_type": "markdown",
   "metadata": {},
   "source": [
    "<a id='4.1'></a>\n",
    "## 5.1. Train Test Split"
   ]
  },
  {
   "cell_type": "markdown",
   "metadata": {},
   "source": [
    "80:20 split"
   ]
  },
  {
   "cell_type": "code",
   "execution_count": 45,
   "metadata": {},
   "outputs": [],
   "source": [
    "df_train, df_test = train_test_split(combined_sample_cleaned, test_size=0.20, random_state=1234)"
   ]
  },
  {
   "cell_type": "code",
   "execution_count": 46,
   "metadata": {},
   "outputs": [],
   "source": [
    "X_train = df_train.drop(['loan_status'],axis=1)\n",
    "y_train = df_train['loan_status']\n",
    "X_test = df_test.drop(['loan_status'],axis=1)\n",
    "y_test = df_test['loan_status']"
   ]
  },
  {
   "cell_type": "markdown",
   "metadata": {},
   "source": [
    "<a id='4.2'></a>\n",
    "## 5.2. Test Options and Evaluation Metrics\n"
   ]
  },
  {
   "cell_type": "markdown",
   "metadata": {},
   "source": [
    "K-Folds cross validation with 10 folds and 'roc-auc' as your score."
   ]
  },
  {
   "cell_type": "code",
   "execution_count": 47,
   "metadata": {},
   "outputs": [],
   "source": [
    "# We define K-Folds cross-validaton with 10 folds\n",
    "kf = KFold(n_splits=10, shuffle=True, random_state=42)"
   ]
  },
  {
   "cell_type": "markdown",
   "metadata": {},
   "source": [
    "We will proceed evaluating the models after training the models, so after the point below"
   ]
  },
  {
   "cell_type": "markdown",
   "metadata": {},
   "source": [
    "<a id='4.3'></a>\n",
    "## 5.3. Compare Models and Algorithms"
   ]
  },
  {
   "cell_type": "markdown",
   "metadata": {},
   "source": [
    "wide range of classification models."
   ]
  },
  {
   "cell_type": "code",
   "execution_count": 48,
   "metadata": {},
   "outputs": [],
   "source": [
    "# Import scikit-learn classifiers\n",
    "from sklearn.linear_model import LogisticRegression\n",
    "from sklearn.neighbors import KNeighborsClassifier\n",
    "from sklearn.tree import DecisionTreeClassifier\n",
    "from sklearn.naive_bayes import GaussianNB\n",
    "from sklearn.neural_network import MLPClassifier\n",
    "from sklearn.ensemble import AdaBoostClassifier, RandomForestClassifier"
   ]
  },
  {
   "cell_type": "code",
   "execution_count": 49,
   "metadata": {
    "_cell_guid": "772802f7-f4e4-84ee-6377-6464ab2e5da4"
   },
   "outputs": [],
   "source": [
    "# We will train the following models\n",
    "models = []\n",
    "models.append(('LR', LogisticRegression()))\n",
    "models.append(('KNN', KNeighborsClassifier()))\n",
    "models.append(('DT', DecisionTreeClassifier()))\n",
    "models.append(('NB', GaussianNB()))\n",
    "# Neural Network\n",
    "models.append(('NN', MLPClassifier()))\n",
    "# Boosting methods\n",
    "models.append(('AB', AdaBoostClassifier()))\n",
    "# Bagging methods\n",
    "models.append(('RF', RandomForestClassifier()))"
   ]
  },
  {
   "cell_type": "markdown",
   "metadata": {},
   "source": [
    "### K-folds cross validation"
   ]
  },
  {
   "cell_type": "code",
   "execution_count": 50,
   "metadata": {
    "_cell_guid": "a784ab4a-eb59-98cc-76cf-b55f382d057a"
   },
   "outputs": [
    {
     "name": "stdout",
     "output_type": "stream",
     "text": [
      "LR Model - Mean ROC-AUC: 0.9253 (Std Dev: 0.0075)\n",
      "KNN Model - Mean ROC-AUC: 0.8156 (Std Dev: 0.0138)\n",
      "DT Model - Mean ROC-AUC: 0.8077 (Std Dev: 0.0075)\n",
      "NB Model - Mean ROC-AUC: 0.9002 (Std Dev: 0.0089)\n",
      "NN Model - Mean ROC-AUC: 0.9164 (Std Dev: 0.0072)\n",
      "AB Model - Mean ROC-AUC: 0.9310 (Std Dev: 0.0105)\n",
      "RF Model - Mean ROC-AUC: 0.9333 (Std Dev: 0.0077)\n"
     ]
    }
   ],
   "source": [
    "# Initialize an empty DataFrame to store cross-validation scores for each model\n",
    "df_score = pd.DataFrame()\n",
    "\n",
    "# List to store results (mean and standard deviation) for each model\n",
    "results = []\n",
    "\n",
    "# Loop to perform cross-validation on each model\n",
    "for name, model in models:\n",
    "    # Perform cross-validation with 10 folds and use ROC-AUC as the scoring metric\n",
    "    scores = cross_val_score(model, X_train, y_train, cv=kf, scoring='roc_auc')\n",
    "    \n",
    "    # Update the score DataFrame with results for each model\n",
    "    df_score[name] = scores\n",
    "    \n",
    "    # Calculate the mean and standard deviation of the scores\n",
    "    mean_score = scores.mean()\n",
    "    std_dev = scores.std()\n",
    "    \n",
    "    # Append the results to the list\n",
    "    results.append((name, mean_score, std_dev))\n",
    "    \n",
    "    # Print results for each model\n",
    "    print(f'{name} Model - Mean ROC-AUC: {mean_score:.4f} (Std Dev: {std_dev:.4f})')\n"
   ]
  },
  {
   "cell_type": "markdown",
   "metadata": {},
   "source": [
    "BoxPlot to capture the range of values coming from the K Folds for each model"
   ]
  },
  {
   "cell_type": "code",
   "execution_count": 51,
   "metadata": {},
   "outputs": [
    {
     "data": {
      "image/png": "[encoded data removed]",
      "text/plain": [
       "<Figure size 720x432 with 1 Axes>"
      ]
     },
     "metadata": {
      "needs_background": "light"
     },
     "output_type": "display_data"
    }
   ],
   "source": [
    "# BoxPlot to compare the models\n",
    "plt.figure(figsize=(10, 6))\n",
    "plt.boxplot(df_score,labels = df_score.columns)\n",
    "plt.title(\"Model Comparison using ROC-AUC with 10-Fold Cross-Validation\")\n",
    "plt.xlabel(\"Models\")\n",
    "plt.ylabel(\"ROC-AUC Score\")\n",
    "plt.show()"
   ]
  },
  {
   "cell_type": "markdown",
   "metadata": {},
   "source": [
    "The **Random Forest** model has the best balance of high AUC and low variability, making it the strongest performer overall. The **AdaBoost** and **Logistic Regression** models also perform well, with high AUCs and low standard deviations. In contrast, the **K-Nearest Neighbors** and **Decision Tree** models have lower AUC scores, suggesting they may not be as effective in predicting outcomes in this context."
   ]
  },
  {
   "cell_type": "markdown",
   "metadata": {},
   "source": [
    "<a id='5'></a>\n",
    "# <u>6. Model Tuning and Grid Search"
   ]
  },
  {
   "cell_type": "markdown",
   "metadata": {
    "_cell_guid": "848ca488-b0fd-8e93-2e68-23d32c71d89c"
   },
   "source": [
    "Choosing the best model and do some hyperparameter tuning by looping over the hyper parameters of the model to fine-tune the model."
   ]
  },
  {
   "cell_type": "markdown",
   "metadata": {},
   "source": [
    "Given the results above the best model is **Random Forest** model"
   ]
  },
  {
   "cell_type": "code",
   "execution_count": 52,
   "metadata": {},
   "outputs": [],
   "source": [
    "# We define the parameter grid for the Random Forest model for hyperparameter tuning\n",
    "param_grid_rf = {\n",
    "    'n_estimators': [50, 100],    # Number of trees in the forest to try    \n",
    "    'max_depth': [10, 20],        # Maximum depth of each tree to try   \n",
    "    'min_samples_split': [5, 10]  # Minimum number of samples required to split an internal node\n",
    "}"
   ]
  },
  {
   "cell_type": "code",
   "execution_count": 53,
   "metadata": {},
   "outputs": [
    {
     "name": "stdout",
     "output_type": "stream",
     "text": [
      "Best Random Forest Parameters: {'max_depth': 10, 'min_samples_split': 5, 'n_estimators': 100}\n",
      "Best Random Forest Score: 0.8512082853855005\n"
     ]
    }
   ],
   "source": [
    "# We initialize the Random Forest model\n",
    "random_forest_model = RandomForestClassifier(random_state=1234)\n",
    "\n",
    "# We set up GridSearchCV with the Random Forest model and the defined parameter grid\n",
    "grid_rf = GridSearchCV(random_forest_model, param_grid_rf, cv=10, scoring='accuracy')\n",
    "grid_rf.fit(X_train, y_train)\n",
    "\n",
    "print(\"Best Random Forest Parameters:\", grid_rf.best_params_)\n",
    "print(\"Best Random Forest Score:\", grid_rf.best_score_)"
   ]
  },
  {
   "cell_type": "markdown",
   "metadata": {},
   "source": [
    "<a id='6'></a>\n",
    "# <u> 7. Finalise the Model"
   ]
  },
  {
   "cell_type": "markdown",
   "metadata": {},
   "source": [
    "Finalize Model with best parameters found during tuning step."
   ]
  },
  {
   "cell_type": "code",
   "execution_count": 54,
   "metadata": {},
   "outputs": [],
   "source": [
    "rf_best_params = grid_rf.best_params_\n",
    "\n",
    "# We initialize the Random Forest model with the best parameters found\n",
    "rf_model_tuned = RandomForestClassifier(**rf_best_params, random_state=1234)\n",
    "\n",
    "# We fit the tuned Random Forest model to the training data\n",
    "rf_model_tuned.fit(X_train, y_train)\n",
    "\n",
    "y_pred_rf = rf_model_tuned.predict(X_test)"
   ]
  },
  {
   "cell_type": "markdown",
   "metadata": {},
   "source": [
    "<a id='6.1'></a>\n",
    "## 7.1. Results on the Test Dataset"
   ]
  },
  {
   "cell_type": "code",
   "execution_count": 55,
   "metadata": {
    "_cell_guid": "f9725666-3c21-69d1-ddf6-45e47d982444"
   },
   "outputs": [
    {
     "data": {
      "image/png": "[encoded data removed]",
      "text/plain": [
       "<Figure size 432x288 with 2 Axes>"
      ]
     },
     "metadata": {
      "needs_background": "light"
     },
     "output_type": "display_data"
    },
    {
     "name": "stdout",
     "output_type": "stream",
     "text": [
      "Accuracy: 0.8670\n",
      "Precision: 0.8391\n",
      "Recall: 0.9142\n",
      "F1-score: 0.8751\n"
     ]
    }
   ],
   "source": [
    "from sklearn.metrics import accuracy_score, confusion_matrix, precision_score, recall_score, f1_score, ConfusionMatrixDisplay, classification_report\n",
    "\n",
    "# Computing and visualizing the Confusion Matrix\n",
    "cm = confusion_matrix(y_test, y_pred_rf)\n",
    "disp = ConfusionMatrixDisplay(confusion_matrix=cm)\n",
    "disp.plot(cmap=plt.cm.Blues)\n",
    "plt.title('Confusion Matrix')\n",
    "plt.show()\n",
    "\n",
    "# Accuracy, Precision, Recall e F1-score\n",
    "accuracy = accuracy_score(y_test, y_pred_rf)\n",
    "precision = precision_score(y_test, y_pred_rf)\n",
    "recall = recall_score(y_test, y_pred_rf)\n",
    "f1 = f1_score(y_test, y_pred_rf)\n",
    "\n",
    "print(f\"Accuracy: {accuracy:.4f}\")\n",
    "print(f\"Precision: {precision:.4f}\")\n",
    "print(f\"Recall: {recall:.4f}\")\n",
    "print(f\"F1-score: {f1:.4f}\")"
   ]
  },
  {
   "cell_type": "markdown",
   "metadata": {},
   "source": [
    "The model generally performs well, with a high recall and a good F1-score, which implies it is both precise and capable of identifying most true positives. However, there is still a notable number of false positives (194)"
   ]
  },
  {
   "cell_type": "markdown",
   "metadata": {},
   "source": [
    "### Calculate the ROC curve for the model and its AUC"
   ]
  },
  {
   "cell_type": "code",
   "execution_count": 56,
   "metadata": {},
   "outputs": [],
   "source": [
    "# Get predicted probabilities for the positive class (positive class here = being charged-off)\n",
    "y_prob_rf = rf_model_tuned.predict_proba(X_test)[:, 0]\n",
    "\n",
    "fpr_rf, tpr_rf, _ = roc_curve(y_test, y_prob_rf, pos_label=0)\n",
    "auc_rf = auc(fpr_rf, tpr_rf)"
   ]
  },
  {
   "cell_type": "code",
   "execution_count": 57,
   "metadata": {},
   "outputs": [
    {
     "data": {
      "image/png": "[encoded data removed]",
      "text/plain": [
       "<Figure size 720x432 with 1 Axes>"
      ]
     },
     "metadata": {
      "needs_background": "light"
     },
     "output_type": "display_data"
    }
   ],
   "source": [
    "plt.figure(figsize=(10, 6))\n",
    "plt.plot(fpr_rf, tpr_rf, label=f'Random Forest (AUC = {auc_rf:.2f})')\n",
    "plt.plot([0, 1], [0, 1], 'k--', label='Random Guess')\n",
    "\n",
    "plt.xlabel('False Positive Rate')\n",
    "plt.ylabel('True Positive Rate')\n",
    "plt.title('ROC Curve')\n",
    "plt.legend(loc='lower right')\n",
    "plt.show()\n"
   ]
  },
  {
   "cell_type": "markdown",
   "metadata": {},
   "source": [
    "<a id='6.2'></a>\n",
    "## 7.2. Variable Intuition/Feature Importance\n",
    "Looking at the details above GBM might be worthy of further study.\n",
    "Let us look into the Feature Importance of the GBM model"
   ]
  },
  {
   "cell_type": "code",
   "execution_count": 58,
   "metadata": {},
   "outputs": [
    {
     "data": {
      "image/png": "[encoded data removed]",
      "text/plain": [
       "<Figure size 720x432 with 1 Axes>"
      ]
     },
     "metadata": {
      "needs_background": "light"
     },
     "output_type": "display_data"
    }
   ],
   "source": [
    "# For Random Forest: we already have feature_importances\n",
    "\n",
    "feature_importances =  rf_model_tuned.feature_importances_\n",
    "feature_importance_df = pd.DataFrame({\n",
    "    'Feature': X_train.columns,\n",
    "    'Importance': feature_importances\n",
    "}).sort_values(by='Importance', ascending=False)\n",
    "\n",
    "# Now we plot them\n",
    "plt.figure(figsize=(10, 6))\n",
    "plt.barh(feature_importance_df['Feature'], feature_importance_df['Importance'])\n",
    "plt.gca().invert_yaxis()\n",
    "plt.xlabel('Feature Importance')\n",
    "plt.title('Feature Importances for Random Forest Model')\n",
    "plt.show()"
   ]
  },
  {
   "cell_type": "markdown",
   "metadata": {},
   "source": [
    "Note that we clearly have a top 5 features here: \n",
    "- last_pymnt_amnt\n",
    "- int_rate\n",
    "- term\n",
    "- grade\n",
    "- dti"
   ]
  },
  {
   "cell_type": "markdown",
   "metadata": {},
   "source": [
    "# <u>8. Extra work : "
   ]
  },
  {
   "cell_type": "markdown",
   "metadata": {},
   "source": [
    "- It could be interesting to see if our metrics are improved when removing some features from the dataset.\n",
    "- We will remove features one by one, in an accumulating way (meaning that we accumuluate the features to drop) to see in which specific case we have the best metrics. \n",
    "- We will therefore start to remove the features with the least importance."
   ]
  },
  {
   "cell_type": "code",
   "execution_count": 59,
   "metadata": {},
   "outputs": [
    {
     "name": "stdout",
     "output_type": "stream",
     "text": [
      "No features left to remove.\n"
     ]
    },
    {
     "data": {
      "text/html": [
       "<div>\n",
       "<style scoped>\n",
       "    .dataframe tbody tr th:only-of-type {\n",
       "        vertical-align: middle;\n",
       "    }\n",
       "\n",
       "    .dataframe tbody tr th {\n",
       "        vertical-align: top;\n",
       "    }\n",
       "\n",
       "    .dataframe thead th {\n",
       "        text-align: right;\n",
       "    }\n",
       "</style>\n",
       "<table border=\"1\" class=\"dataframe\">\n",
       "  <thead>\n",
       "    <tr style=\"text-align: right;\">\n",
       "      <th></th>\n",
       "      <th>Removed Feature</th>\n",
       "      <th>Accuracy</th>\n",
       "      <th>F1 Score</th>\n",
       "    </tr>\n",
       "  </thead>\n",
       "  <tbody>\n",
       "    <tr>\n",
       "      <th>0</th>\n",
       "      <td>None (All Features)</td>\n",
       "      <td>0.867000</td>\n",
       "      <td>0.875100</td>\n",
       "    </tr>\n",
       "    <tr>\n",
       "      <th>1</th>\n",
       "      <td>initial_list_status</td>\n",
       "      <td>0.866084</td>\n",
       "      <td>0.872536</td>\n",
       "    </tr>\n",
       "    <tr>\n",
       "      <th>2</th>\n",
       "      <td>mort_acc</td>\n",
       "      <td>0.861482</td>\n",
       "      <td>0.868156</td>\n",
       "    </tr>\n",
       "    <tr>\n",
       "      <th>3</th>\n",
       "      <td>verification_status</td>\n",
       "      <td>0.862862</td>\n",
       "      <td>0.869298</td>\n",
       "    </tr>\n",
       "    <tr>\n",
       "      <th>4</th>\n",
       "      <td>num_actv_rev_tl</td>\n",
       "      <td>0.868845</td>\n",
       "      <td>0.874394</td>\n",
       "    </tr>\n",
       "    <tr>\n",
       "      <th>5</th>\n",
       "      <td>open_acc</td>\n",
       "      <td>0.864243</td>\n",
       "      <td>0.870444</td>\n",
       "    </tr>\n",
       "    <tr>\n",
       "      <th>6</th>\n",
       "      <td>mo_sin_rcnt_rev_tl_op</td>\n",
       "      <td>0.867464</td>\n",
       "      <td>0.874016</td>\n",
       "    </tr>\n",
       "    <tr>\n",
       "      <th>7</th>\n",
       "      <td>bc_util</td>\n",
       "      <td>0.868845</td>\n",
       "      <td>0.874615</td>\n",
       "    </tr>\n",
       "    <tr>\n",
       "      <th>8</th>\n",
       "      <td>revol_util</td>\n",
       "      <td>0.867004</td>\n",
       "      <td>0.872855</td>\n",
       "    </tr>\n",
       "    <tr>\n",
       "      <th>9</th>\n",
       "      <td>funded_amnt</td>\n",
       "      <td>0.866084</td>\n",
       "      <td>0.871863</td>\n",
       "    </tr>\n",
       "    <tr>\n",
       "      <th>10</th>\n",
       "      <td>annual_inc</td>\n",
       "      <td>0.856420</td>\n",
       "      <td>0.863517</td>\n",
       "    </tr>\n",
       "    <tr>\n",
       "      <th>11</th>\n",
       "      <td>mo_sin_old_rev_tl_op</td>\n",
       "      <td>0.857340</td>\n",
       "      <td>0.864510</td>\n",
       "    </tr>\n",
       "    <tr>\n",
       "      <th>12</th>\n",
       "      <td>loan_amnt</td>\n",
       "      <td>0.862402</td>\n",
       "      <td>0.869032</td>\n",
       "    </tr>\n",
       "    <tr>\n",
       "      <th>13</th>\n",
       "      <td>avg_cur_bal</td>\n",
       "      <td>0.860101</td>\n",
       "      <td>0.867017</td>\n",
       "    </tr>\n",
       "    <tr>\n",
       "      <th>14</th>\n",
       "      <td>acc_open_past_24mths</td>\n",
       "      <td>0.863783</td>\n",
       "      <td>0.870289</td>\n",
       "    </tr>\n",
       "    <tr>\n",
       "      <th>15</th>\n",
       "      <td>fico_range_high</td>\n",
       "      <td>0.856420</td>\n",
       "      <td>0.862917</td>\n",
       "    </tr>\n",
       "    <tr>\n",
       "      <th>16</th>\n",
       "      <td>bc_open_to_buy</td>\n",
       "      <td>0.862862</td>\n",
       "      <td>0.868722</td>\n",
       "    </tr>\n",
       "    <tr>\n",
       "      <th>17</th>\n",
       "      <td>installment</td>\n",
       "      <td>0.839393</td>\n",
       "      <td>0.845916</td>\n",
       "    </tr>\n",
       "    <tr>\n",
       "      <th>18</th>\n",
       "      <td>dti</td>\n",
       "      <td>0.861942</td>\n",
       "      <td>0.866429</td>\n",
       "    </tr>\n",
       "    <tr>\n",
       "      <th>19</th>\n",
       "      <td>grade</td>\n",
       "      <td>0.862862</td>\n",
       "      <td>0.867556</td>\n",
       "    </tr>\n",
       "    <tr>\n",
       "      <th>20</th>\n",
       "      <td>term</td>\n",
       "      <td>0.852738</td>\n",
       "      <td>0.857524</td>\n",
       "    </tr>\n",
       "    <tr>\n",
       "      <th>21</th>\n",
       "      <td>int_rate</td>\n",
       "      <td>0.836631</td>\n",
       "      <td>0.841730</td>\n",
       "    </tr>\n",
       "  </tbody>\n",
       "</table>\n",
       "</div>"
      ],
      "text/plain": [
       "          Removed Feature  Accuracy  F1 Score\n",
       "0     None (All Features)  0.867000  0.875100\n",
       "1     initial_list_status  0.866084  0.872536\n",
       "2                mort_acc  0.861482  0.868156\n",
       "3     verification_status  0.862862  0.869298\n",
       "4         num_actv_rev_tl  0.868845  0.874394\n",
       "5                open_acc  0.864243  0.870444\n",
       "6   mo_sin_rcnt_rev_tl_op  0.867464  0.874016\n",
       "7                 bc_util  0.868845  0.874615\n",
       "8              revol_util  0.867004  0.872855\n",
       "9             funded_amnt  0.866084  0.871863\n",
       "10             annual_inc  0.856420  0.863517\n",
       "11   mo_sin_old_rev_tl_op  0.857340  0.864510\n",
       "12              loan_amnt  0.862402  0.869032\n",
       "13            avg_cur_bal  0.860101  0.867017\n",
       "14   acc_open_past_24mths  0.863783  0.870289\n",
       "15        fico_range_high  0.856420  0.862917\n",
       "16         bc_open_to_buy  0.862862  0.868722\n",
       "17            installment  0.839393  0.845916\n",
       "18                    dti  0.861942  0.866429\n",
       "19                  grade  0.862862  0.867556\n",
       "20                   term  0.852738  0.857524\n",
       "21               int_rate  0.836631  0.841730"
      ]
     },
     "execution_count": 59,
     "metadata": {},
     "output_type": "execute_result"
    }
   ],
   "source": [
    "# We initialize a dictionary to keep track of the metrics here\n",
    "metrics_history = {\n",
    "    'Removed Feature': [],\n",
    "    'Accuracy': [],\n",
    "    'F1 Score': []\n",
    "}\n",
    "\n",
    "X_train_reduced = X_train.copy()\n",
    "X_test_reduced = X_test.copy()\n",
    "\n",
    "#  We list the features based on their importance (from least important to most important)\n",
    "features_sorted = feature_importance_df['Feature'].values[::-1]\n",
    "\n",
    "# We first append  the initial metrics,with all features, to metrics_history\n",
    "metrics_history['Removed Feature'].append('None (All Features)') \n",
    "metrics_history['Accuracy'].append(0.8670)\n",
    "metrics_history['F1 Score'].append(0.8751)\n",
    "\n",
    "# We iterate & remove each feature\n",
    "for feature in features_sorted:\n",
    "    X_train_reduced = X_train_reduced.drop(columns=[feature])\n",
    "    X_test_reduced = X_test_reduced.drop(columns=[feature], errors='ignore')\n",
    "\n",
    "    if X_train_reduced.shape[1] == 0:\n",
    "        print(\"No features left to remove.\")\n",
    "        break\n",
    "    \n",
    "    rf_model_reduced = RandomForestClassifier(random_state=1234)\n",
    "    rf_model_reduced.fit(X_train_reduced, y_train)\n",
    "    \n",
    "    pred_reduced = rf_model_reduced.predict(X_test_reduced)\n",
    "    reduced_accuracy = accuracy_score(y_test, pred_reduced)\n",
    "    reduced_f1 = f1_score(y_test, pred_reduced)\n",
    "    \n",
    "    metrics_history['Removed Feature'].append(feature)\n",
    "    metrics_history['Accuracy'].append(reduced_accuracy)\n",
    "    metrics_history['F1 Score'].append(reduced_f1)\n",
    "\n",
    "\n",
    "metrics_df = pd.DataFrame(metrics_history)\n",
    "metrics_df"
   ]
  },
  {
   "cell_type": "markdown",
   "metadata": {},
   "source": [
    "<u>What do we see here ?</u>\n",
    "\n",
    "- We see that removing the least 4 important features provides the best metrics here (we only consider accuracy & F1-Score).\n",
    "- It  even overperforms the initial model.\n",
    "  \n",
    "- Our conclusion is that removing the least 4 important features improves accuracy & F1 score, so in our extra analysis we would consider dropping out these features as well."
   ]
  },
  {
   "cell_type": "code",
   "execution_count": 60,
   "metadata": {},
   "outputs": [
    {
     "data": {
      "image/png": "[encoded data removed]",
      "text/plain": [
       "<Figure size 432x288 with 2 Axes>"
      ]
     },
     "metadata": {
      "needs_background": "light"
     },
     "output_type": "display_data"
    },
    {
     "name": "stdout",
     "output_type": "stream",
     "text": [
      "Accuracy: 0.8688\n",
      "Precision: 0.8537\n",
      "Recall: 0.8961\n",
      "F1-score: 0.8744\n"
     ]
    }
   ],
   "source": [
    "# We proceed with the model selected above ( so removing the least 4 important features)\n",
    "\n",
    "X_train_reduced = X_train.copy()\n",
    "X_test_reduced = X_test.copy()\n",
    "\n",
    "# We drop the selected features\n",
    "X_train_reduced = X_train_reduced.drop(columns=['initial_list_status', 'mort_acc','verification_status','num_actv_rev_tl'])\n",
    "X_test_reduced = X_test_reduced.drop(columns=['initial_list_status', 'mort_acc','verification_status','num_actv_rev_tl'], errors='ignore')\n",
    "\n",
    "# We fit the model and get the prediction\n",
    "rf_model_reduced = RandomForestClassifier(random_state=1234)\n",
    "rf_model_reduced.fit(X_train_reduced, y_train)\n",
    "pred_reduced = rf_model_reduced.predict(X_test_reduced)\n",
    "    \n",
    "# Computing and visualizing the Confusion Matrix\n",
    "cm = confusion_matrix(y_test, pred_reduced)\n",
    "disp = ConfusionMatrixDisplay(confusion_matrix=cm)\n",
    "disp.plot(cmap=plt.cm.Blues)\n",
    "plt.title('Confusion Matrix')\n",
    "plt.show()\n",
    "\n",
    "# Accuracy, Precision, Recall e F1-score\n",
    "accuracy = accuracy_score(y_test, pred_reduced)\n",
    "precision = precision_score(y_test, pred_reduced)\n",
    "recall = recall_score(y_test, pred_reduced)\n",
    "f1 = f1_score(y_test, pred_reduced)\n",
    "\n",
    "print(f\"Accuracy: {accuracy:.4f}\")\n",
    "print(f\"Precision: {precision:.4f}\")\n",
    "print(f\"Recall: {recall:.4f}\")\n",
    "print(f\"F1-score: {f1:.4f}\")"
   ]
  },
  {
   "cell_type": "markdown",
   "metadata": {},
   "source": [
    "We still want to improve our model reducing False Positives, so we will try to change our treshold"
   ]
  },
  {
   "cell_type": "code",
   "execution_count": 61,
   "metadata": {},
   "outputs": [
    {
     "data": {
      "image/png": "[encoded data removed]",
      "text/plain": [
       "<Figure size 720x432 with 1 Axes>"
      ]
     },
     "metadata": {
      "needs_background": "light"
     },
     "output_type": "display_data"
    },
    {
     "data": {
      "image/png": "[encoded data removed]",
      "text/plain": [
       "<Figure size 432x288 with 2 Axes>"
      ]
     },
     "metadata": {
      "needs_background": "light"
     },
     "output_type": "display_data"
    },
    {
     "name": "stdout",
     "output_type": "stream",
     "text": [
      "Optimal Threshold: 0.45\n",
      "Accuracy: 0.8670\n",
      "Precision: 0.8256\n",
      "Recall: 0.9368\n",
      "F1-score: 0.8777\n"
     ]
    }
   ],
   "source": [
    "# Train the Random Forest model\n",
    "rf = RandomForestClassifier(random_state=1234)\n",
    "rf_model_reduced.fit(X_train_reduced, y_train)\n",
    "pred_reduced = rf_model_reduced.predict(X_test_reduced)\n",
    "\n",
    "# Get predicted probabilities\n",
    "y_prob = rf_model_reduced.predict_proba(X_test_reduced)[:, 1]  # Get probabilities for the positive class\n",
    "\n",
    "# Define a range of thresholds\n",
    "thresholds = np.arange(0.0, 1.0, 0.01)\n",
    "precisions = []\n",
    "recalls = []\n",
    "\n",
    "# Calculate precision and recall for each threshold\n",
    "for threshold in thresholds:\n",
    "    pred_reduced = (y_prob >= threshold).astype(int)  # Convert probabilities to binary predictions\n",
    "    precisions.append(precision_score(y_test, pred_reduced))\n",
    "    recalls.append(recall_score(y_test, pred_reduced))\n",
    "\n",
    "# Plot Precision-Recall Curve\n",
    "plt.figure(figsize=(10, 6))\n",
    "plt.plot(thresholds, precisions, label='Precision', color='blue')\n",
    "plt.plot(thresholds, recalls, label='Recall', color='orange')\n",
    "plt.xlabel('Threshold')\n",
    "plt.ylabel('Score')\n",
    "plt.title('Precision and Recall vs. Threshold')\n",
    "plt.axhline(y=1, color='gray', linestyle='--', linewidth=0.5)\n",
    "plt.axvline(x=0.5, color='red', linestyle='--', label='Default Threshold (0.5)')\n",
    "plt.axvline(x=0.45, color='blue', linestyle='--', label='Adjusted Threshold (0.35)')\n",
    "plt.legend()\n",
    "plt.grid()\n",
    "plt.show()\n",
    "\n",
    "# Choose an optimal threshold based on desired precision or recall\n",
    "optimal_threshold = 0.45  # Example threshold favoring recall\n",
    "y_pred_optimal = (y_prob >= optimal_threshold).astype(int)\n",
    "\n",
    "# Computing and visualizing the Confusion Matrix\n",
    "cm = confusion_matrix(y_test, y_pred_optimal)\n",
    "disp = ConfusionMatrixDisplay(confusion_matrix=cm)\n",
    "disp.plot(cmap=plt.cm.Blues)\n",
    "plt.title('Confusion Matrix')\n",
    "plt.show()\n",
    "\n",
    "# Accuracy, Precision, Recall e F1-score\n",
    "accuracy = accuracy_score(y_test, y_pred_optimal)\n",
    "precision = precision_score(y_test, y_pred_optimal)\n",
    "recall = recall_score(y_test, y_pred_optimal)\n",
    "f1 = f1_score(y_test, y_pred_optimal)\n",
    "\n",
    "print(f\"Optimal Threshold: {optimal_threshold}\")\n",
    "print(f\"Accuracy: {accuracy:.4f}\")\n",
    "print(f\"Precision: {precision:.4f}\")\n",
    "print(f\"Recall: {recall:.4f}\")\n",
    "print(f\"F1-score: {f1:.4f}\")"
   ]
  },
  {
   "cell_type": "markdown",
   "metadata": {},
   "source": [
    "## Conclusion"
   ]
  },
  {
   "cell_type": "markdown",
   "metadata": {},
   "source": [
    "The Random Forest model remains the top performer for our dataset, chosen based on its high ROC-AUC mean across a 10-fold cross-validation, outperforming other models.\n",
    "\n",
    "Our objective was to predict the likelihood of loans being \"charged off,\" defining \"charged off\" loans as the positive class. After adjusting to an optimal threshold of 0.45, the model demonstrated the following performance:\n",
    "\n",
    "The model accurately predicted 850 loans as \"not charged off,\" matching the actual outcomes. It misclassified 71 loans as \"not charged off\" when they were actually \"charged off,\" demonstrating an improvement in recall. The model correctly identified 1036 loans as \"charged off.\" However, after the threshold adjustment, the false positives increased to 216 cases, where the model incorrectly classified loans as \"charged off\" when they were actually \"not charged off.\"\n",
    "\n",
    "This threshold adjustment resulted in a higher recall of 93.59%, which means the model is now more effective at identifying actual defaults, though this came at a slight cost to precision. The model's accuracy is now 86.79%, and the F1-score improved to 87.83%, reflecting a balanced trade-off between precision and recall.\n",
    "\n",
    "Additionally, we observed that removing the least important feature enhanced the model’s efficiency, suggesting that a more streamlined feature set can improve prediction accuracy.\n",
    "\n",
    "In conclusion, with the adjusted threshold and refined features, the Random Forest model provides robust predictions for loan defaults, successfully balancing the trade-off between minimizing false negatives and managing false positives. This makes it a reliable tool for predicting potential loan defaults in this dataset."
   ]
  }
 ],
 "metadata": {
  "_change_revision": 206,
  "_is_fork": false,
  "kernelspec": {
   "display_name": "Python 3",
   "language": "python",
   "name": "python3"
  },
  "language_info": {
   "codemirror_mode": {
    "name": "ipython",
    "version": 3
   },
   "file_extension": ".py",
   "mimetype": "text/x-python",
   "name": "python",
   "nbconvert_exporter": "python",
   "pygments_lexer": "ipython3",
   "version": "3.8.8"
  }
 },
 "nbformat": 4,
 "nbformat_minor": 4
}
