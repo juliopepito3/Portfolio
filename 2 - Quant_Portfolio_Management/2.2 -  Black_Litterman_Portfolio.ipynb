{
 "cells": [
  {
   "cell_type": "markdown",
   "id": "e4bf6d7b",
   "metadata": {},
   "source": [
    "# Black-Litterman Portfolio"
   ]
  },
  {
   "cell_type": "markdown",
   "id": "2ec85ce5",
   "metadata": {},
   "source": [
    "The goal of that notebook is to compute a Black litterman Portfolio on a small universe of tech stocks. The goal is not a proper backtest just a simple implementation."
   ]
  },
  {
   "cell_type": "markdown",
   "id": "07830255",
   "metadata": {},
   "source": [
    "## <u> Summary :"
   ]
  },
  {
   "cell_type": "markdown",
   "id": "1b09623a",
   "metadata": {},
   "source": [
    "- [1) Getting Data](#1)\n",
    "- [2) Mean Variance Weights](#2)\n",
    "- [3) Market Portfolio](#3)\n",
    "- [4) Black Litterman](#4)\n",
    "    - [4.1) CAPM implied expected returns](#4.1)\n",
    "    - [4.2) Picks](#4.2)\n",
    "    - [4.3) Conditional parameters](#4.3)\n",
    "    - [4.4) Results](#4.4)\n",
    "        - [4.4.1) In Sample test](#4.4.1)\n",
    "        - [4.4.2) Out of Sample test](#4.4.2)\n",
    "        - [4.4.3) Retrosepctive on picks](#4.4.3)"
   ]
  },
  {
   "cell_type": "code",
   "execution_count": 1,
   "id": "04964385",
   "metadata": {},
   "outputs": [],
   "source": [
    "import pandas as pd\n",
    "import numpy as np\n",
    "import yfinance as yf\n",
    "import matplotlib.pyplot as plt \n",
    "\n",
    "from scipy.optimize import minimize"
   ]
  },
  {
   "cell_type": "markdown",
   "id": "16c56a3a",
   "metadata": {},
   "source": [
    "<a id='1'></a>\n",
    "### <u> 1. Getting Data"
   ]
  },
  {
   "cell_type": "code",
   "execution_count": 2,
   "id": "4dd81635",
   "metadata": {},
   "outputs": [
    {
     "name": "stderr",
     "output_type": "stream",
     "text": [
      "[*********************100%***********************]  6 of 6 completed\n"
     ]
    }
   ],
   "source": [
    "#Set start date and end date.\n",
    "start_date = '2015-01-01'\n",
    "end_date = '2022-12-31'\n",
    "\n",
    "#Set tickers list.\n",
    "tickers = ['AAPL', 'MSFT', 'AMZN', 'NVDA', 'TSLA', 'META']\n",
    "\n",
    "#Download the monthly prices for those tickers.\n",
    "prices = yf.download(\n",
    "    tickers=tickers,\n",
    "    start=start_date,\n",
    "    end=end_date,\n",
    "    interval=\"1mo\"\n",
    ")['Adj Close']\n"
   ]
  },
  {
   "cell_type": "code",
   "execution_count": 3,
   "id": "63634a3f",
   "metadata": {
    "scrolled": true
   },
   "outputs": [
    {
     "data": {
      "text/html": [
       "<div>\n",
       "<style scoped>\n",
       "    .dataframe tbody tr th:only-of-type {\n",
       "        vertical-align: middle;\n",
       "    }\n",
       "\n",
       "    .dataframe tbody tr th {\n",
       "        vertical-align: top;\n",
       "    }\n",
       "\n",
       "    .dataframe thead th {\n",
       "        text-align: right;\n",
       "    }\n",
       "</style>\n",
       "<table border=\"1\" class=\"dataframe\">\n",
       "  <thead>\n",
       "    <tr style=\"text-align: right;\">\n",
       "      <th>Ticker</th>\n",
       "      <th>AAPL</th>\n",
       "      <th>AMZN</th>\n",
       "      <th>META</th>\n",
       "      <th>MSFT</th>\n",
       "      <th>NVDA</th>\n",
       "      <th>TSLA</th>\n",
       "    </tr>\n",
       "    <tr>\n",
       "      <th>Date</th>\n",
       "      <th></th>\n",
       "      <th></th>\n",
       "      <th></th>\n",
       "      <th></th>\n",
       "      <th></th>\n",
       "      <th></th>\n",
       "    </tr>\n",
       "  </thead>\n",
       "  <tbody>\n",
       "    <tr>\n",
       "      <th>2015-01-01 00:00:00+00:00</th>\n",
       "      <td>26.090866</td>\n",
       "      <td>17.726500</td>\n",
       "      <td>75.621140</td>\n",
       "      <td>34.691204</td>\n",
       "      <td>0.460823</td>\n",
       "      <td>13.573333</td>\n",
       "    </tr>\n",
       "    <tr>\n",
       "      <th>2015-02-01 00:00:00+00:00</th>\n",
       "      <td>28.607313</td>\n",
       "      <td>19.007999</td>\n",
       "      <td>78.669487</td>\n",
       "      <td>37.653698</td>\n",
       "      <td>0.529466</td>\n",
       "      <td>13.556000</td>\n",
       "    </tr>\n",
       "    <tr>\n",
       "      <th>2015-03-01 00:00:00+00:00</th>\n",
       "      <td>27.819216</td>\n",
       "      <td>18.605000</td>\n",
       "      <td>81.907120</td>\n",
       "      <td>35.162914</td>\n",
       "      <td>0.504279</td>\n",
       "      <td>12.584667</td>\n",
       "    </tr>\n",
       "    <tr>\n",
       "      <th>2015-04-01 00:00:00+00:00</th>\n",
       "      <td>27.980190</td>\n",
       "      <td>21.089001</td>\n",
       "      <td>78.470245</td>\n",
       "      <td>42.064072</td>\n",
       "      <td>0.534877</td>\n",
       "      <td>15.070000</td>\n",
       "    </tr>\n",
       "    <tr>\n",
       "      <th>2015-05-01 00:00:00+00:00</th>\n",
       "      <td>29.127119</td>\n",
       "      <td>21.461500</td>\n",
       "      <td>78.888657</td>\n",
       "      <td>40.524715</td>\n",
       "      <td>0.533191</td>\n",
       "      <td>16.719999</td>\n",
       "    </tr>\n",
       "  </tbody>\n",
       "</table>\n",
       "</div>"
      ],
      "text/plain": [
       "Ticker                          AAPL       AMZN       META       MSFT  \\\n",
       "Date                                                                    \n",
       "2015-01-01 00:00:00+00:00  26.090866  17.726500  75.621140  34.691204   \n",
       "2015-02-01 00:00:00+00:00  28.607313  19.007999  78.669487  37.653698   \n",
       "2015-03-01 00:00:00+00:00  27.819216  18.605000  81.907120  35.162914   \n",
       "2015-04-01 00:00:00+00:00  27.980190  21.089001  78.470245  42.064072   \n",
       "2015-05-01 00:00:00+00:00  29.127119  21.461500  78.888657  40.524715   \n",
       "\n",
       "Ticker                         NVDA       TSLA  \n",
       "Date                                            \n",
       "2015-01-01 00:00:00+00:00  0.460823  13.573333  \n",
       "2015-02-01 00:00:00+00:00  0.529466  13.556000  \n",
       "2015-03-01 00:00:00+00:00  0.504279  12.584667  \n",
       "2015-04-01 00:00:00+00:00  0.534877  15.070000  \n",
       "2015-05-01 00:00:00+00:00  0.533191  16.719999  "
      ]
     },
     "execution_count": 3,
     "metadata": {},
     "output_type": "execute_result"
    }
   ],
   "source": [
    "prices.head()"
   ]
  },
  {
   "cell_type": "code",
   "execution_count": 4,
   "id": "aa16361d",
   "metadata": {
    "scrolled": true
   },
   "outputs": [
    {
     "data": {
      "text/plain": [
       "Ticker\n",
       "AAPL    0\n",
       "AMZN    0\n",
       "META    0\n",
       "MSFT    0\n",
       "NVDA    0\n",
       "TSLA    0\n",
       "dtype: int64"
      ]
     },
     "execution_count": 4,
     "metadata": {},
     "output_type": "execute_result"
    }
   ],
   "source": [
    "# Count missing values for each ticker\n",
    "missing_counts = prices.isna().sum()\n",
    "missing_counts"
   ]
  },
  {
   "cell_type": "markdown",
   "id": "900ced2c",
   "metadata": {},
   "source": [
    "There is no missing data, no need to do the usual check for missing values"
   ]
  },
  {
   "cell_type": "code",
   "execution_count": 5,
   "id": "4f7250ad",
   "metadata": {
    "scrolled": true
   },
   "outputs": [
    {
     "data": {
      "text/html": [
       "<div>\n",
       "<style scoped>\n",
       "    .dataframe tbody tr th:only-of-type {\n",
       "        vertical-align: middle;\n",
       "    }\n",
       "\n",
       "    .dataframe tbody tr th {\n",
       "        vertical-align: top;\n",
       "    }\n",
       "\n",
       "    .dataframe thead th {\n",
       "        text-align: right;\n",
       "    }\n",
       "</style>\n",
       "<table border=\"1\" class=\"dataframe\">\n",
       "  <thead>\n",
       "    <tr style=\"text-align: right;\">\n",
       "      <th>Ticker</th>\n",
       "      <th>AAPL</th>\n",
       "      <th>AMZN</th>\n",
       "      <th>META</th>\n",
       "      <th>MSFT</th>\n",
       "      <th>NVDA</th>\n",
       "      <th>TSLA</th>\n",
       "    </tr>\n",
       "    <tr>\n",
       "      <th>Date</th>\n",
       "      <th></th>\n",
       "      <th></th>\n",
       "      <th></th>\n",
       "      <th></th>\n",
       "      <th></th>\n",
       "      <th></th>\n",
       "    </tr>\n",
       "  </thead>\n",
       "  <tbody>\n",
       "    <tr>\n",
       "      <th>2015-02-01 00:00:00+00:00</th>\n",
       "      <td>0.096449</td>\n",
       "      <td>0.072293</td>\n",
       "      <td>0.040311</td>\n",
       "      <td>0.085396</td>\n",
       "      <td>0.148959</td>\n",
       "      <td>-0.001277</td>\n",
       "    </tr>\n",
       "    <tr>\n",
       "      <th>2015-03-01 00:00:00+00:00</th>\n",
       "      <td>-0.027549</td>\n",
       "      <td>-0.021202</td>\n",
       "      <td>0.041155</td>\n",
       "      <td>-0.066150</td>\n",
       "      <td>-0.047571</td>\n",
       "      <td>-0.071653</td>\n",
       "    </tr>\n",
       "    <tr>\n",
       "      <th>2015-04-01 00:00:00+00:00</th>\n",
       "      <td>0.005786</td>\n",
       "      <td>0.133513</td>\n",
       "      <td>-0.041961</td>\n",
       "      <td>0.196262</td>\n",
       "      <td>0.060678</td>\n",
       "      <td>0.197489</td>\n",
       "    </tr>\n",
       "    <tr>\n",
       "      <th>2015-05-01 00:00:00+00:00</th>\n",
       "      <td>0.040991</td>\n",
       "      <td>0.017663</td>\n",
       "      <td>0.005332</td>\n",
       "      <td>-0.036596</td>\n",
       "      <td>-0.003153</td>\n",
       "      <td>0.109489</td>\n",
       "    </tr>\n",
       "    <tr>\n",
       "      <th>2015-06-01 00:00:00+00:00</th>\n",
       "      <td>-0.033206</td>\n",
       "      <td>0.011323</td>\n",
       "      <td>0.083091</td>\n",
       "      <td>-0.051709</td>\n",
       "      <td>-0.087073</td>\n",
       "      <td>0.069617</td>\n",
       "    </tr>\n",
       "  </tbody>\n",
       "</table>\n",
       "</div>"
      ],
      "text/plain": [
       "Ticker                         AAPL      AMZN      META      MSFT      NVDA  \\\n",
       "Date                                                                          \n",
       "2015-02-01 00:00:00+00:00  0.096449  0.072293  0.040311  0.085396  0.148959   \n",
       "2015-03-01 00:00:00+00:00 -0.027549 -0.021202  0.041155 -0.066150 -0.047571   \n",
       "2015-04-01 00:00:00+00:00  0.005786  0.133513 -0.041961  0.196262  0.060678   \n",
       "2015-05-01 00:00:00+00:00  0.040991  0.017663  0.005332 -0.036596 -0.003153   \n",
       "2015-06-01 00:00:00+00:00 -0.033206  0.011323  0.083091 -0.051709 -0.087073   \n",
       "\n",
       "Ticker                         TSLA  \n",
       "Date                                 \n",
       "2015-02-01 00:00:00+00:00 -0.001277  \n",
       "2015-03-01 00:00:00+00:00 -0.071653  \n",
       "2015-04-01 00:00:00+00:00  0.197489  \n",
       "2015-05-01 00:00:00+00:00  0.109489  \n",
       "2015-06-01 00:00:00+00:00  0.069617  "
      ]
     },
     "execution_count": 5,
     "metadata": {},
     "output_type": "execute_result"
    }
   ],
   "source": [
    "#Set risk free rate equal to 0.\n",
    "risk_free = 0\n",
    "\n",
    "#Compute returns and drop the NAN that is generated by the first value :\n",
    "returns = prices.pct_change().dropna()\n",
    "\n",
    "returns.head()"
   ]
  },
  {
   "cell_type": "markdown",
   "id": "a8ecee6d",
   "metadata": {},
   "source": [
    "<a id='2'></a>\n",
    "### <u> 2. Mean Variance Weights"
   ]
  },
  {
   "cell_type": "code",
   "execution_count": 6,
   "id": "892aa08c",
   "metadata": {},
   "outputs": [
    {
     "data": {
      "text/html": [
       "<div>\n",
       "<style scoped>\n",
       "    .dataframe tbody tr th:only-of-type {\n",
       "        vertical-align: middle;\n",
       "    }\n",
       "\n",
       "    .dataframe tbody tr th {\n",
       "        vertical-align: top;\n",
       "    }\n",
       "\n",
       "    .dataframe thead th {\n",
       "        text-align: right;\n",
       "    }\n",
       "</style>\n",
       "<table border=\"1\" class=\"dataframe\">\n",
       "  <thead>\n",
       "    <tr style=\"text-align: right;\">\n",
       "      <th></th>\n",
       "      <th>Weights</th>\n",
       "    </tr>\n",
       "    <tr>\n",
       "      <th>Ticker</th>\n",
       "      <th></th>\n",
       "    </tr>\n",
       "  </thead>\n",
       "  <tbody>\n",
       "    <tr>\n",
       "      <th>AAPL</th>\n",
       "      <td>-0.113633</td>\n",
       "    </tr>\n",
       "    <tr>\n",
       "      <th>AMZN</th>\n",
       "      <td>-0.163399</td>\n",
       "    </tr>\n",
       "    <tr>\n",
       "      <th>META</th>\n",
       "      <td>-0.202138</td>\n",
       "    </tr>\n",
       "    <tr>\n",
       "      <th>MSFT</th>\n",
       "      <td>0.997901</td>\n",
       "    </tr>\n",
       "    <tr>\n",
       "      <th>NVDA</th>\n",
       "      <td>0.378651</td>\n",
       "    </tr>\n",
       "    <tr>\n",
       "      <th>TSLA</th>\n",
       "      <td>0.102619</td>\n",
       "    </tr>\n",
       "  </tbody>\n",
       "</table>\n",
       "</div>"
      ],
      "text/plain": [
       "         Weights\n",
       "Ticker          \n",
       "AAPL   -0.113633\n",
       "AMZN   -0.163399\n",
       "META   -0.202138\n",
       "MSFT    0.997901\n",
       "NVDA    0.378651\n",
       "TSLA    0.102619"
      ]
     },
     "execution_count": 6,
     "metadata": {},
     "output_type": "execute_result"
    }
   ],
   "source": [
    "def MVP_Weights(returns, risk_free):\n",
    "\n",
    "    mu = returns.mean()\n",
    "    V_inv = np.linalg.inv(returns.cov())\n",
    "    excess_returns = mu - risk_free\n",
    "    \n",
    "    # Calculate weights\n",
    "    weights = V_inv @ excess_returns\n",
    "    weights /= np.sum(weights)  # Normalize weights to sum to 1\n",
    "    \n",
    "    return weights\n",
    "\n",
    "mvp_weights = pd.DataFrame(MVP_Weights(returns, risk_free), index = returns.columns, columns=['Weights'])\n",
    "mvp_weights\n",
    "    "
   ]
  },
  {
   "cell_type": "markdown",
   "id": "a5c93a92",
   "metadata": {},
   "source": [
    "These weights are not reasonable to work with, They suggest allocating 99% of our portfolio to MSFT in addition to take very strong short positions in other stocks."
   ]
  },
  {
   "cell_type": "markdown",
   "id": "6eefe85a",
   "metadata": {},
   "source": [
    "<a id='3'></a>\n",
    "### <u> 3. Market Portfolio"
   ]
  },
  {
   "cell_type": "markdown",
   "id": "3f8fc9b8",
   "metadata": {},
   "source": [
    "Rather than getting the current market caps, we design a function that gets us the market caps closest to the start date (in order to not get information we do not have access to in theory when dsigning the portfolio)."
   ]
  },
  {
   "cell_type": "code",
   "execution_count": 7,
   "id": "d7d9f45e",
   "metadata": {},
   "outputs": [
    {
     "data": {
      "text/html": [
       "<div>\n",
       "<style scoped>\n",
       "    .dataframe tbody tr th:only-of-type {\n",
       "        vertical-align: middle;\n",
       "    }\n",
       "\n",
       "    .dataframe tbody tr th {\n",
       "        vertical-align: top;\n",
       "    }\n",
       "\n",
       "    .dataframe thead th {\n",
       "        text-align: right;\n",
       "    }\n",
       "</style>\n",
       "<table border=\"1\" class=\"dataframe\">\n",
       "  <thead>\n",
       "    <tr style=\"text-align: right;\">\n",
       "      <th></th>\n",
       "      <th>AAPL</th>\n",
       "      <th>AMZN</th>\n",
       "      <th>META</th>\n",
       "      <th>MSFT</th>\n",
       "      <th>NVDA</th>\n",
       "      <th>TSLA</th>\n",
       "    </tr>\n",
       "  </thead>\n",
       "  <tbody>\n",
       "    <tr>\n",
       "      <th>Market_Cap</th>\n",
       "      <td>366130329108.535156</td>\n",
       "      <td>162204391165.834961</td>\n",
       "      <td>171143898703.697266</td>\n",
       "      <td>298492765796.164062</td>\n",
       "      <td>11832184707.083008</td>\n",
       "      <td>47027668354.934326</td>\n",
       "    </tr>\n",
       "  </tbody>\n",
       "</table>\n",
       "</div>"
      ],
      "text/plain": [
       "                           AAPL                 AMZN                 META  \\\n",
       "Market_Cap  366130329108.535156  162204391165.834961  171143898703.697266   \n",
       "\n",
       "                           MSFT                NVDA                TSLA  \n",
       "Market_Cap  298492765796.164062  11832184707.083008  47027668354.934326  "
      ]
     },
     "execution_count": 7,
     "metadata": {},
     "output_type": "execute_result"
    }
   ],
   "source": [
    "def get_historical_market_caps(tickers, date):\n",
    "\n",
    "    market_caps = pd.DataFrame(columns=['Market_Cap'], index=tickers)\n",
    "\n",
    "    for ticker in tickers:\n",
    "        stock = yf.Ticker(ticker)\n",
    "        \n",
    "        try:\n",
    "            # Get historical data around the given date\n",
    "            history = stock.history(start=date, end=pd.to_datetime(date) + pd.Timedelta(days=5))\n",
    "            \n",
    "            # Use the first available trading day's close price\n",
    "            if not history.empty:\n",
    "                closing_price = history['Close'].iloc[0]\n",
    "                shares_outstanding = stock.info.get('sharesOutstanding')\n",
    "\n",
    "                if closing_price and shares_outstanding:\n",
    "                    market_cap = closing_price * shares_outstanding #Market cap = closing price x num_shares\n",
    "                    market_caps.loc[ticker, 'Market_Cap'] = market_cap\n",
    "                else:\n",
    "                    market_caps.loc[ticker, 'Market_Cap'] = None\n",
    "            else:\n",
    "                market_caps.loc[ticker, 'Market_Cap'] = None\n",
    "\n",
    "        except Exception as e:\n",
    "            print(f\"Error retrieving data for {ticker}: {e}\")\n",
    "            market_caps.loc[ticker, 'Market_Cap'] = None\n",
    "\n",
    "    return market_caps.T\n",
    "\n",
    "market_caps = get_historical_market_caps(tickers, start_date)\n",
    "market_caps = market_caps.reindex(sorted(market_caps.columns), axis=1)\n",
    "market_caps\n"
   ]
  },
  {
   "cell_type": "code",
   "execution_count": 8,
   "id": "517b38c7",
   "metadata": {},
   "outputs": [
    {
     "name": "stdout",
     "output_type": "stream",
     "text": [
      "AAPL    0.346442\n",
      "AMZN    0.153482\n",
      "META    0.161941\n",
      "MSFT    0.282441\n",
      "NVDA    0.011196\n",
      "TSLA    0.044499\n",
      "Name: Market_Cap, dtype: object\n"
     ]
    }
   ],
   "source": [
    "Mkt_Weights = market_caps.T / np.sum(market_caps.T)\n",
    "\n",
    "Mkt_Weights = Mkt_Weights.squeeze() #type conversion to not break the code\n",
    "\n",
    "print(Mkt_Weights)"
   ]
  },
  {
   "cell_type": "markdown",
   "id": "c2518f76",
   "metadata": {},
   "source": [
    "<a id='4'></a>\n",
    "### <u> 4. Black-Litterman"
   ]
  },
  {
   "cell_type": "markdown",
   "id": "ef078d7a",
   "metadata": {},
   "source": [
    "<a id='4.1'></a>\n",
    "#### <u> 4.1 CAPM-implied expected returns"
   ]
  },
  {
   "cell_type": "code",
   "execution_count": 9,
   "id": "829f1417",
   "metadata": {
    "scrolled": true
   },
   "outputs": [
    {
     "data": {
      "text/plain": [
       "Ticker\n",
       "AAPL    0.021991\n",
       "AMZN     0.02175\n",
       "META    0.018779\n",
       "MSFT    0.015865\n",
       "NVDA    0.026025\n",
       "TSLA     0.03365\n",
       "dtype: object"
      ]
     },
     "execution_count": 9,
     "metadata": {},
     "output_type": "execute_result"
    }
   ],
   "source": [
    "def compute_CAPM_rets(rf,rets,mkt_w):\n",
    "    ones=np.ones(len(rets.columns))\n",
    "    V= rets.cov()\n",
    "    Var_mkt= mkt_w.transpose().dot(V).dot(mkt_w)\n",
    "    SR_mkt= rets.dot(mkt_w).mean() / np.sqrt(Var_mkt)\n",
    "    E_capm=rf*ones+(SR_mkt/np.sqrt(Var_mkt))*V.dot(mkt_w)\n",
    "    return(E_capm)\n",
    "\n",
    "E_Mkt_returns = compute_CAPM_rets(risk_free, returns, Mkt_Weights)\n",
    "E_Mkt_returns"
   ]
  },
  {
   "cell_type": "markdown",
   "id": "a0e93a75",
   "metadata": {},
   "source": [
    "<a id='4.2'></a>\n",
    "#### <u> 4.2 Picks"
   ]
  },
  {
   "cell_type": "markdown",
   "id": "51d57cf1",
   "metadata": {},
   "source": [
    "We Specify the pick matrix P and the view vector q that captures the following views for each of the assets (these views are absolutely arbitrary):\n",
    "    \n",
    "* AAPL: its absolute excess return is expected to be 10% per year. \n",
    "* MSFT: its absolute excess return is expected to be 5% per year.\n",
    "* AMZN: no views\n",
    "* NVDA will outperform TSLA by 2% per year.\n",
    "* TSLA will underperform META by 1% per year."
   ]
  },
  {
   "cell_type": "code",
   "execution_count": 10,
   "id": "9e65c575",
   "metadata": {
    "scrolled": false
   },
   "outputs": [
    {
     "name": "stdout",
     "output_type": "stream",
     "text": [
      "P (view matrix):\n",
      "Ticker  AAPL  AMZN  META  MSFT  NVDA  TSLA\n",
      "0          1     0     0     0     0     0\n",
      "1          0     0     0     1     0     0\n",
      "2          0     0     0     0     1    -1\n",
      "3          0     0     1     0     0    -1 \n",
      "\n",
      "Q (view returns):\n",
      "        View Returns\n",
      "View 1          0.10\n",
      "View 2          0.05\n",
      "View 3          0.02\n",
      "View 4          0.01 \n",
      "\n",
      "Omega (view uncertainties):\n",
      "          View 1    View 2    View 3    View 4\n",
      "View 1  0.000354  0.000000  0.000000  0.000000\n",
      "View 2  0.000000  0.000199  0.000000  0.000000\n",
      "View 3  0.000000  0.000000  0.001784  0.000000\n",
      "View 4  0.000000  0.000000  0.000000  0.001647 \n",
      "\n"
     ]
    }
   ],
   "source": [
    "P = np.array([\n",
    "    [1, 0, 0, 0, 0, 0],   # AAPL's absolute excess return view\n",
    "    [0, 0, 0, 1, 0, 0],   # MSFT's absolute excess return view\n",
    "    [0, 0, 0, 0, 1, -1],  # NVDA expected to outperform TSLA by 2%\n",
    "    [0, 0, 1, 0, 0, -1]   # META expected to outperform TSLA by 1%\n",
    "])\n",
    "\n",
    "q = np.array([0.10, 0.05, 0.02, 0.01])\n",
    "\n",
    "# Set the confidence level tau\n",
    "tau = 0.05\n",
    "\n",
    "# Calculate the uncertainty for each view\n",
    "view_uncertainties = []\n",
    "\n",
    "for k in range(P.shape[0]):  # Loop through each view (rows of P)\n",
    "    P_k = P[k, :].reshape(1, -1)  # Make it a 1x6 row vector\n",
    "    # Compute P_k * tau * Sigma * P_k.T\n",
    "    uncertainty = P_k @ (tau * returns.cov()) @ P_k.T\n",
    "    view_uncertainties.append(uncertainty)\n",
    "\n",
    "Omega = np.diagflat(np.array(view_uncertainties))\n",
    "\n",
    "### Nice display : \n",
    "\n",
    "P_df = pd.DataFrame(P, columns=E_Mkt_returns.index)\n",
    "q_df = pd.DataFrame(q, columns=['View Returns'], index=[f'View {i+1}' for i in range(len(q))])\n",
    "Omega_df = pd.DataFrame(Omega, columns=[f'View {i+1}' for i in range(Omega.shape[0])], \n",
    "                        index=[f'View {i+1}' for i in range(Omega.shape[0])])\n",
    "\n",
    "print(\"P (view matrix):\")\n",
    "print(P_df, '\\n')\n",
    "print(\"Q (view returns):\")\n",
    "print(q_df, '\\n')\n",
    "print(\"Omega (view uncertainties):\")\n",
    "print(Omega_df, '\\n')"
   ]
  },
  {
   "cell_type": "markdown",
   "id": "634a0ecb",
   "metadata": {},
   "source": [
    "**Choice of Omega :**\n",
    "\n",
    "In the Black-Litterman model, the uncertainty associated with each view is captured in the diagonal matrix $\\Omega$. Instead of assigning arbitrary or fixed values for uncertainties, we use a **proportional uncertainty approach** that derives $\\Omega$ based on the covariance structure of asset returns and the nature of each view. This approach ensures that the uncertainty reflects the underlying risk dynamics of the market and is mathematically consistent with the model’s assumptions.\n",
    "\n",
    "\n",
    "For a given view $k$, the uncertainty is computed as:\n",
    "\n",
    "$$\n",
    "\\text{Uncertainty}_k = P_k (\\tau \\Sigma) P_k^T\n",
    "$$\n",
    "\n",
    "Where:\n",
    "- $P_k$ is the $k$-th row of the view matrix $P$ (a $1 \\times N$ vector for $N$ assets).\n",
    "- $\\tau$ is a scalar controlling the relative weight of the prior covariance matrix $\\Sigma$.\n",
    "- $\\Sigma$ is the covariance matrix of asset returns.\n",
    "\n",
    "The result is a scalar value representing the uncertainty (variance) associated with view $k$. The diagonal matrix $\\Omega$ is then constructed using these computed uncertainties:\n",
    "\n",
    "$$\n",
    "\\Omega = \\text{diag}(\\text{Uncertainty}_1, \\text{Uncertainty}_2, \\dots, \\text{Uncertainty}_K)\n",
    "$$\n",
    "\n",
    "\n",
    "- **Dynamic and Contextual**  \n",
    "   This method adjusts the uncertainty for each view based on:\n",
    "   - The volatility and correlations of the assets involved in the view (captured by $\\Sigma$).\n",
    "   - The structure of the view itself (captured by $P$).  \n",
    "   As a result, views on highly volatile or correlated assets naturally have larger uncertainties, while more stable views exhibit smaller uncertainties.\n",
    "\n",
    "- **Objective Estimation**  \n",
    "   This method eliminates subjectivity in choosing $\\Omega$ and relies entirely on observable market data. It ensures that the uncertainty reflects measurable characteristics like volatility and correlations.\n",
    "\n",
    "- **Risk-Adjusted Confidence**  \n",
    "   The proportional uncertainty technique allows for **confidence-weighted views**, where the model respects both the prior (market equilibrium) and the expressed views in proportion to their inherent risk.\n",
    "\n",
    "\n",
    "Using this method for calculating $\\Omega$ provides a mathematically robust and market-driven approach to incorporating uncertainty into the Black-Litterman model. It avoids arbitrary assumptions and ensures that the model respects the market's covariance structure and the nature of the views.\n"
   ]
  },
  {
   "cell_type": "markdown",
   "id": "ceb28da7",
   "metadata": {},
   "source": [
    "<a id='4.3'></a>\n",
    "#### <u> 4.3 Conditional Parameters"
   ]
  },
  {
   "cell_type": "code",
   "execution_count": 11,
   "id": "53baca8a",
   "metadata": {
    "scrolled": false
   },
   "outputs": [
    {
     "name": "stdout",
     "output_type": "stream",
     "text": [
      "\n",
      "Black-Litterman Expected Returns:\n",
      "       Expected Returns\n",
      "Ticker                 \n",
      "AAPL            0.02839\n",
      "AMZN           0.028148\n",
      "META           0.025177\n",
      "MSFT           0.022263\n",
      "NVDA           0.032423\n",
      "TSLA           0.040049\n",
      "\n",
      "Sigma:\n",
      "Ticker     AAPL     AMZN     META     MSFT     NVDA     TSLA\n",
      "Ticker                                                      \n",
      "AAPL    0.00708  0.00419  0.00320  0.00326  0.00642  0.00815\n",
      "AMZN    0.00419  0.00842  0.00414  0.00393  0.00649  0.00716\n",
      "META    0.00320  0.00414  0.00904  0.00279  0.00439  0.00455\n",
      "MSFT    0.00326  0.00393  0.00279  0.00399  0.00499  0.00493\n",
      "NVDA    0.00642  0.00649  0.00439  0.00499  0.01791  0.00762\n",
      "TSLA    0.00815  0.00716  0.00455  0.00493  0.00762  0.03300\n",
      "\n",
      "Adjustments (Conditional Variance):\n",
      "Ticker     AAPL     AMZN     META     MSFT     NVDA     TSLA\n",
      "Ticker                                                      \n",
      "AAPL    0.00015  0.00007  0.00007  0.00004  0.00012  0.00012\n",
      "AMZN    0.00007  0.00030  0.00012  0.00008  0.00016  0.00015\n",
      "META    0.00007  0.00012  0.00036  0.00006  0.00012  0.00018\n",
      "MSFT    0.00004  0.00008  0.00006  0.00009  0.00009  0.00008\n",
      "NVDA    0.00012  0.00016  0.00012  0.00009  0.00057  0.00025\n",
      "TSLA    0.00012  0.00015  0.00018  0.00008  0.00025  0.00068\n",
      "\n",
      "Black-Litterman Covariance Matrix:\n",
      "Ticker     AAPL     AMZN     META     MSFT     NVDA     TSLA\n",
      "Ticker                                                      \n",
      "AAPL    0.00724  0.00426  0.00326  0.00331  0.00654  0.00827\n",
      "AMZN    0.00426  0.00872  0.00426  0.00401  0.00665  0.00731\n",
      "META    0.00326  0.00426  0.00939  0.00285  0.00451  0.00474\n",
      "MSFT    0.00331  0.00401  0.00285  0.00408  0.00509  0.00501\n",
      "NVDA    0.00654  0.00665  0.00451  0.00509  0.01847  0.00786\n",
      "TSLA    0.00827  0.00731  0.00474  0.00501  0.00786  0.03368\n"
     ]
    }
   ],
   "source": [
    "# Define nice variables for readability\n",
    "mu_CAPM = E_Mkt_returns  # Market-implied expected returns\n",
    "sigma = returns.cov()    # Covariance matrix of asset returns\n",
    "\n",
    "# Compute Black-Litterman Expected Returns (mu_BL)\n",
    "term1 = np.linalg.inv(P @ (tau * sigma) @ P.T + Omega)\n",
    "term2 = P @ (tau * sigma) @ mu_CAPM\n",
    "mu_BL = mu_CAPM + term2 @ term1 @ (q - term2)\n",
    "\n",
    "# Calculate the conditional covariance (variance) of expected returns\n",
    "tau_Sigma_inv = np.linalg.inv(tau * sigma)\n",
    "conditional_variance = np.linalg.inv(tau_Sigma_inv + P.T @ np.linalg.inv(Omega) @ P)\n",
    "\n",
    "# Compute the posterior covariance matrix (Black-Litterman covariance)\n",
    "BL_cov = sigma + conditional_variance\n",
    "\n",
    "# Displays : \n",
    "\n",
    "print(\"\\nBlack-Litterman Expected Returns:\")\n",
    "mu_BL_df = pd.DataFrame(mu_BL, index=returns.columns, columns=[\"Expected Returns\"])\n",
    "print(mu_BL_df)\n",
    "\n",
    "print(\"\\nSigma:\")\n",
    "sigma_df = pd.DataFrame(sigma, index=returns.columns, columns=returns.columns)\n",
    "print(round(sigma_df, 5))\n",
    "\n",
    "print(\"\\nAdjustments (Conditional Variance):\")\n",
    "conditional_variance_df = pd.DataFrame(conditional_variance, index=returns.columns, columns=returns.columns)\n",
    "print(round(conditional_variance_df, 5))\n",
    "\n",
    "print(\"\\nBlack-Litterman Covariance Matrix:\")\n",
    "BL_cov_df = pd.DataFrame(BL_cov, index=returns.columns, columns=returns.columns)\n",
    "print(round(BL_cov_df, 5))\n"
   ]
  },
  {
   "cell_type": "markdown",
   "id": "3dea4fb0",
   "metadata": {},
   "source": [
    "<a id='4.4'></a>\n",
    "#### <u> 4.4 Results"
   ]
  },
  {
   "cell_type": "code",
   "execution_count": 12,
   "id": "2d707f1c",
   "metadata": {},
   "outputs": [
    {
     "data": {
      "text/html": [
       "<div>\n",
       "<style scoped>\n",
       "    .dataframe tbody tr th:only-of-type {\n",
       "        vertical-align: middle;\n",
       "    }\n",
       "\n",
       "    .dataframe tbody tr th {\n",
       "        vertical-align: top;\n",
       "    }\n",
       "\n",
       "    .dataframe thead th {\n",
       "        text-align: right;\n",
       "    }\n",
       "</style>\n",
       "<table border=\"1\" class=\"dataframe\">\n",
       "  <thead>\n",
       "    <tr style=\"text-align: right;\">\n",
       "      <th></th>\n",
       "      <th>BL Weights</th>\n",
       "    </tr>\n",
       "    <tr>\n",
       "      <th>Ticker</th>\n",
       "      <th></th>\n",
       "    </tr>\n",
       "  </thead>\n",
       "  <tbody>\n",
       "    <tr>\n",
       "      <th>AAPL</th>\n",
       "      <td>0.318039</td>\n",
       "    </tr>\n",
       "    <tr>\n",
       "      <th>AMZN</th>\n",
       "      <td>0.102767</td>\n",
       "    </tr>\n",
       "    <tr>\n",
       "      <th>META</th>\n",
       "      <td>0.151893</td>\n",
       "    </tr>\n",
       "    <tr>\n",
       "      <th>MSFT</th>\n",
       "      <td>0.443707</td>\n",
       "    </tr>\n",
       "    <tr>\n",
       "      <th>NVDA</th>\n",
       "      <td>-0.028699</td>\n",
       "    </tr>\n",
       "    <tr>\n",
       "      <th>TSLA</th>\n",
       "      <td>0.012293</td>\n",
       "    </tr>\n",
       "  </tbody>\n",
       "</table>\n",
       "</div>"
      ],
      "text/plain": [
       "       BL Weights\n",
       "Ticker           \n",
       "AAPL     0.318039\n",
       "AMZN     0.102767\n",
       "META     0.151893\n",
       "MSFT     0.443707\n",
       "NVDA    -0.028699\n",
       "TSLA     0.012293"
      ]
     },
     "execution_count": 12,
     "metadata": {},
     "output_type": "execute_result"
    }
   ],
   "source": [
    "Rf = np.ones(len(mu_BL)) * risk_free\n",
    "weights_BL = np.linalg.inv(BL_cov) @ (mu_BL - Rf)\n",
    "weights_BL /= np.sum(weights_BL)\n",
    "\n",
    "bl_weights = pd.DataFrame(weights_BL, index = mu_BL_df.index, columns = ['BL Weights'] )\n",
    "bl_weights"
   ]
  },
  {
   "cell_type": "markdown",
   "id": "67b2e8df",
   "metadata": {},
   "source": [
    "<a id='4.4.1'></a>\n",
    "##### <u> 4.4.1 In-Sample test"
   ]
  },
  {
   "cell_type": "code",
   "execution_count": 13,
   "id": "4027b93b",
   "metadata": {},
   "outputs": [
    {
     "data": {
      "text/html": [
       "<div>\n",
       "<style scoped>\n",
       "    .dataframe tbody tr th:only-of-type {\n",
       "        vertical-align: middle;\n",
       "    }\n",
       "\n",
       "    .dataframe tbody tr th {\n",
       "        vertical-align: top;\n",
       "    }\n",
       "\n",
       "    .dataframe thead th {\n",
       "        text-align: right;\n",
       "    }\n",
       "</style>\n",
       "<table border=\"1\" class=\"dataframe\">\n",
       "  <thead>\n",
       "    <tr style=\"text-align: right;\">\n",
       "      <th></th>\n",
       "      <th>Black-Litterman</th>\n",
       "      <th>MVP</th>\n",
       "      <th>Market</th>\n",
       "    </tr>\n",
       "  </thead>\n",
       "  <tbody>\n",
       "    <tr>\n",
       "      <th>AAPL</th>\n",
       "      <td>0.318039</td>\n",
       "      <td>-0.113633</td>\n",
       "      <td>0.346442</td>\n",
       "    </tr>\n",
       "    <tr>\n",
       "      <th>AMZN</th>\n",
       "      <td>0.102767</td>\n",
       "      <td>-0.163399</td>\n",
       "      <td>0.153482</td>\n",
       "    </tr>\n",
       "    <tr>\n",
       "      <th>META</th>\n",
       "      <td>0.151893</td>\n",
       "      <td>-0.202138</td>\n",
       "      <td>0.161941</td>\n",
       "    </tr>\n",
       "    <tr>\n",
       "      <th>MSFT</th>\n",
       "      <td>0.443707</td>\n",
       "      <td>0.997901</td>\n",
       "      <td>0.282441</td>\n",
       "    </tr>\n",
       "    <tr>\n",
       "      <th>NVDA</th>\n",
       "      <td>-0.028699</td>\n",
       "      <td>0.378651</td>\n",
       "      <td>0.011196</td>\n",
       "    </tr>\n",
       "    <tr>\n",
       "      <th>TSLA</th>\n",
       "      <td>0.012293</td>\n",
       "      <td>0.102619</td>\n",
       "      <td>0.044499</td>\n",
       "    </tr>\n",
       "  </tbody>\n",
       "</table>\n",
       "</div>"
      ],
      "text/plain": [
       "     Black-Litterman       MVP    Market\n",
       "AAPL        0.318039 -0.113633  0.346442\n",
       "AMZN        0.102767 -0.163399  0.153482\n",
       "META        0.151893 -0.202138  0.161941\n",
       "MSFT        0.443707  0.997901  0.282441\n",
       "NVDA       -0.028699  0.378651  0.011196\n",
       "TSLA        0.012293  0.102619  0.044499"
      ]
     },
     "execution_count": 13,
     "metadata": {},
     "output_type": "execute_result"
    }
   ],
   "source": [
    "weights_comparison = pd.concat([bl_weights, mvp_weights, Mkt_Weights], axis=1)\n",
    "weights_comparison.columns = ['Black-Litterman', 'MVP', 'Market']\n",
    "\n",
    "weights_comparison"
   ]
  },
  {
   "cell_type": "code",
   "execution_count": 14,
   "id": "e18262c2",
   "metadata": {
    "scrolled": false
   },
   "outputs": [
    {
     "data": {
      "image/png": "[encoded data removed]",
      "text/plain": [
       "<Figure size 720x432 with 1 Axes>"
      ]
     },
     "metadata": {
      "needs_background": "light"
     },
     "output_type": "display_data"
    }
   ],
   "source": [
    "# Calculate portfolio returns by multiplying asset returns with portfolio weights\n",
    "bl_returns = returns.dot(bl_weights)\n",
    "mvp_returns = returns.dot(mvp_weights) \n",
    "mkt_returns = returns.dot(Mkt_Weights)  \n",
    "\n",
    "bl_cumulative_returns = (1 + bl_returns).cumprod().shift(1, fill_value=1)\n",
    "mvp_cumulative_returns = (1 + mvp_returns).cumprod().shift(1, fill_value=1)\n",
    "mkt_cumulative_returns = (1 + mkt_returns).cumprod().shift(1, fill_value=1)\n",
    "\n",
    "# NVDA Returns What the ... ?\n",
    "#nvda_returns = returns['MSFT']\n",
    "#nvda_cumulative_returns = (1 + nvda_returns).cumprod().shift(1, fill_value=1)\n",
    "\n",
    "# Plot portfolio cumulative returns\n",
    "plt.figure(figsize=(10, 6))\n",
    "plt.plot(bl_cumulative_returns, label=\"Black-Litterman Portfolio\")\n",
    "plt.plot(mvp_cumulative_returns, label=\"Mean Variance Portfolio\")\n",
    "plt.plot(mkt_cumulative_returns, label=\"Market Portfolio\")\n",
    "#plt.plot(nvda_cumulative_returns, label=\"MSFT\", linestyle = 'dashed')\n",
    "plt.title('In-Sample Cumulative Portfolio Returns')\n",
    "plt.xlabel('Time')\n",
    "plt.ylabel('Cumulative Returns')\n",
    "plt.legend()\n",
    "plt.grid(True)\n",
    "plt.show()"
   ]
  },
  {
   "cell_type": "markdown",
   "id": "8bee819e",
   "metadata": {},
   "source": [
    "There is so much overlap between the black-Litterman and the market portfolio that we can't see the difference,we can see that the MVP also performs way better than the other two, due to massive risk taken in its positions. Note that this is in sample so the testing is biased in that way.\n",
    "\n",
    "we try to plot BL/Market alone to see the difference clearer: "
   ]
  },
  {
   "cell_type": "code",
   "execution_count": 15,
   "id": "9aa6e284",
   "metadata": {},
   "outputs": [
    {
     "data": {
      "image/png": "[encoded data removed]",
      "text/plain": [
       "<Figure size 720x432 with 1 Axes>"
      ]
     },
     "metadata": {
      "needs_background": "light"
     },
     "output_type": "display_data"
    }
   ],
   "source": [
    "# Plot portfolio cumulative returns\n",
    "plt.figure(figsize=(10, 6))\n",
    "plt.plot(bl_cumulative_returns, label=\"Black-Litterman Portfolio\")\n",
    "plt.plot(mkt_cumulative_returns, label=\"Market Portfolio\")\n",
    "#plt.plot(nvda_cumulative_returns, label=\"MSFT\", linestyle = 'dashed')\n",
    "plt.title('In-Sample Cumulative Portfolio Returns')\n",
    "plt.xlabel('Time')\n",
    "plt.ylabel('Cumulative Returns')\n",
    "plt.legend()\n",
    "plt.grid(True)\n",
    "plt.show()"
   ]
  },
  {
   "cell_type": "markdown",
   "id": "27fedafa",
   "metadata": {},
   "source": [
    "We can see that the BL portfolio gets beaten by the market in a cumulative returns perspective."
   ]
  },
  {
   "cell_type": "code",
   "execution_count": 16,
   "id": "c5b632b7",
   "metadata": {
    "scrolled": true
   },
   "outputs": [
    {
     "name": "stdout",
     "output_type": "stream",
     "text": [
      "Sharpe ratios (In-Sample)\n",
      "\n",
      "Black-Litterman :\n",
      "0.301465055225363\n",
      "MVP :\n",
      "0.40862707738718346\n",
      "Market :\n",
      "0.29945794177948154\n"
     ]
    }
   ],
   "source": [
    "sharpe_bl = (bl_returns.mean()/bl_returns.std()).iloc[0] #To convert to float\n",
    "sharpe_mvp = (mvp_returns.mean()/mvp_returns.std()).iloc[0] #To convert to float\n",
    "sharpe_mkt = mkt_returns.mean()/mkt_returns.std() #already a float\n",
    "\n",
    "print('Sharpe ratios (In-Sample)\\n')\n",
    "print('Black-Litterman :')\n",
    "print(sharpe_bl)\n",
    "print('MVP :')\n",
    "print(sharpe_mvp)\n",
    "print('Market :')\n",
    "print(sharpe_mkt)"
   ]
  },
  {
   "cell_type": "markdown",
   "id": "f45f6e43",
   "metadata": {},
   "source": [
    "In Sample, the best performer is the MVP, due to wild positions in MSFT that paid off. The black litterman portfolio also outperformed the market portfolio probably because the views that we made for the BL reduced the risk (volatility) more than the market portfolio was able to keep its returns."
   ]
  },
  {
   "cell_type": "markdown",
   "id": "119a48e1",
   "metadata": {},
   "source": [
    "<a id='4.4.2'></a>\n",
    "##### <u> 4.4.2 Out-of-Sample test"
   ]
  },
  {
   "cell_type": "markdown",
   "id": "961e9d6c",
   "metadata": {},
   "source": [
    "We decide to test out of sample on the next year (actually almost the last reported montly return) to better capture the efficiency of each portfolio."
   ]
  },
  {
   "cell_type": "code",
   "execution_count": 17,
   "id": "7eb40edc",
   "metadata": {},
   "outputs": [
    {
     "name": "stderr",
     "output_type": "stream",
     "text": [
      "[*********************100%***********************]  6 of 6 completed\n"
     ]
    },
    {
     "data": {
      "text/html": [
       "<div>\n",
       "<style scoped>\n",
       "    .dataframe tbody tr th:only-of-type {\n",
       "        vertical-align: middle;\n",
       "    }\n",
       "\n",
       "    .dataframe tbody tr th {\n",
       "        vertical-align: top;\n",
       "    }\n",
       "\n",
       "    .dataframe thead th {\n",
       "        text-align: right;\n",
       "    }\n",
       "</style>\n",
       "<table border=\"1\" class=\"dataframe\">\n",
       "  <thead>\n",
       "    <tr style=\"text-align: right;\">\n",
       "      <th>Ticker</th>\n",
       "      <th>AAPL</th>\n",
       "      <th>AMZN</th>\n",
       "      <th>META</th>\n",
       "      <th>MSFT</th>\n",
       "      <th>NVDA</th>\n",
       "      <th>TSLA</th>\n",
       "    </tr>\n",
       "    <tr>\n",
       "      <th>Date</th>\n",
       "      <th></th>\n",
       "      <th></th>\n",
       "      <th></th>\n",
       "      <th></th>\n",
       "      <th></th>\n",
       "      <th></th>\n",
       "    </tr>\n",
       "  </thead>\n",
       "  <tbody>\n",
       "    <tr>\n",
       "      <th>2023-01-01 00:00:00+00:00</th>\n",
       "      <td>0.110521</td>\n",
       "      <td>0.227738</td>\n",
       "      <td>0.237909</td>\n",
       "      <td>0.033317</td>\n",
       "      <td>0.336869</td>\n",
       "      <td>0.406235</td>\n",
       "    </tr>\n",
       "    <tr>\n",
       "      <th>2023-02-01 00:00:00+00:00</th>\n",
       "      <td>0.021623</td>\n",
       "      <td>-0.086299</td>\n",
       "      <td>0.174330</td>\n",
       "      <td>0.006497</td>\n",
       "      <td>0.188309</td>\n",
       "      <td>0.187565</td>\n",
       "    </tr>\n",
       "    <tr>\n",
       "      <th>2023-03-01 00:00:00+00:00</th>\n",
       "      <td>0.120357</td>\n",
       "      <td>0.096148</td>\n",
       "      <td>0.211501</td>\n",
       "      <td>0.158777</td>\n",
       "      <td>0.196459</td>\n",
       "      <td>0.008507</td>\n",
       "    </tr>\n",
       "    <tr>\n",
       "      <th>2023-04-01 00:00:00+00:00</th>\n",
       "      <td>0.028987</td>\n",
       "      <td>0.020912</td>\n",
       "      <td>0.133906</td>\n",
       "      <td>0.065765</td>\n",
       "      <td>-0.000838</td>\n",
       "      <td>-0.207992</td>\n",
       "    </tr>\n",
       "    <tr>\n",
       "      <th>2023-05-01 00:00:00+00:00</th>\n",
       "      <td>0.044613</td>\n",
       "      <td>0.143480</td>\n",
       "      <td>0.101531</td>\n",
       "      <td>0.068769</td>\n",
       "      <td>0.363436</td>\n",
       "      <td>0.241130</td>\n",
       "    </tr>\n",
       "    <tr>\n",
       "      <th>2023-06-01 00:00:00+00:00</th>\n",
       "      <td>0.095844</td>\n",
       "      <td>0.081108</td>\n",
       "      <td>0.084089</td>\n",
       "      <td>0.039266</td>\n",
       "      <td>0.118095</td>\n",
       "      <td>0.283627</td>\n",
       "    </tr>\n",
       "    <tr>\n",
       "      <th>2023-07-01 00:00:00+00:00</th>\n",
       "      <td>0.012785</td>\n",
       "      <td>0.025468</td>\n",
       "      <td>0.110182</td>\n",
       "      <td>-0.013567</td>\n",
       "      <td>0.104767</td>\n",
       "      <td>0.021622</td>\n",
       "    </tr>\n",
       "    <tr>\n",
       "      <th>2023-08-01 00:00:00+00:00</th>\n",
       "      <td>-0.043675</td>\n",
       "      <td>0.032391</td>\n",
       "      <td>-0.071281</td>\n",
       "      <td>-0.024292</td>\n",
       "      <td>0.056196</td>\n",
       "      <td>-0.034962</td>\n",
       "    </tr>\n",
       "    <tr>\n",
       "      <th>2023-09-01 00:00:00+00:00</th>\n",
       "      <td>-0.087448</td>\n",
       "      <td>-0.078907</td>\n",
       "      <td>0.014600</td>\n",
       "      <td>-0.034603</td>\n",
       "      <td>-0.118651</td>\n",
       "      <td>-0.030456</td>\n",
       "    </tr>\n",
       "    <tr>\n",
       "      <th>2023-10-01 00:00:00+00:00</th>\n",
       "      <td>-0.002570</td>\n",
       "      <td>0.046963</td>\n",
       "      <td>0.003531</td>\n",
       "      <td>0.070816</td>\n",
       "      <td>-0.062430</td>\n",
       "      <td>-0.197346</td>\n",
       "    </tr>\n",
       "    <tr>\n",
       "      <th>2023-11-01 00:00:00+00:00</th>\n",
       "      <td>0.112315</td>\n",
       "      <td>0.097678</td>\n",
       "      <td>0.085903</td>\n",
       "      <td>0.120671</td>\n",
       "      <td>0.146886</td>\n",
       "      <td>0.195379</td>\n",
       "    </tr>\n",
       "    <tr>\n",
       "      <th>2023-12-01 00:00:00+00:00</th>\n",
       "      <td>0.014918</td>\n",
       "      <td>0.040044</td>\n",
       "      <td>0.081950</td>\n",
       "      <td>-0.005560</td>\n",
       "      <td>0.058841</td>\n",
       "      <td>0.034988</td>\n",
       "    </tr>\n",
       "    <tr>\n",
       "      <th>2024-01-01 00:00:00+00:00</th>\n",
       "      <td>-0.042227</td>\n",
       "      <td>0.021456</td>\n",
       "      <td>0.102215</td>\n",
       "      <td>0.057281</td>\n",
       "      <td>0.242527</td>\n",
       "      <td>-0.246257</td>\n",
       "    </tr>\n",
       "    <tr>\n",
       "      <th>2024-02-01 00:00:00+00:00</th>\n",
       "      <td>-0.019794</td>\n",
       "      <td>0.138918</td>\n",
       "      <td>0.256293</td>\n",
       "      <td>0.040394</td>\n",
       "      <td>0.285810</td>\n",
       "      <td>0.077901</td>\n",
       "    </tr>\n",
       "    <tr>\n",
       "      <th>2024-03-01 00:00:00+00:00</th>\n",
       "      <td>-0.050076</td>\n",
       "      <td>0.020480</td>\n",
       "      <td>-0.008232</td>\n",
       "      <td>0.018997</td>\n",
       "      <td>0.142128</td>\n",
       "      <td>-0.129235</td>\n",
       "    </tr>\n",
       "    <tr>\n",
       "      <th>2024-04-01 00:00:00+00:00</th>\n",
       "      <td>-0.006706</td>\n",
       "      <td>-0.029826</td>\n",
       "      <td>-0.114111</td>\n",
       "      <td>-0.074610</td>\n",
       "      <td>-0.043715</td>\n",
       "      <td>0.042608</td>\n",
       "    </tr>\n",
       "    <tr>\n",
       "      <th>2024-05-01 00:00:00+00:00</th>\n",
       "      <td>0.128691</td>\n",
       "      <td>0.008229</td>\n",
       "      <td>0.085222</td>\n",
       "      <td>0.066268</td>\n",
       "      <td>0.268871</td>\n",
       "      <td>-0.028372</td>\n",
       "    </tr>\n",
       "    <tr>\n",
       "      <th>2024-06-01 00:00:00+00:00</th>\n",
       "      <td>0.097039</td>\n",
       "      <td>0.095273</td>\n",
       "      <td>0.080093</td>\n",
       "      <td>0.078593</td>\n",
       "      <td>0.126850</td>\n",
       "      <td>0.111186</td>\n",
       "    </tr>\n",
       "    <tr>\n",
       "      <th>2024-07-01 00:00:00+00:00</th>\n",
       "      <td>0.054411</td>\n",
       "      <td>-0.032445</td>\n",
       "      <td>-0.057353</td>\n",
       "      <td>-0.063989</td>\n",
       "      <td>-0.052699</td>\n",
       "      <td>0.172781</td>\n",
       "    </tr>\n",
       "    <tr>\n",
       "      <th>2024-08-01 00:00:00+00:00</th>\n",
       "      <td>0.031160</td>\n",
       "      <td>-0.045352</td>\n",
       "      <td>0.097888</td>\n",
       "      <td>-0.002892</td>\n",
       "      <td>0.020082</td>\n",
       "      <td>-0.077390</td>\n",
       "    </tr>\n",
       "  </tbody>\n",
       "</table>\n",
       "</div>"
      ],
      "text/plain": [
       "Ticker                         AAPL      AMZN      META      MSFT      NVDA  \\\n",
       "Date                                                                          \n",
       "2023-01-01 00:00:00+00:00  0.110521  0.227738  0.237909  0.033317  0.336869   \n",
       "2023-02-01 00:00:00+00:00  0.021623 -0.086299  0.174330  0.006497  0.188309   \n",
       "2023-03-01 00:00:00+00:00  0.120357  0.096148  0.211501  0.158777  0.196459   \n",
       "2023-04-01 00:00:00+00:00  0.028987  0.020912  0.133906  0.065765 -0.000838   \n",
       "2023-05-01 00:00:00+00:00  0.044613  0.143480  0.101531  0.068769  0.363436   \n",
       "2023-06-01 00:00:00+00:00  0.095844  0.081108  0.084089  0.039266  0.118095   \n",
       "2023-07-01 00:00:00+00:00  0.012785  0.025468  0.110182 -0.013567  0.104767   \n",
       "2023-08-01 00:00:00+00:00 -0.043675  0.032391 -0.071281 -0.024292  0.056196   \n",
       "2023-09-01 00:00:00+00:00 -0.087448 -0.078907  0.014600 -0.034603 -0.118651   \n",
       "2023-10-01 00:00:00+00:00 -0.002570  0.046963  0.003531  0.070816 -0.062430   \n",
       "2023-11-01 00:00:00+00:00  0.112315  0.097678  0.085903  0.120671  0.146886   \n",
       "2023-12-01 00:00:00+00:00  0.014918  0.040044  0.081950 -0.005560  0.058841   \n",
       "2024-01-01 00:00:00+00:00 -0.042227  0.021456  0.102215  0.057281  0.242527   \n",
       "2024-02-01 00:00:00+00:00 -0.019794  0.138918  0.256293  0.040394  0.285810   \n",
       "2024-03-01 00:00:00+00:00 -0.050076  0.020480 -0.008232  0.018997  0.142128   \n",
       "2024-04-01 00:00:00+00:00 -0.006706 -0.029826 -0.114111 -0.074610 -0.043715   \n",
       "2024-05-01 00:00:00+00:00  0.128691  0.008229  0.085222  0.066268  0.268871   \n",
       "2024-06-01 00:00:00+00:00  0.097039  0.095273  0.080093  0.078593  0.126850   \n",
       "2024-07-01 00:00:00+00:00  0.054411 -0.032445 -0.057353 -0.063989 -0.052699   \n",
       "2024-08-01 00:00:00+00:00  0.031160 -0.045352  0.097888 -0.002892  0.020082   \n",
       "\n",
       "Ticker                         TSLA  \n",
       "Date                                 \n",
       "2023-01-01 00:00:00+00:00  0.406235  \n",
       "2023-02-01 00:00:00+00:00  0.187565  \n",
       "2023-03-01 00:00:00+00:00  0.008507  \n",
       "2023-04-01 00:00:00+00:00 -0.207992  \n",
       "2023-05-01 00:00:00+00:00  0.241130  \n",
       "2023-06-01 00:00:00+00:00  0.283627  \n",
       "2023-07-01 00:00:00+00:00  0.021622  \n",
       "2023-08-01 00:00:00+00:00 -0.034962  \n",
       "2023-09-01 00:00:00+00:00 -0.030456  \n",
       "2023-10-01 00:00:00+00:00 -0.197346  \n",
       "2023-11-01 00:00:00+00:00  0.195379  \n",
       "2023-12-01 00:00:00+00:00  0.034988  \n",
       "2024-01-01 00:00:00+00:00 -0.246257  \n",
       "2024-02-01 00:00:00+00:00  0.077901  \n",
       "2024-03-01 00:00:00+00:00 -0.129235  \n",
       "2024-04-01 00:00:00+00:00  0.042608  \n",
       "2024-05-01 00:00:00+00:00 -0.028372  \n",
       "2024-06-01 00:00:00+00:00  0.111186  \n",
       "2024-07-01 00:00:00+00:00  0.172781  \n",
       "2024-08-01 00:00:00+00:00 -0.077390  "
      ]
     },
     "execution_count": 17,
     "metadata": {},
     "output_type": "execute_result"
    }
   ],
   "source": [
    "#Set start date and end date\n",
    "start_date_OOS = '2022-11-30'\n",
    "end_date_OOS = '2024-08-31'\n",
    "\n",
    "#Set tickers list\n",
    "tickers = ['AAPL', 'MSFT', 'AMZN', 'NVDA', 'TSLA', 'META']\n",
    "\n",
    "#Download the monthly prices for those tickers, as well as their market capitalization\n",
    "prices_OOS = yf.download(\n",
    "    tickers=tickers,\n",
    "    start=start_date_OOS,\n",
    "    end=end_date_OOS,\n",
    "    interval=\"1mo\"\n",
    ")['Adj Close']\n",
    "\n",
    "returns_OOS = prices_OOS.pct_change().dropna()\n",
    "returns_OOS\n",
    "\n"
   ]
  },
  {
   "cell_type": "code",
   "execution_count": 18,
   "id": "c713827d",
   "metadata": {
    "scrolled": false
   },
   "outputs": [
    {
     "data": {
      "image/png": "[encoded data removed]",
      "text/plain": [
       "<Figure size 720x432 with 1 Axes>"
      ]
     },
     "metadata": {
      "needs_background": "light"
     },
     "output_type": "display_data"
    }
   ],
   "source": [
    "# Calculate portfolio returns by multiplying asset returns with portfolio weights\n",
    "bl_returns_OOS = returns_OOS.dot(bl_weights)\n",
    "mvp_returns_OOS = returns_OOS.dot(mvp_weights) \n",
    "mkt_returns_OOS = returns_OOS.dot(Mkt_Weights)  \n",
    "\n",
    "# Calculate cumulative returns and shift to start from 1\n",
    "bl_cumulative_returns_OOS = (1 + bl_returns_OOS).cumprod().shift(1, fill_value=1)\n",
    "mvp_cumulative_returns_OOS = (1 + mvp_returns_OOS).cumprod().shift(1, fill_value=1)\n",
    "mkt_cumulative_returns_OOS = (1 + mkt_returns_OOS).cumprod().shift(1, fill_value=1)\n",
    "\n",
    "# NVDA Returns What the ... ?\n",
    "# nvda_returns_OOS = returns_OOS['NVDA']\n",
    "# nvda_cumulative_returns_OOS = (1 + nvda_returns_OOS).cumprod().shift(1, fill_value=1)\n",
    "\n",
    "# Plot portfolio cumulative returns\n",
    "plt.figure(figsize=(10, 6))\n",
    "plt.plot(bl_cumulative_returns_OOS, label=\"Black-Litterman Portfolio\")\n",
    "plt.plot(mvp_cumulative_returns_OOS, label=\"Mean Variance Portfolio\")\n",
    "plt.plot(mkt_cumulative_returns_OOS, label=\"Market Portfolio\")\n",
    "#plt.plot(nvda_cumulative_returns_OOS, label=\"NVDA\", linestyle = 'dashed')\n",
    "plt.title('Out-of-Sample Cumulative Portfolio Returns')\n",
    "plt.xlabel('Time')\n",
    "plt.ylabel('Cumulative Returns')\n",
    "plt.legend()\n",
    "plt.grid(True)\n",
    "plt.show()"
   ]
  },
  {
   "cell_type": "markdown",
   "id": "637f6dca",
   "metadata": {},
   "source": [
    "We can see that, out of sample, the mean variance portfolio is still the best performer in cumulative returns.\n",
    "The Market portfolio is closely followed by the BL just like in the In-Sample case."
   ]
  },
  {
   "cell_type": "code",
   "execution_count": 19,
   "id": "84636954",
   "metadata": {},
   "outputs": [
    {
     "data": {
      "image/png": "[encoded data removed]",
      "text/plain": [
       "<Figure size 720x432 with 1 Axes>"
      ]
     },
     "metadata": {
      "needs_background": "light"
     },
     "output_type": "display_data"
    }
   ],
   "source": [
    "# Plot portfolio cumulative returns\n",
    "plt.figure(figsize=(10, 6))\n",
    "plt.plot(bl_cumulative_returns_OOS, label=\"Black-Litterman Portfolio\")\n",
    "plt.plot(mkt_cumulative_returns_OOS, label=\"Market Portfolio\")\n",
    "#plt.plot(nvda_cumulative_returns_OOS, label=\"NVDA\", linestyle = 'dashed')\n",
    "plt.title('Out-of-Sample Cumulative Portfolio Returns')\n",
    "plt.xlabel('Time')\n",
    "plt.ylabel('Cumulative Returns')\n",
    "plt.legend()\n",
    "plt.grid(True)\n",
    "plt.show()"
   ]
  },
  {
   "cell_type": "code",
   "execution_count": 20,
   "id": "c73e34bf",
   "metadata": {},
   "outputs": [
    {
     "name": "stdout",
     "output_type": "stream",
     "text": [
      "Sharpe ratios (Out-of-Sample) :\n",
      "\n",
      "Black-Litterman :\n",
      "0.679262610695005\n",
      "MVP :\n",
      "0.7068850898355944\n",
      "Market :\n",
      "0.7269081503351924\n",
      "\n",
      "Difference mkt - BL:\n",
      "0.04764553964018736\n"
     ]
    }
   ],
   "source": [
    "sharpe_bl_OOS = (bl_returns_OOS.mean()/bl_returns_OOS.std()).iloc[0] #To convert to float\n",
    "sharpe_mvp_OOS = (mvp_returns_OOS.mean()/mvp_returns_OOS.std()).iloc[0] #To convert to float\n",
    "sharpe_mkt_OOS = mkt_returns_OOS.mean()/mkt_returns_OOS.std() #already a float\n",
    "\n",
    "print('Sharpe ratios (Out-of-Sample) :\\n')\n",
    "\n",
    "print('Black-Litterman :')\n",
    "print(sharpe_bl_OOS)\n",
    "print('MVP :')\n",
    "print(sharpe_mvp_OOS)\n",
    "print('Market :')\n",
    "print(sharpe_mkt_OOS)\n",
    "\n",
    "print('\\nDifference mkt - BL:')\n",
    "print(sharpe_mkt_OOS - sharpe_bl_OOS)"
   ]
  },
  {
   "cell_type": "markdown",
   "id": "7f61f881",
   "metadata": {},
   "source": [
    "We can see that, out of sample The Market becomes the best performer. Closely followed by the MVP, then by the BLack-Litterman portfolio.\n",
    "\n",
    "* The over performance of the MVP is probably due to its wild positions and the fact that they paid out (especially NVDA and MSFT, see our analysis below).\n",
    "* This sub performance of the MVP is probably due to our views that didn't realize as much as we wish they would have: 3 out of the 4 turned out the be losing (see out analysis below)."
   ]
  },
  {
   "cell_type": "markdown",
   "id": "95ca8a56",
   "metadata": {},
   "source": [
    "<a id='4.4.3'></a>\n",
    "##### <u> 4.4.3 Retrospective on picks"
   ]
  },
  {
   "cell_type": "code",
   "execution_count": 21,
   "id": "a3aca1dd",
   "metadata": {},
   "outputs": [
    {
     "name": "stdout",
     "output_type": "stream",
     "text": [
      "\n",
      "Stock Contributions to MVP Cumulative Returns:\n",
      "       Stock  Final Contribution (%)  Cumulative Return\n",
      "Ticker                                                 \n",
      "NVDA    NVDA               85.868523           3.094666\n",
      "MSFT    MSFT               48.766678           1.757531\n",
      "TSLA    TSLA                4.949289           0.178370\n",
      "AAPL    AAPL               -5.602910          -0.201927\n",
      "AMZN    AMZN               -9.634510          -0.347224\n",
      "META    META              -24.347070          -0.877458\n"
     ]
    },
    {
     "data": {
      "image/png": "[encoded data removed]",
      "text/plain": [
       "<Figure size 864x432 with 1 Axes>"
      ]
     },
     "metadata": {
      "needs_background": "light"
     },
     "output_type": "display_data"
    }
   ],
   "source": [
    "# Calculate cumulative returns for individual stocks\n",
    "cumulative_returns_stocks = (1 + returns_OOS).cumprod()\n",
    "\n",
    "# Multiply cumulative returns by the MVP weights to get contributions\n",
    "stock_contributions = cumulative_returns_stocks * mvp_weights['Weights']\n",
    "\n",
    "# Calculate the cumulative MVP return for validation\n",
    "mvp_cumulative_returns_OOS = stock_contributions.sum(axis=1)\n",
    "\n",
    "# Normalize contributions by total MVP return to get percentage contributions\n",
    "total_mvp_return = mvp_cumulative_returns_OOS.iloc[-1]  # Total MVP return at the end\n",
    "stock_contributions_percent = stock_contributions.iloc[-1] / total_mvp_return * 100\n",
    "\n",
    "# Summarize results\n",
    "contribution_summary = pd.DataFrame({\n",
    "    'Stock': stock_contributions.columns,\n",
    "    'Final Contribution (%)': stock_contributions_percent,\n",
    "    'Cumulative Return': stock_contributions.iloc[-1]\n",
    "}).sort_values(by='Final Contribution (%)', ascending=False)\n",
    "\n",
    "# Display the contributions\n",
    "print(\"\\nStock Contributions to MVP Cumulative Returns:\")\n",
    "print(contribution_summary)\n",
    "\n",
    "# Plot the contributions over time\n",
    "\n",
    "plt.figure(figsize=(12, 6))\n",
    "for stock in stock_contributions.columns:\n",
    "    plt.plot(stock_contributions.index, stock_contributions[stock], label=stock)\n",
    "plt.plot(mvp_cumulative_returns_OOS, label='MVP Total', color='black', linewidth=2, linestyle='--')\n",
    "\n",
    "plt.title('Stock Contributions to MVP Cumulative Returns')\n",
    "plt.xlabel('Time')\n",
    "plt.ylabel('Cumulative Contribution')\n",
    "plt.legend()\n",
    "plt.grid()\n",
    "plt.show()\n"
   ]
  },
  {
   "cell_type": "code",
   "execution_count": 22,
   "id": "afcf46f4",
   "metadata": {},
   "outputs": [
    {
     "name": "stdout",
     "output_type": "stream",
     "text": [
      "\n",
      "Comparison of Assumptions and Realized Returns:\n",
      "                    Assumption  Realized  Difference\n",
      "AAPL Excess Return        0.10  0.031038   -0.068962\n",
      "MSFT Excess Return        0.05  0.118890    0.068890\n",
      "NVDA vs TSLA              0.02 -0.038932   -0.058932\n",
      "META vs TSLA              0.01 -0.039336   -0.049336\n"
     ]
    }
   ],
   "source": [
    "realized_returns = returns_OOS[tickers].mean()  # Average realized OOS returns\n",
    "realized_views = P @ realized_returns.values\n",
    "\n",
    "# Create a DataFrame to summarize results\n",
    "results = pd.DataFrame({\n",
    "    'Assumption': q,\n",
    "    'Realized': realized_views,\n",
    "    'Difference': realized_views - q\n",
    "}, index=['AAPL Excess Return', 'MSFT Excess Return', 'NVDA vs TSLA', 'META vs TSLA'])\n",
    "\n",
    "# Display the results\n",
    "print(\"\\nComparison of Assumptions and Realized Returns:\")\n",
    "print(results)\n"
   ]
  }
 ],
 "metadata": {
  "kernelspec": {
   "display_name": "Python 3",
   "language": "python",
   "name": "python3"
  },
  "language_info": {
   "codemirror_mode": {
    "name": "ipython",
    "version": 3
   },
   "file_extension": ".py",
   "mimetype": "text/x-python",
   "name": "python",
   "nbconvert_exporter": "python",
   "pygments_lexer": "ipython3",
   "version": "3.8.8"
  }
 },
 "nbformat": 4,
 "nbformat_minor": 5
}
